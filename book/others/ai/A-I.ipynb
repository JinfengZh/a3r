{
 "cells": [
  {
   "cell_type": "code",
   "execution_count": 1,
   "metadata": {},
   "outputs": [],
   "source": [
    "from processing import preprocessing,get_movies_aspect_matrix,dict_movie_aspect,viewed_matrix\n",
    "import json\n",
    "import pandas as pd\n",
    "import numpy as np\n",
    "import scipy\n",
    "import sklearn.preprocessing as pp\n",
    "from compute_strength import film_strength\n",
    "from sklearn.metrics import mean_squared_error\n",
    "from sklearn.metrics import mean_absolute_error\n",
    "from math import sqrt"
   ]
  },
  {
   "cell_type": "code",
   "execution_count": 2,
   "metadata": {},
   "outputs": [],
   "source": [
    "import json\n",
    "import pandas as pd\n",
    "trainset = pd.read_csv('/Users/user/Downloads/thesis/book/train.csv')\n",
    "testset = pd.read_csv('/Users/user/Downloads/thesis/book/test.csv')\n",
    "#trainset['user_rating'] = (trainset['user_rating'] + 1) * 2 + 1\n",
    "#testset['user_rating'] = (testset['user_rating'] + 1) * 2 + 1\n",
    "def traite_train_test(df):\n",
    "    df['authors'] = df['authors'].apply(lambda x: json.loads(x))\n",
    "    df['genres'] = df['genres'].apply(lambda x: json.loads(x))\n",
    "    return df\n",
    "trainset = traite_train_test(trainset)\n",
    "testset = traite_train_test(testset)\n",
    "hehe_test = trainset.copy()\n",
    "df_empty = testset.copy()\n",
    "df_empty['user'] = df_empty['user'].astype('int')\n",
    "df_empty['rating'] = df_empty['rating'].astype('float')\n",
    "df_empty['item'] = df_empty['item'].astype('int')\n",
    "hehe_test.index = range(len(hehe_test))\n",
    "df_empty.index = range(len(df_empty))\n",
    "hehe_test = hehe_test.rename(columns={'user':'userID','item':'itemID','rating':'cnt'})\n",
    "df_empty = df_empty.rename(columns={'user':'userID','item':'itemID','rating':'cnt'})"
   ]
  },
  {
   "cell_type": "code",
   "execution_count": 3,
   "metadata": {},
   "outputs": [],
   "source": [
    "df_all = pd.concat([hehe_test,df_empty])"
   ]
  },
  {
   "cell_type": "code",
   "execution_count": null,
   "metadata": {},
   "outputs": [],
   "source": []
  },
  {
   "cell_type": "code",
   "execution_count": 4,
   "metadata": {},
   "outputs": [],
   "source": [
    "df_sum = df_all.copy()\n",
    "movie_set = set(df_sum['itemID'])\n",
    "movie = df_sum[['itemID', 'authors', 'genres','cnt']].loc[df_sum[['itemID', 'authors', 'genres','cnt']].astype(str).drop_duplicates().index]\n",
    "movie.index = range(len(movie))\n",
    "movie = movie[['itemID', 'authors', 'genres','cnt']].loc[movie[['itemID', 'authors', 'genres','cnt']].astype(str).drop_duplicates().index]"
   ]
  },
  {
   "cell_type": "code",
   "execution_count": null,
   "metadata": {},
   "outputs": [],
   "source": []
  },
  {
   "cell_type": "code",
   "execution_count": 5,
   "metadata": {},
   "outputs": [],
   "source": [
    "ratings_dict = dict()\n",
    "train_ratings_dict = dict()\n",
    "\n",
    "train_ratings_dict[\"userID\"] = []\n",
    "train_ratings_dict[\"itemID\"] = []\n",
    "train_ratings_dict[\"rating\"] = []\n",
    "\n",
    "\n",
    "test_eva_dict = hehe_test.to_dict('records')\n",
    "for row in test_eva_dict[:]:\n",
    "    tuple_key = (row['userID'],row['itemID'])\n",
    "    ratings_dict[tuple_key] = row['cnt']\n",
    "    train_ratings_dict[\"userID\"].append(row['userID'])\n",
    "    train_ratings_dict[\"itemID\"].append(row['itemID'])\n",
    "    train_ratings_dict[\"rating\"].append(row['cnt'])"
   ]
  },
  {
   "cell_type": "code",
   "execution_count": 6,
   "metadata": {},
   "outputs": [],
   "source": [
    "compressed_test_ratings_dict = dict()\n",
    "test_eva_dict = df_empty.to_dict('records')\n",
    "for row in test_eva_dict[:]:\n",
    "    if row['userID'] not in compressed_test_ratings_dict:\n",
    "        compressed_test_ratings_dict[row['userID']] = []\n",
    "    compressed_test_ratings_dict[row['userID']].append((row['itemID'],row['cnt']))"
   ]
  },
  {
   "cell_type": "code",
   "execution_count": 7,
   "metadata": {},
   "outputs": [
    {
     "data": {
      "text/plain": [
       "Index(['userID', 'itemID', 'authors', 'genres', 'cnt'], dtype='object')"
      ]
     },
     "execution_count": 7,
     "metadata": {},
     "output_type": "execute_result"
    }
   ],
   "source": [
    "df_all.columns\n"
   ]
  },
  {
   "cell_type": "code",
   "execution_count": 8,
   "metadata": {},
   "outputs": [],
   "source": [
    "films = dict()\n",
    "\n",
    "\n",
    "test_eva_dict = movie.to_dict('records')\n",
    "for row in test_eva_dict[:]:\n",
    "    if row['itemID'] not in films:\n",
    "        films[row['itemID']] = dict()\n",
    "    films[row['itemID']]['authors'] = row['authors']\n",
    "    films[row['itemID']]['genres'] = row['genres']\n",
    "    #films[row['itemID']]['rating'] = [row['cnt']]\n",
    "    \n",
    "    \n",
    "    "
   ]
  },
  {
   "cell_type": "code",
   "execution_count": 9,
   "metadata": {},
   "outputs": [],
   "source": [
    "movies_watched = viewed_matrix(train_ratings_dict, films, 'netflix')\n",
    "movies_watched = pd.DataFrame.from_dict(\n",
    "    movies_watched, dtype='int64', orient='index').T\n",
    "movies_watched = movies_watched.replace(np.nan, 0)"
   ]
  },
  {
   "cell_type": "code",
   "execution_count": null,
   "metadata": {},
   "outputs": [],
   "source": []
  },
  {
   "cell_type": "code",
   "execution_count": null,
   "metadata": {},
   "outputs": [],
   "source": []
  },
  {
   "cell_type": "code",
   "execution_count": 10,
   "metadata": {},
   "outputs": [],
   "source": [
    "user_ids_in_matrix = movies_watched.index.values\n",
    "movies_watched = movies_watched.T\n",
    "movies_watched = scipy.sparse.csc_matrix(movies_watched.values)\n",
    "normalized_matrix_by_column = pp.normalize(\n",
    "    movies_watched.tocsc(), norm='l2', axis=0)\n",
    "cosine_sims = normalized_matrix_by_column.T * normalized_matrix_by_column\n",
    "assert cosine_sims.shape[0] == cosine_sims.shape[1] == len(\n",
    "    user_ids_in_matrix)"
   ]
  },
  {
   "cell_type": "code",
   "execution_count": 11,
   "metadata": {},
   "outputs": [
    {
     "data": {
      "text/plain": [
       "5575"
      ]
     },
     "execution_count": 11,
     "metadata": {},
     "output_type": "execute_result"
    }
   ],
   "source": [
    "len(user_ids_in_matrix)"
   ]
  },
  {
   "cell_type": "code",
   "execution_count": 12,
   "metadata": {},
   "outputs": [],
   "source": [
    "sims = dict()\n",
    "for i in user_ids_in_matrix:\n",
    "    sims[i] = []\n",
    "cosine_sims = cosine_sims.todok().items()\n",
    "\n",
    "for ((row, col), sim) in cosine_sims:\n",
    "    if row != col:\n",
    "        sims[user_ids_in_matrix[row]].append(\n",
    "                (user_ids_in_matrix[col], sim))"
   ]
  },
  {
   "cell_type": "code",
   "execution_count": 13,
   "metadata": {},
   "outputs": [
    {
     "name": "stdout",
     "output_type": "stream",
     "text": [
      "We have 1360 authors (an example is 932)\n",
      "We have 305 genres (an example is 1608)\n"
     ]
    }
   ],
   "source": [
    "category_in_db, movies_all_authors_matrix = get_movies_aspect_matrix(\n",
    "    films, \"authors\")\n",
    "downloads_in_db, movies_all_genres_matrix = get_movies_aspect_matrix(\n",
    "    films, \"genres\")\n"
   ]
  },
  {
   "cell_type": "code",
   "execution_count": 14,
   "metadata": {},
   "outputs": [
    {
     "data": {
      "text/plain": [
       "Index(['userID', 'itemID', 'authors', 'genres', 'cnt'], dtype='object')"
      ]
     },
     "execution_count": 14,
     "metadata": {},
     "output_type": "execute_result"
    }
   ],
   "source": [
    "df_all.columns\n"
   ]
  },
  {
   "cell_type": "code",
   "execution_count": 15,
   "metadata": {},
   "outputs": [],
   "source": [
    "MUR = 0.5\n",
    "MUC = 0.25\n",
    "MUD = 0.25"
   ]
  },
  {
   "cell_type": "code",
   "execution_count": 16,
   "metadata": {},
   "outputs": [
    {
     "ename": "KeyError",
     "evalue": "3630",
     "output_type": "error",
     "traceback": [
      "\u001b[0;31m---------------------------------------------------------------------------\u001b[0m",
      "\u001b[0;31mKeyError\u001b[0m                                  Traceback (most recent call last)",
      "\u001b[0;32m<ipython-input-16-fe1decca8ebd>\u001b[0m in \u001b[0;36m<module>\u001b[0;34m\u001b[0m\n\u001b[1;32m      5\u001b[0m             \u001b[0mstr_rating\u001b[0m \u001b[0;34m=\u001b[0m \u001b[0mstr_rating\u001b[0m\u001b[0;34m\u001b[0m\u001b[0;34m\u001b[0m\u001b[0m\n\u001b[1;32m      6\u001b[0m             strength = film_strength(MUR, MUC, MUD, user_id, film_id, films, ratings_dict,\n\u001b[0;32m----> 7\u001b[0;31m                                      sims[user_id],movies_all_genres_matrix,movies_all_authors_matrix)\n\u001b[0m\u001b[1;32m      8\u001b[0m             \u001b[0mstrength\u001b[0m \u001b[0;34m=\u001b[0m \u001b[0mstrength\u001b[0m\u001b[0;34m\u001b[0m\u001b[0;34m\u001b[0m\u001b[0m\n\u001b[1;32m      9\u001b[0m             \u001b[0mpredictions\u001b[0m\u001b[0;34m.\u001b[0m\u001b[0mappend\u001b[0m\u001b[0;34m(\u001b[0m\u001b[0;34m(\u001b[0m\u001b[0mfloat\u001b[0m\u001b[0;34m(\u001b[0m\u001b[0mstr_rating\u001b[0m\u001b[0;34m)\u001b[0m\u001b[0;34m,\u001b[0m \u001b[0mfloat\u001b[0m\u001b[0;34m(\u001b[0m\u001b[0mstrength\u001b[0m\u001b[0;34m)\u001b[0m\u001b[0;34m)\u001b[0m\u001b[0;34m)\u001b[0m\u001b[0;34m\u001b[0m\u001b[0;34m\u001b[0m\u001b[0m\n",
      "\u001b[0;31mKeyError\u001b[0m: 3630"
     ]
    }
   ],
   "source": [
    "predictions = []\n",
    "for user_id, true_ratings in compressed_test_ratings_dict.items():\n",
    "    if true_ratings:\n",
    "        for (film_id, str_rating) in true_ratings:\n",
    "            str_rating = str_rating \n",
    "            strength = film_strength(MUR, MUC, MUD, user_id, film_id, films, ratings_dict,\n",
    "                                     sims[user_id],movies_all_genres_matrix,movies_all_authors_matrix)\n",
    "            strength = strength \n",
    "            predictions.append((float(str_rating), float(strength)))\n",
    "\n"
   ]
  },
  {
   "cell_type": "code",
   "execution_count": null,
   "metadata": {},
   "outputs": [],
   "source": [
    "df_all[df_all['userID'] == 3630]"
   ]
  },
  {
   "cell_type": "code",
   "execution_count": 17,
   "metadata": {},
   "outputs": [
    {
     "data": {
      "text/plain": [
       "(1.2825705514863124, 1.0417495029821073)"
      ]
     },
     "execution_count": 17,
     "metadata": {},
     "output_type": "execute_result"
    }
   ],
   "source": [
    "true_ratings = [x for (x, y) in predictions]\n",
    "predicted_ratings = [round(y) for (x, y) in predictions]\n",
    "sqrt(mean_squared_error(true_ratings, predicted_ratings)), mean_absolute_error(true_ratings, predicted_ratings)"
   ]
  },
  {
   "cell_type": "code",
   "execution_count": null,
   "metadata": {},
   "outputs": [],
   "source": []
  }
 ],
 "metadata": {
  "kernelspec": {
   "display_name": "Python 3",
   "language": "python",
   "name": "python3"
  },
  "language_info": {
   "codemirror_mode": {
    "name": "ipython",
    "version": 3
   },
   "file_extension": ".py",
   "mimetype": "text/x-python",
   "name": "python",
   "nbconvert_exporter": "python",
   "pygments_lexer": "ipython3",
   "version": "3.6.7"
  },
  "toc": {
   "base_numbering": 1,
   "nav_menu": {},
   "number_sections": true,
   "sideBar": true,
   "skip_h1_title": false,
   "title_cell": "Table of Contents",
   "title_sidebar": "Contents",
   "toc_cell": false,
   "toc_position": {},
   "toc_section_display": true,
   "toc_window_display": false
  }
 },
 "nbformat": 4,
 "nbformat_minor": 4
}
