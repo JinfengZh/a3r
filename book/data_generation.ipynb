{
 "cells": [
  {
   "cell_type": "code",
   "execution_count": 1,
   "metadata": {},
   "outputs": [],
   "source": [
    "import pandas as pd\n",
    "import csv"
   ]
  },
  {
   "cell_type": "code",
   "execution_count": 2,
   "metadata": {},
   "outputs": [],
   "source": [
    "train = pd.read_csv('train.dat',sep='\\t',header=None)\n",
    "train = train.rename(columns = {0:'user',1:'item',2:'rating'})\n",
    "test = pd.read_csv('test.dat',sep='\\t',header=None)\n",
    "test = test.rename(columns = {0:'user',1:'item',2:'rating'})\n",
    "validation = pd.read_csv('valid.dat',sep='\\t',header=None)\n",
    "validation = validation.rename(columns = {0:'user',1:'item',2:'rating'})\n",
    "df = pd.concat([train,test,validation])"
   ]
  },
  {
   "cell_type": "code",
   "execution_count": null,
   "metadata": {},
   "outputs": [],
   "source": [
    "df.to_csv('ratings.csv',index=False)"
   ]
  },
  {
   "cell_type": "code",
   "execution_count": 3,
   "metadata": {},
   "outputs": [
    {
     "data": {
      "text/plain": [
       "2680"
      ]
     },
     "execution_count": 3,
     "metadata": {},
     "output_type": "execute_result"
    }
   ],
   "source": [
    "len(df['item'].value_counts())"
   ]
  },
  {
   "cell_type": "code",
   "execution_count": 4,
   "metadata": {},
   "outputs": [
    {
     "data": {
      "text/html": [
       "<div>\n",
       "<style scoped>\n",
       "    .dataframe tbody tr th:only-of-type {\n",
       "        vertical-align: middle;\n",
       "    }\n",
       "\n",
       "    .dataframe tbody tr th {\n",
       "        vertical-align: top;\n",
       "    }\n",
       "\n",
       "    .dataframe thead th {\n",
       "        text-align: right;\n",
       "    }\n",
       "</style>\n",
       "<table border=\"1\" class=\"dataframe\">\n",
       "  <thead>\n",
       "    <tr style=\"text-align: right;\">\n",
       "      <th></th>\n",
       "      <th>0</th>\n",
       "      <th>1</th>\n",
       "    </tr>\n",
       "  </thead>\n",
       "  <tbody>\n",
       "    <tr>\n",
       "      <th>0</th>\n",
       "      <td>0</td>\n",
       "      <td>1</td>\n",
       "    </tr>\n",
       "    <tr>\n",
       "      <th>1</th>\n",
       "      <td>1</td>\n",
       "      <td>2</td>\n",
       "    </tr>\n",
       "    <tr>\n",
       "      <th>2</th>\n",
       "      <td>2</td>\n",
       "      <td>3</td>\n",
       "    </tr>\n",
       "    <tr>\n",
       "      <th>3</th>\n",
       "      <td>3</td>\n",
       "      <td>7</td>\n",
       "    </tr>\n",
       "    <tr>\n",
       "      <th>4</th>\n",
       "      <td>4</td>\n",
       "      <td>9</td>\n",
       "    </tr>\n",
       "    <tr>\n",
       "      <th>...</th>\n",
       "      <td>...</td>\n",
       "      <td>...</td>\n",
       "    </tr>\n",
       "    <tr>\n",
       "      <th>2675</th>\n",
       "      <td>2675</td>\n",
       "      <td>8154</td>\n",
       "    </tr>\n",
       "    <tr>\n",
       "      <th>2676</th>\n",
       "      <td>2676</td>\n",
       "      <td>8163</td>\n",
       "    </tr>\n",
       "    <tr>\n",
       "      <th>2677</th>\n",
       "      <td>2677</td>\n",
       "      <td>8166</td>\n",
       "    </tr>\n",
       "    <tr>\n",
       "      <th>2678</th>\n",
       "      <td>2678</td>\n",
       "      <td>8168</td>\n",
       "    </tr>\n",
       "    <tr>\n",
       "      <th>2679</th>\n",
       "      <td>2679</td>\n",
       "      <td>8169</td>\n",
       "    </tr>\n",
       "  </tbody>\n",
       "</table>\n",
       "<p>2680 rows × 2 columns</p>\n",
       "</div>"
      ],
      "text/plain": [
       "         0     1\n",
       "0        0     1\n",
       "1        1     2\n",
       "2        2     3\n",
       "3        3     7\n",
       "4        4     9\n",
       "...    ...   ...\n",
       "2675  2675  8154\n",
       "2676  2676  8163\n",
       "2677  2677  8166\n",
       "2678  2678  8168\n",
       "2679  2679  8169\n",
       "\n",
       "[2680 rows x 2 columns]"
      ]
     },
     "execution_count": 4,
     "metadata": {},
     "output_type": "execute_result"
    }
   ],
   "source": [
    "jiba = pd.read_csv('i_map.dat',sep = '\\t',header = None)\n",
    "jiba"
   ]
  },
  {
   "cell_type": "code",
   "execution_count": 5,
   "metadata": {},
   "outputs": [],
   "source": [
    "haha = pd.read_csv('i2kg_map.tsv',sep='\\t', header=None)\n",
    "haha = haha.rename(columns = {0:'item',1:'name',2:'url'})\n",
    "haha = haha.sort_values(by='item',ascending=True)"
   ]
  },
  {
   "cell_type": "code",
   "execution_count": 6,
   "metadata": {},
   "outputs": [],
   "source": [
    "haha_final = haha[haha['item'].isin(jiba[1])]"
   ]
  },
  {
   "cell_type": "code",
   "execution_count": 9,
   "metadata": {},
   "outputs": [],
   "source": [
    "with open(\"attribute.json\", 'r', encoding='UTF-8') as f:\n",
    "    info = json.load(f)\n",
    "info = {int(k): v for k, v in info.items()}"
   ]
  },
  {
   "cell_type": "code",
   "execution_count": 10,
   "metadata": {},
   "outputs": [],
   "source": [
    "from concurrent.futures import ProcessPoolExecutor\n",
    "THREADS = 16\n",
    "def map_aspect_values_to_movies(x):\n",
    "    (film, meta), aspect = x\n",
    "    aspects = dict()\n",
    "    if aspect == \"director\" and type(meta[aspect]) is str:\n",
    "        aspects[meta[aspect]] = 1\n",
    "    else:\n",
    "        for g in meta[aspect]:\n",
    "            aspects[g] = 1\n",
    "    return film, meta, aspects\n",
    "\n",
    "\n",
    "def dict_movie_aspect(paper_films, aspect):\n",
    "    paper_films_aspect_prepended = map(\n",
    "        lambda e: (e, aspect), list(paper_films.items()))\n",
    "    aspect_dict = dict()\n",
    "    with ProcessPoolExecutor(max_workers=THREADS) as executor:\n",
    "        results = executor.map(map_aspect_values_to_movies,\n",
    "                               paper_films_aspect_prepended)\n",
    "    for film, meta, aspects in results:\n",
    "        aspect_dict[film] = aspects\n",
    "\n",
    "    return aspect_dict"
   ]
  },
  {
   "cell_type": "code",
   "execution_count": 11,
   "metadata": {},
   "outputs": [],
   "source": [
    "import numpy as np\n",
    "book_genres = dict_movie_aspect(info, \"genre\")\n",
    "book_authors = dict_movie_aspect(info,'author')\n",
    "authors = pd.DataFrame.from_dict(book_authors,dtype = 'int64',orient = 'index').T.replace(np.nan, 0).index\n",
    "genres = pd.DataFrame.from_dict(book_genres,dtype = 'int64',orient = 'index').T.replace(np.nan, 0).index"
   ]
  },
  {
   "cell_type": "code",
   "execution_count": 12,
   "metadata": {},
   "outputs": [
    {
     "name": "stderr",
     "output_type": "stream",
     "text": [
      "/Users/user/anaconda3/envs/python37/lib/python3.6/site-packages/ipykernel_launcher.py:1: SettingWithCopyWarning: \n",
      "A value is trying to be set on a copy of a slice from a DataFrame.\n",
      "Try using .loc[row_indexer,col_indexer] = value instead\n",
      "\n",
      "See the caveats in the documentation: https://pandas.pydata.org/pandas-docs/stable/user_guide/indexing.html#returning-a-view-versus-a-copy\n",
      "  \"\"\"Entry point for launching an IPython kernel.\n",
      "/Users/user/anaconda3/envs/python37/lib/python3.6/site-packages/ipykernel_launcher.py:2: SettingWithCopyWarning: \n",
      "A value is trying to be set on a copy of a slice from a DataFrame.\n",
      "Try using .loc[row_indexer,col_indexer] = value instead\n",
      "\n",
      "See the caveats in the documentation: https://pandas.pydata.org/pandas-docs/stable/user_guide/indexing.html#returning-a-view-versus-a-copy\n",
      "  \n"
     ]
    }
   ],
   "source": [
    "haha_final['authors'] = haha_final['item'].map(info)\n",
    "haha_final['genres'] = haha_final['item'].map(info)"
   ]
  },
  {
   "cell_type": "code",
   "execution_count": 13,
   "metadata": {},
   "outputs": [
    {
     "name": "stderr",
     "output_type": "stream",
     "text": [
      "/Users/user/anaconda3/envs/python37/lib/python3.6/site-packages/ipykernel_launcher.py:2: SettingWithCopyWarning: \n",
      "A value is trying to be set on a copy of a slice from a DataFrame\n",
      "\n",
      "See the caveats in the documentation: https://pandas.pydata.org/pandas-docs/stable/user_guide/indexing.html#returning-a-view-versus-a-copy\n",
      "  \n",
      "/Users/user/anaconda3/envs/python37/lib/python3.6/site-packages/IPython/core/interactiveshell.py:3343: SettingWithCopyWarning: \n",
      "A value is trying to be set on a copy of a slice from a DataFrame\n",
      "\n",
      "See the caveats in the documentation: https://pandas.pydata.org/pandas-docs/stable/user_guide/indexing.html#returning-a-view-versus-a-copy\n",
      "  exec(code_obj, self.user_global_ns, self.user_ns)\n",
      "/Users/user/anaconda3/envs/python37/lib/python3.6/site-packages/ipykernel_launcher.py:3: SettingWithCopyWarning: \n",
      "A value is trying to be set on a copy of a slice from a DataFrame\n",
      "\n",
      "See the caveats in the documentation: https://pandas.pydata.org/pandas-docs/stable/user_guide/indexing.html#returning-a-view-versus-a-copy\n",
      "  This is separate from the ipykernel package so we can avoid doing imports until\n"
     ]
    }
   ],
   "source": [
    "for i in haha_final.index:\n",
    "    haha_final['authors'][i] = info[haha_final['item'][i]]['author']\n",
    "    haha_final['genres'][i] = info[haha_final['item'][i]]['genre']"
   ]
  },
  {
   "cell_type": "code",
   "execution_count": 14,
   "metadata": {},
   "outputs": [],
   "source": [
    "haha_final.index = range(len(haha_final))\n",
    "#del haha_final['url']\n",
    "jiba = jiba.rename(columns = {0:'real',1:'item'})"
   ]
  },
  {
   "cell_type": "code",
   "execution_count": 15,
   "metadata": {},
   "outputs": [],
   "source": [
    "final = pd.merge(haha_final,jiba)"
   ]
  },
  {
   "cell_type": "code",
   "execution_count": 16,
   "metadata": {},
   "outputs": [],
   "source": [
    "del final['item']\n",
    "final = final.rename(columns = {\"real\":\"item\"})"
   ]
  },
  {
   "cell_type": "code",
   "execution_count": 17,
   "metadata": {},
   "outputs": [],
   "source": [
    "model_df = pd.merge(df,final)"
   ]
  },
  {
   "cell_type": "code",
   "execution_count": 18,
   "metadata": {},
   "outputs": [],
   "source": [
    "model_df = model_df[['user', 'item', 'authors', 'genres','rating']]"
   ]
  },
  {
   "cell_type": "code",
   "execution_count": 19,
   "metadata": {},
   "outputs": [],
   "source": [
    "authors_dict = dict(zip(authors, range(len(authors))))\n",
    "genres_dict = dict(zip(genres, range(\n",
    "    len(authors), len(authors) + len(genres))))"
   ]
  },
  {
   "cell_type": "code",
   "execution_count": 20,
   "metadata": {},
   "outputs": [],
   "source": [
    "from operator import itemgetter\n",
    "def change_author(x):\n",
    "    qunima = itemgetter(*x)(authors_dict)\n",
    "    if type(qunima) == int:\n",
    "        return [qunima]\n",
    "    else:\n",
    "        return change_list(qunima)\n",
    "    \n",
    "def change_genre(x):\n",
    "    qunima = itemgetter(*x)(genres_dict)\n",
    "    if type(qunima) == int:\n",
    "        return [qunima]\n",
    "    else:\n",
    "        return change_list(qunima)    \n",
    "\n",
    "def change_list(x):\n",
    "    return list(x)\n",
    "hehe = model_df.copy()"
   ]
  },
  {
   "cell_type": "code",
   "execution_count": 22,
   "metadata": {},
   "outputs": [],
   "source": [
    "hehe['authors'] = hehe['authors'].map(change_author)\n",
    "hehe['genres'] = hehe['genres'].map(change_genre)"
   ]
  },
  {
   "cell_type": "code",
   "execution_count": 23,
   "metadata": {},
   "outputs": [],
   "source": [
    "def data_split(df):  # This function randomly splits the whole dataset into training set and test set with the ration train:test = 8:2\n",
    "    trainset = df.sample(frac=0.8, random_state=0, axis=0)\n",
    "    trainset.index = range(len(trainset))\n",
    "    testset = df[~df.index.isin(trainset.index)]\n",
    "    testset.index = range(len(testset))\n",
    "    return trainset, testset"
   ]
  },
  {
   "cell_type": "code",
   "execution_count": 24,
   "metadata": {},
   "outputs": [],
   "source": [
    "#hehe = final.copy()\n",
    "trainset = hehe.sample(frac=0.8, random_state=0, axis=0)\n",
    "testset = hehe[~hehe.index.isin(trainset.index)]\n",
    "trainset.index = range(len(trainset))\n",
    "testset.index = range(len(testset))\n",
    "rate = 0.0"
   ]
  },
  {
   "cell_type": "code",
   "execution_count": null,
   "metadata": {},
   "outputs": [],
   "source": [
    "trainset.to_csv('train.csv',index=False)\n",
    "testset.to_csv('test.csv',index=False)"
   ]
  }
 ],
 "metadata": {
  "kernelspec": {
   "display_name": "py37-caffe-notebook",
   "language": "python",
   "name": "py37-caffe-notebook"
  },
  "language_info": {
   "codemirror_mode": {
    "name": "ipython",
    "version": 3
   },
   "file_extension": ".py",
   "mimetype": "text/x-python",
   "name": "python",
   "nbconvert_exporter": "python",
   "pygments_lexer": "ipython3",
   "version": "3.6.7"
  },
  "toc": {
   "base_numbering": 1,
   "nav_menu": {},
   "number_sections": true,
   "sideBar": true,
   "skip_h1_title": false,
   "title_cell": "Table of Contents",
   "title_sidebar": "Contents",
   "toc_cell": false,
   "toc_position": {},
   "toc_section_display": true,
   "toc_window_display": false
  }
 },
 "nbformat": 4,
 "nbformat_minor": 2
}
