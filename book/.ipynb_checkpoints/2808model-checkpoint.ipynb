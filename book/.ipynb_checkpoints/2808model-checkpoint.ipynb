{
 "cells": [
  {
   "cell_type": "code",
   "execution_count": 11,
   "metadata": {},
   "outputs": [],
   "source": [
    "import json\n",
    "import pandas as pd\n",
    "trainset = pd.read_csv('train.csv')\n",
    "testset = pd.read_csv('test.csv')\n",
    "#trainset['user_rating'] = (trainset['user_rating'] + 1) * 2 + 1\n",
    "#testset['user_rating'] = (testset['user_rating'] + 1) * 2 + 1\n",
    "def traite_train_test(df):\n",
    "    df['authors'] = df['authors'].apply(lambda x: json.loads(x))\n",
    "    df['genres'] = df['genres'].apply(lambda x: json.loads(x))\n",
    "    return df\n",
    "trainset = traite_train_test(trainset)\n",
    "testset = traite_train_test(testset)\n",
    "hehe_test = trainset.copy()\n",
    "df_empty = testset.copy()\n",
    "df_empty['user'] = df_empty['user'].astype('int')\n",
    "df_empty['rating'] = df_empty['rating'].astype('float')\n",
    "df_empty['item'] = df_empty['item'].astype('int')\n",
    "hehe_test.index = range(len(hehe_test))\n",
    "df_empty.index = range(len(df_empty))\n",
    "DEVICE = \"cuda\" if torch.cuda.is_available() else \"cpu\""
   ]
  },
  {
   "cell_type": "code",
   "execution_count": 12,
   "metadata": {},
   "outputs": [],
   "source": [
    "from tqdm import tqdm\n",
    "from torch.nn import LeakyReLU\n",
    "leaky = LeakyReLU(0.0)\n",
    "import torch.nn as nn\n",
    "import torch\n",
    "def calculate_score(x, users, aspects):\n",
    "    niubi = []\n",
    "    first = x.index[0]\n",
    "    val_base = x[first]\n",
    "    actor_base = torch.LongTensor(val_base)\n",
    "    actors_base = aspects(actor_base)\n",
    "    pre_rating = torch.mm(actors_base, users[first].unsqueeze(1))\n",
    "    niubi.append(pre_rating)\n",
    "    pre_rating = pre_rating / pre_rating.shape[0]\n",
    "    pre_rating = pre_rating.sum(0)\n",
    "    for i in x.index[1:]:\n",
    "        val = x[i]\n",
    "        actor = torch.LongTensor(val)\n",
    "        actors = aspects(actor)\n",
    "        pre_ra = torch.mm(actors, users[i].unsqueeze(1))\n",
    "        niubi.append(pre_ra)\n",
    "        actors_f = pre_ra / pre_ra.shape[0]\n",
    "        actors_f = actors_f.sum(0)\n",
    "        pre_rating = torch.cat((pre_rating, actors_f))\n",
    "    return pre_rating, niubi\n",
    "\n",
    "\n",
    "class aspect_augumentation(nn.Module):\n",
    "    def __init__(self, n_users, n_entity, n_rk, n_factors):\n",
    "        super(aspect_augumentation, self).__init__()\n",
    "        self.n_users = n_users\n",
    "        self.n_entity = n_entity\n",
    "        self.n_rk = n_rk\n",
    "        self.n_factors = n_factors\n",
    "        self.user_factors = torch.nn.Embedding(n_users, n_factors)\n",
    "        self.entity_factors = torch.nn.Embedding(n_entity, n_factors)\n",
    "        self.relation_k = torch.nn.Embedding(n_factors, n_rk)\n",
    "\n",
    "    def forward(self, user_id, artists_id, categories_id):\n",
    "        '''\n",
    "        user_factors: n_users * 64\n",
    "        entity_factors: n_entity * 64\n",
    "        relation_k: 64 * 3\n",
    "        '''\n",
    "\n",
    "        users = self.user_factors(user_id)  # 128 * 8\n",
    "        aspects = self.entity_factors  # n_entity * 8\n",
    "        users = F.dropout(users, p=rate, training=self.training)\n",
    "        scores = torch.matmul(users, F.dropout(\n",
    "            self.relation_k.weight, p=rate, training=self.training))  # 128 * 3\n",
    "        scores = leaky(scores)\n",
    "        m = torch.nn.Softmax(dim=1)  # 128 * 3\n",
    "        scores = m(scores)  # 128 * 3\n",
    "\n",
    "        '''\n",
    "        Compute the importance of each aspects\n",
    "        '''\n",
    "        scores_actors = scores[:, 0]  # 128,\n",
    "        scores_directors = scores[:, 1]  # 128,\n",
    "\n",
    "        '''\n",
    "        Compute the contribution of each aspects\n",
    "        '''\n",
    "        contribute_actors, niubi_act = calculate_score(\n",
    "            artists_id, users, aspects)\n",
    "        contribute_directors, niubi_dir = calculate_score(\n",
    "            categories_id, users, aspects)\n",
    "\n",
    "        '''\n",
    "        Compute the final predictions\n",
    "        '''\n",
    "        importance_sum = scores_actors + scores_directors\n",
    "        prediction_sum = contribute_actors * scores_actors + \\\n",
    "            contribute_directors * scores_directors\n",
    "        prediction = prediction_sum / importance_sum\n",
    "        cnm = [niubi_act, niubi_dir]\n",
    "\n",
    "        return prediction, scores, contribute_actors, contribute_directors, cnm"
   ]
  },
  {
   "cell_type": "code",
   "execution_count": 13,
   "metadata": {},
   "outputs": [],
   "source": [
    "import pickle\n",
    "import pandas as pd\n",
    "import torch\n",
    "from torch import nn\n",
    "from sklearn.preprocessing import LabelEncoder\n",
    "from concurrent.futures import ProcessPoolExecutor\n",
    "import numpy as np\n",
    "from operator import itemgetter\n",
    "THREADS = 16\n",
    "from sklearn.metrics import precision_score\n",
    "from sklearn.metrics import recall_score\n",
    "from sklearn.metrics import f1_score\n",
    "import time\n",
    "import torch.nn.functional as F\n",
    "loss_func = torch.nn.MSELoss()"
   ]
  },
  {
   "cell_type": "code",
   "execution_count": 14,
   "metadata": {},
   "outputs": [],
   "source": [
    "def binary_predictions(true_ratings, predicted_ratings):\n",
    "    assert len(true_ratings) == len(predicted_ratings)\n",
    "    binary_true_ratings = []\n",
    "    binary_predicted_ratings = []\n",
    "\n",
    "    for i in range(len(true_ratings)):\n",
    "        if true_ratings[i] >= 3:\n",
    "            binary_true_ratings.append(1)\n",
    "        else:\n",
    "            binary_true_ratings.append(0)\n",
    "\n",
    "        if predicted_ratings[i] >= 3:\n",
    "            binary_predicted_ratings.append(1)\n",
    "        else:\n",
    "            binary_predicted_ratings.append(0)\n",
    "\n",
    "    return precision_score(binary_true_ratings, binary_predicted_ratings), recall_score(binary_true_ratings, binary_predicted_ratings), f1_score(binary_true_ratings, binary_predicted_ratings)"
   ]
  },
  {
   "cell_type": "code",
   "execution_count": 15,
   "metadata": {},
   "outputs": [],
   "source": [
    "def arg_accuracy_int(ratings, predictions):\n",
    "    ratings = ratings.cpu().detach().numpy()\n",
    "    predictions = predictions.cpu().detach().numpy()\n",
    "    total_nr = len(ratings)\n",
    "    total_pred = 0\n",
    "    for i in range(total_nr):\n",
    "        (true_rating, pred_rating) = ratings[i], predictions[i]\n",
    "        if round(pred_rating) >= int(true_rating)-1 and round(pred_rating) <= int(true_rating)+1:\n",
    "            total_pred += 1\n",
    "\n",
    "    return float(total_pred)/total_nr\n",
    "\n",
    "\n",
    "def round_of_rating(number):\n",
    "    return round(number * 2) / 2"
   ]
  },
  {
   "cell_type": "code",
   "execution_count": 16,
   "metadata": {},
   "outputs": [],
   "source": [
    "def RMSE(data, model,batch_size,items):\n",
    "    users_index = data.iloc[:, 0].values\n",
    "    users = torch.LongTensor(users_index).to(DEVICE)\n",
    "#     items_index = data.iloc[:, 0].values\n",
    "#     items = torch.LongTensor(items_index).to(DEVICE)\n",
    "    actors_id = data.iloc[:, 2]\n",
    "    directors_id = data.iloc[:, 3]\n",
    "    rating = torch.FloatTensor(\n",
    "        data.iloc[:, 4].values).to(DEVICE)\n",
    "    prediction,scores,contribute_actors,contribute_directors,cnm = model(users,actors_id, directors_id)\n",
    "    rmse = loss_func(prediction, rating)\n",
    "    mae = torch.nn.L1Loss()(prediction, rating)\n",
    "    p,r,f = binary_predictions(rating, prediction)\n",
    "    accuracy = arg_accuracy_int(rating,prediction)\n",
    "    return rmse ** 0.5,mae,p,r,f, accuracy, cnm"
   ]
  },
  {
   "cell_type": "code",
   "execution_count": 17,
   "metadata": {},
   "outputs": [],
   "source": [
    "def train(lr, dim, reg, batch_size, num_epochs, data, test):\n",
    "    model = aspect_augumentation(5576, 1712,2, dim).to(DEVICE)\n",
    "    optimizer = torch.optim.Adam(params=model.parameters(), lr=lr,weight_decay=reg)\n",
    "    scheduler = torch.optim.lr_scheduler.ReduceLROnPlateau(\n",
    "        optimizer, mode='min', factor=0.5, patience=10, threshold_mode='abs',threshold = 0.005)\n",
    "    for epoch in range(num_epochs):\n",
    "        model.train()\n",
    "        t1 = time.time()\n",
    "        num_example = len(data)\n",
    "        indices = list(range(num_example))\n",
    "        for i in tqdm(range(0, num_example, batch_size)):\n",
    "            optimizer.zero_grad()\n",
    "            indexs = indices[i:min(i+batch_size, num_example)]\n",
    "            users_index = data.iloc[:, 0].loc[indexs].values\n",
    "            users = torch.LongTensor(users_index).to(DEVICE)\n",
    "            items_index = data.iloc[:, 1].values\n",
    "            items = torch.LongTensor(items_index).to(DEVICE)\n",
    "            actors_id = data.iloc[:, 2].loc[indexs]\n",
    "            actors_id.index = range(len(actors_id))\n",
    "            directors_id = data.iloc[:, 3].loc[indexs]\n",
    "            directors_id.index = range(len(directors_id))\n",
    "            rating = torch.FloatTensor(\n",
    "                data.iloc[:, 4].loc[indexs].values).to(DEVICE)\n",
    "            prediction, scores, contribute_actors, contribute_directors,cnm = model(\n",
    "                users, actors_id, directors_id)\n",
    "\n",
    "            err = loss_func(prediction, rating) \n",
    "            err.backward()\n",
    "            optimizer.step()\n",
    "        t2 = time.time()\n",
    "        rmse, mae, p, r, f, accuracy,cnm = RMSE(test, model,batch_size,items)\n",
    "        scheduler.step(rmse)\n",
    "        print(\"Epoch: \", epoch, \" Loss: \", err, \" RMSE in test set:\",\n",
    "              rmse, \"MAE in test set: \", mae)\n",
    "        print(\"Accuracy in test set is: \", accuracy, \"Precision in test set:\",\n",
    "             p, \"Recall in test set: \", r, \"F1 scores in test set is:\", f)\n",
    "        print(\"Time consumed is:\", t2-t1)\n",
    "    return rmse, mae, p, r, f, accuracy, model, cnm"
   ]
  },
  {
   "cell_type": "code",
   "execution_count": 18,
   "metadata": {},
   "outputs": [],
   "source": [
    "def grid(lrs, dims, regs, batch_sizes, num_epochs, data, test):\n",
    "    res = []\n",
    "    models = []\n",
    "    qnm = []\n",
    "    for lr in lrs:\n",
    "        for dim in dims:\n",
    "            for reg in regs:\n",
    "                for batch_size in batch_sizes:\n",
    "                    rmse, mae, p, r, f, accuracy, model,cnm = train(\n",
    "                        lr, dim, reg, batch_size, num_epochs, data, test)\n",
    "                    res.append(rmse)\n",
    "                    res.append(mae)\n",
    "                    res.append(p)\n",
    "                    res.append(r)\n",
    "                    res.append(f)\n",
    "                    res.append(accuracy)\n",
    "                    models.append(model)\n",
    "                    state = { 'model': model.state_dict()}   \n",
    "                    torch.save(state, 'last/model_' + str(lr) + '_' + str(dim) + '_' + str(reg) + '_' + str(batch_size) + '.pkl')\n",
    "                    qnm.append(cnm)\n",
    "    return res, models,qnm"
   ]
  },
  {
   "cell_type": "code",
   "execution_count": 9,
   "metadata": {},
   "outputs": [
    {
     "name": "stderr",
     "output_type": "stream",
     "text": [
      "100%|██████████| 207/207 [00:30<00:00,  6.71it/s]\n",
      "  0%|          | 1/207 [00:00<00:37,  5.54it/s]"
     ]
    },
    {
     "name": "stdout",
     "output_type": "stream",
     "text": [
      "Epoch:  0  Loss:  tensor(11.1716, grad_fn=<MseLossBackward>)  RMSE in test set: tensor(3.3041, grad_fn=<PowBackward0>) MAE in test set:  tensor(2.9530, grad_fn=<L1LossBackward>)\n",
      "Accuracy in test set is:  0.18867495451788963 Precision in test set: 0.946034341782502 Recall in test set:  0.09508547008547008 F1 scores in test set is: 0.17280262863117019\n",
      "Time consumed is: 30.853134155273438\n"
     ]
    },
    {
     "name": "stderr",
     "output_type": "stream",
     "text": [
      "100%|██████████| 207/207 [00:31<00:00,  6.61it/s]\n",
      "  0%|          | 1/207 [00:00<00:35,  5.85it/s]"
     ]
    },
    {
     "name": "stdout",
     "output_type": "stream",
     "text": [
      "Epoch:  1  Loss:  tensor(5.1035, grad_fn=<MseLossBackward>)  RMSE in test set: tensor(2.2698, grad_fn=<PowBackward0>) MAE in test set:  tensor(1.8304, grad_fn=<L1LossBackward>)\n",
      "Accuracy in test set is:  0.4852941176470588 Precision in test set: 0.9375379017586416 Recall in test set:  0.381163708086785 F1 scores in test set is: 0.5419807186678353\n",
      "Time consumed is: 31.33255887031555\n"
     ]
    },
    {
     "name": "stderr",
     "output_type": "stream",
     "text": [
      "100%|██████████| 207/207 [00:31<00:00,  6.61it/s]\n",
      "  0%|          | 1/207 [00:00<00:39,  5.17it/s]"
     ]
    },
    {
     "name": "stdout",
     "output_type": "stream",
     "text": [
      "Epoch:  2  Loss:  tensor(2.4767, grad_fn=<MseLossBackward>)  RMSE in test set: tensor(1.7668, grad_fn=<PowBackward0>) MAE in test set:  tensor(1.3724, grad_fn=<L1LossBackward>)\n",
      "Accuracy in test set is:  0.6370527592480291 Precision in test set: 0.9409741331865713 Recall in test set:  0.5620479947403024 F1 scores in test set is: 0.7037456266721548\n",
      "Time consumed is: 31.317432165145874\n"
     ]
    },
    {
     "name": "stderr",
     "output_type": "stream",
     "text": [
      "100%|██████████| 207/207 [00:31<00:00,  6.58it/s]\n",
      "  0%|          | 1/207 [00:00<00:38,  5.35it/s]"
     ]
    },
    {
     "name": "stdout",
     "output_type": "stream",
     "text": [
      "Epoch:  3  Loss:  tensor(1.2556, grad_fn=<MseLossBackward>)  RMSE in test set: tensor(1.5376, grad_fn=<PowBackward0>) MAE in test set:  tensor(1.1862, grad_fn=<L1LossBackward>)\n",
      "Accuracy in test set is:  0.708308065494239 Precision in test set: 0.9416506256015399 Recall in test set:  0.6432445759368837 F1 scores in test set is: 0.7643554687499999\n",
      "Time consumed is: 31.46361804008484\n"
     ]
    },
    {
     "name": "stderr",
     "output_type": "stream",
     "text": [
      "100%|██████████| 207/207 [00:32<00:00,  6.38it/s]\n",
      "  0%|          | 1/207 [00:00<00:38,  5.36it/s]"
     ]
    },
    {
     "name": "stdout",
     "output_type": "stream",
     "text": [
      "Epoch:  4  Loss:  tensor(0.8179, grad_fn=<MseLossBackward>)  RMSE in test set: tensor(1.4257, grad_fn=<PowBackward0>) MAE in test set:  tensor(1.0997, grad_fn=<L1LossBackward>)\n",
      "Accuracy in test set is:  0.7415100060642814 Precision in test set: 0.9418842224744608 Recall in test set:  0.6819526627218935 F1 scores in test set is: 0.7911145009057107\n",
      "Time consumed is: 32.437601804733276\n"
     ]
    },
    {
     "name": "stderr",
     "output_type": "stream",
     "text": [
      "100%|██████████| 207/207 [00:32<00:00,  6.41it/s]\n",
      "  0%|          | 1/207 [00:00<00:39,  5.26it/s]"
     ]
    },
    {
     "name": "stdout",
     "output_type": "stream",
     "text": [
      "Epoch:  5  Loss:  tensor(0.6320, grad_fn=<MseLossBackward>)  RMSE in test set: tensor(1.3675, grad_fn=<PowBackward0>) MAE in test set:  tensor(1.0563, grad_fn=<L1LossBackward>)\n",
      "Accuracy in test set is:  0.7568981200727714 Precision in test set: 0.9427375839665235 Recall in test set:  0.7035667324128863 F1 scores in test set is: 0.8057790954868465\n",
      "Time consumed is: 32.30035090446472\n"
     ]
    },
    {
     "name": "stderr",
     "output_type": "stream",
     "text": [
      "100%|██████████| 207/207 [00:32<00:00,  6.38it/s]\n",
      "  0%|          | 0/207 [00:00<?, ?it/s]"
     ]
    },
    {
     "name": "stdout",
     "output_type": "stream",
     "text": [
      "Epoch:  6  Loss:  tensor(0.5381, grad_fn=<MseLossBackward>)  RMSE in test set: tensor(1.3352, grad_fn=<PowBackward0>) MAE in test set:  tensor(1.0327, grad_fn=<L1LossBackward>)\n",
      "Accuracy in test set is:  0.7666009702850213 Precision in test set: 0.9425037969190714 Recall in test set:  0.7140039447731755 F1 scores in test set is: 0.8124941550547087\n",
      "Time consumed is: 32.441486835479736\n"
     ]
    },
    {
     "name": "stderr",
     "output_type": "stream",
     "text": [
      "100%|██████████| 207/207 [00:32<00:00,  6.37it/s]\n",
      "  0%|          | 0/207 [00:00<?, ?it/s]"
     ]
    },
    {
     "name": "stdout",
     "output_type": "stream",
     "text": [
      "Epoch:  7  Loss:  tensor(0.4851, grad_fn=<MseLossBackward>)  RMSE in test set: tensor(1.3166, grad_fn=<PowBackward0>) MAE in test set:  tensor(1.0193, grad_fn=<L1LossBackward>)\n",
      "Accuracy in test set is:  0.7715281989084294 Precision in test set: 0.9415556510528578 Recall in test set:  0.720249835634451 F1 scores in test set is: 0.816166883963494\n",
      "Time consumed is: 32.50908088684082\n"
     ]
    },
    {
     "name": "stderr",
     "output_type": "stream",
     "text": [
      "100%|██████████| 207/207 [00:32<00:00,  6.36it/s]\n",
      "  0%|          | 0/207 [00:00<?, ?it/s]"
     ]
    },
    {
     "name": "stdout",
     "output_type": "stream",
     "text": [
      "Epoch:  8  Loss:  tensor(0.4525, grad_fn=<MseLossBackward>)  RMSE in test set: tensor(1.3050, grad_fn=<PowBackward0>) MAE in test set:  tensor(1.0110, grad_fn=<L1LossBackward>)\n",
      "Accuracy in test set is:  0.7753941782898727 Precision in test set: 0.9411198974139774 Recall in test set:  0.7237836949375411 F1 scores in test set is: 0.818266282634953\n",
      "Time consumed is: 32.547547817230225\n"
     ]
    },
    {
     "name": "stderr",
     "output_type": "stream",
     "text": [
      "100%|██████████| 207/207 [00:32<00:00,  6.28it/s]\n",
      "  0%|          | 0/207 [00:00<?, ?it/s]"
     ]
    },
    {
     "name": "stdout",
     "output_type": "stream",
     "text": [
      "Epoch:  9  Loss:  tensor(0.4309, grad_fn=<MseLossBackward>)  RMSE in test set: tensor(1.2974, grad_fn=<PowBackward0>) MAE in test set:  tensor(1.0056, grad_fn=<L1LossBackward>)\n",
      "Accuracy in test set is:  0.7768344451182535 Precision in test set: 0.940844169686634 Recall in test set:  0.7254273504273504 F1 scores in test set is: 0.8192111368909513\n",
      "Time consumed is: 32.98427200317383\n"
     ]
    },
    {
     "name": "stderr",
     "output_type": "stream",
     "text": [
      "100%|██████████| 207/207 [00:32<00:00,  6.30it/s]\n",
      "  0%|          | 0/207 [00:00<?, ?it/s]"
     ]
    },
    {
     "name": "stdout",
     "output_type": "stream",
     "text": [
      "Epoch:  10  Loss:  tensor(0.4153, grad_fn=<MseLossBackward>)  RMSE in test set: tensor(1.2923, grad_fn=<PowBackward0>) MAE in test set:  tensor(1.0019, grad_fn=<L1LossBackward>)\n",
      "Accuracy in test set is:  0.7781989084293511 Precision in test set: 0.9403698979591837 Recall in test set:  0.7270710059171598 F1 scores in test set is: 0.8200778642936596\n",
      "Time consumed is: 32.870298862457275\n"
     ]
    },
    {
     "name": "stderr",
     "output_type": "stream",
     "text": [
      "100%|██████████| 207/207 [00:32<00:00,  6.43it/s]\n",
      "  0%|          | 0/207 [00:00<?, ?it/s]"
     ]
    },
    {
     "name": "stdout",
     "output_type": "stream",
     "text": [
      "Epoch:  11  Loss:  tensor(0.4030, grad_fn=<MseLossBackward>)  RMSE in test set: tensor(1.2894, grad_fn=<PowBackward0>) MAE in test set:  tensor(0.9997, grad_fn=<L1LossBackward>)\n",
      "Accuracy in test set is:  0.7788811400849 Precision in test set: 0.9401908801696712 Recall in test set:  0.7286324786324786 F1 scores in test set is: 0.8210019446245022\n",
      "Time consumed is: 32.18417501449585\n"
     ]
    },
    {
     "name": "stderr",
     "output_type": "stream",
     "text": [
      "100%|██████████| 207/207 [00:32<00:00,  6.41it/s]\n",
      "  0%|          | 1/207 [00:00<00:36,  5.67it/s]"
     ]
    },
    {
     "name": "stdout",
     "output_type": "stream",
     "text": [
      "Epoch:  12  Loss:  tensor(0.3925, grad_fn=<MseLossBackward>)  RMSE in test set: tensor(1.2873, grad_fn=<PowBackward0>) MAE in test set:  tensor(0.9981, grad_fn=<L1LossBackward>)\n",
      "Accuracy in test set is:  0.7798665858095816 Precision in test set: 0.9404547858276044 Recall in test set:  0.7307692307692307 F1 scores in test set is: 0.8224575683300189\n",
      "Time consumed is: 32.311336040496826\n"
     ]
    },
    {
     "name": "stderr",
     "output_type": "stream",
     "text": [
      "100%|██████████| 207/207 [00:32<00:00,  6.33it/s]\n",
      "  0%|          | 0/207 [00:00<?, ?it/s]"
     ]
    },
    {
     "name": "stdout",
     "output_type": "stream",
     "text": [
      "Epoch:  13  Loss:  tensor(0.3830, grad_fn=<MseLossBackward>)  RMSE in test set: tensor(1.2863, grad_fn=<PowBackward0>) MAE in test set:  tensor(0.9972, grad_fn=<L1LossBackward>)\n",
      "Accuracy in test set is:  0.7800939963614312 Precision in test set: 0.940467378661309 Recall in test set:  0.7309335963182118 F1 scores in test set is: 0.8225664739884393\n",
      "Time consumed is: 32.71788811683655\n"
     ]
    },
    {
     "name": "stderr",
     "output_type": "stream",
     "text": [
      "100%|██████████| 207/207 [00:32<00:00,  6.29it/s]\n",
      "  0%|          | 0/207 [00:00<?, ?it/s]"
     ]
    },
    {
     "name": "stdout",
     "output_type": "stream",
     "text": [
      "Epoch:  14  Loss:  tensor(0.3743, grad_fn=<MseLossBackward>)  RMSE in test set: tensor(1.2857, grad_fn=<PowBackward0>) MAE in test set:  tensor(0.9967, grad_fn=<L1LossBackward>)\n",
      "Accuracy in test set is:  0.7807004244996968 Precision in test set: 0.9408340389500424 Recall in test set:  0.7305226824457594 F1 scores in test set is: 0.8224463360473724\n",
      "Time consumed is: 32.90303707122803\n"
     ]
    },
    {
     "name": "stderr",
     "output_type": "stream",
     "text": [
      "100%|██████████| 207/207 [00:32<00:00,  6.33it/s]\n",
      "  0%|          | 0/207 [00:00<?, ?it/s]"
     ]
    },
    {
     "name": "stdout",
     "output_type": "stream",
     "text": [
      "Epoch:  15  Loss:  tensor(0.3665, grad_fn=<MseLossBackward>)  RMSE in test set: tensor(1.2858, grad_fn=<PowBackward0>) MAE in test set:  tensor(0.9968, grad_fn=<L1LossBackward>)\n",
      "Accuracy in test set is:  0.78077622801698 Precision in test set: 0.9409086095520491 Recall in test set:  0.7301939513477975 F1 scores in test set is: 0.8222664383878581\n",
      "Time consumed is: 32.6907479763031\n"
     ]
    },
    {
     "name": "stderr",
     "output_type": "stream",
     "text": [
      "100%|██████████| 207/207 [00:32<00:00,  6.35it/s]\n",
      "  0%|          | 1/207 [00:00<00:40,  5.12it/s]"
     ]
    },
    {
     "name": "stdout",
     "output_type": "stream",
     "text": [
      "Epoch:  16  Loss:  tensor(0.3598, grad_fn=<MseLossBackward>)  RMSE in test set: tensor(1.2860, grad_fn=<PowBackward0>) MAE in test set:  tensor(0.9969, grad_fn=<L1LossBackward>)\n",
      "Accuracy in test set is:  0.7809278350515464 Precision in test set: 0.9409582361670553 Recall in test set:  0.7295364891518737 F1 scores in test set is: 0.8218683455235626\n",
      "Time consumed is: 32.605785846710205\n"
     ]
    },
    {
     "name": "stderr",
     "output_type": "stream",
     "text": [
      "100%|██████████| 207/207 [00:33<00:00,  6.22it/s]\n",
      "  0%|          | 0/207 [00:00<?, ?it/s]"
     ]
    },
    {
     "name": "stdout",
     "output_type": "stream",
     "text": [
      "Epoch:  17  Loss:  tensor(0.3540, grad_fn=<MseLossBackward>)  RMSE in test set: tensor(1.2867, grad_fn=<PowBackward0>) MAE in test set:  tensor(0.9975, grad_fn=<L1LossBackward>)\n",
      "Accuracy in test set is:  0.7793359611885992 Precision in test set: 0.9409394549888666 Recall in test set:  0.7292899408284024 F1 scores in test set is: 0.8217047085513218\n",
      "Time consumed is: 33.26911497116089\n"
     ]
    },
    {
     "name": "stderr",
     "output_type": "stream",
     "text": [
      "100%|██████████| 207/207 [00:33<00:00,  6.19it/s]\n",
      "  0%|          | 1/207 [00:00<00:38,  5.30it/s]"
     ]
    },
    {
     "name": "stdout",
     "output_type": "stream",
     "text": [
      "Epoch:  18  Loss:  tensor(0.3490, grad_fn=<MseLossBackward>)  RMSE in test set: tensor(1.2871, grad_fn=<PowBackward0>) MAE in test set:  tensor(0.9978, grad_fn=<L1LossBackward>)\n",
      "Accuracy in test set is:  0.779260157671316 Precision in test set: 0.9407831900668577 Recall in test set:  0.7285502958579881 F1 scores in test set is: 0.8211754897874115\n",
      "Time consumed is: 33.459304094314575\n"
     ]
    },
    {
     "name": "stderr",
     "output_type": "stream",
     "text": [
      "100%|██████████| 207/207 [00:32<00:00,  6.29it/s]\n",
      "  0%|          | 0/207 [00:00<?, ?it/s]"
     ]
    },
    {
     "name": "stdout",
     "output_type": "stream",
     "text": [
      "Epoch:  19  Loss:  tensor(0.3446, grad_fn=<MseLossBackward>)  RMSE in test set: tensor(1.2879, grad_fn=<PowBackward0>) MAE in test set:  tensor(0.9984, grad_fn=<L1LossBackward>)\n",
      "Accuracy in test set is:  0.7786537295330503 Precision in test set: 0.940869935127087 Recall in test set:  0.7270710059171598 F1 scores in test set is: 0.8202679523434242\n",
      "Time consumed is: 32.91362524032593\n"
     ]
    },
    {
     "name": "stderr",
     "output_type": "stream",
     "text": [
      "100%|██████████| 207/207 [00:32<00:00,  6.34it/s]\n",
      "  0%|          | 0/207 [00:00<?, ?it/s]"
     ]
    },
    {
     "name": "stdout",
     "output_type": "stream",
     "text": [
      "Epoch:  20  Loss:  tensor(0.3409, grad_fn=<MseLossBackward>)  RMSE in test set: tensor(1.2883, grad_fn=<PowBackward0>) MAE in test set:  tensor(0.9987, grad_fn=<L1LossBackward>)\n",
      "Accuracy in test set is:  0.7781231049120679 Precision in test set: 0.9405814077308061 Recall in test set:  0.7259204470742933 F1 scores in test set is: 0.8194257618627951\n",
      "Time consumed is: 32.64154887199402\n"
     ]
    },
    {
     "name": "stderr",
     "output_type": "stream",
     "text": [
      "100%|██████████| 207/207 [00:33<00:00,  6.26it/s]\n",
      "  0%|          | 0/207 [00:00<?, ?it/s]"
     ]
    },
    {
     "name": "stdout",
     "output_type": "stream",
     "text": [
      "Epoch:  21  Loss:  tensor(0.3379, grad_fn=<MseLossBackward>)  RMSE in test set: tensor(1.2891, grad_fn=<PowBackward0>) MAE in test set:  tensor(0.9993, grad_fn=<L1LossBackward>)\n",
      "Accuracy in test set is:  0.7779714978775015 Precision in test set: 0.9407375826049883 Recall in test set:  0.72534516765286 F1 scores in test set is: 0.8191183294663573\n",
      "Time consumed is: 33.060707807540894\n"
     ]
    },
    {
     "name": "stderr",
     "output_type": "stream",
     "text": [
      "100%|██████████| 207/207 [00:32<00:00,  6.41it/s]\n",
      "  0%|          | 1/207 [00:00<00:39,  5.20it/s]"
     ]
    },
    {
     "name": "stdout",
     "output_type": "stream",
     "text": [
      "Epoch:  22  Loss:  tensor(0.3355, grad_fn=<MseLossBackward>)  RMSE in test set: tensor(1.2894, grad_fn=<PowBackward0>) MAE in test set:  tensor(0.9995, grad_fn=<L1LossBackward>)\n",
      "Accuracy in test set is:  0.7789569436021831 Precision in test set: 0.9406933333333334 Recall in test set:  0.7247698882314267 F1 scores in test set is: 0.8187346237757044\n",
      "Time consumed is: 32.295140981674194\n"
     ]
    },
    {
     "name": "stderr",
     "output_type": "stream",
     "text": [
      "100%|██████████| 207/207 [00:33<00:00,  6.24it/s]\n",
      "  0%|          | 1/207 [00:00<00:39,  5.20it/s]"
     ]
    },
    {
     "name": "stdout",
     "output_type": "stream",
     "text": [
      "Epoch:  23  Loss:  tensor(0.3339, grad_fn=<MseLossBackward>)  RMSE in test set: tensor(1.2901, grad_fn=<PowBackward0>) MAE in test set:  tensor(1.0001, grad_fn=<L1LossBackward>)\n",
      "Accuracy in test set is:  0.7787295330503335 Precision in test set: 0.9405676483141272 Recall in test set:  0.7244411571334648 F1 scores in test set is: 0.8184772516248839\n",
      "Time consumed is: 33.1747100353241\n"
     ]
    },
    {
     "name": "stderr",
     "output_type": "stream",
     "text": [
      "100%|██████████| 207/207 [00:33<00:00,  6.20it/s]\n",
      "  0%|          | 1/207 [00:00<00:39,  5.25it/s]"
     ]
    },
    {
     "name": "stdout",
     "output_type": "stream",
     "text": [
      "Epoch:  24  Loss:  tensor(0.3330, grad_fn=<MseLossBackward>)  RMSE in test set: tensor(1.2902, grad_fn=<PowBackward0>) MAE in test set:  tensor(1.0002, grad_fn=<L1LossBackward>)\n",
      "Accuracy in test set is:  0.7784263189812007 Precision in test set: 0.9407241268824095 Recall in test set:  0.7238658777120316 F1 scores in test set is: 0.8181691514560402\n",
      "Time consumed is: 33.41234087944031\n"
     ]
    },
    {
     "name": "stderr",
     "output_type": "stream",
     "text": [
      "100%|██████████| 207/207 [00:33<00:00,  6.24it/s]\n",
      "  0%|          | 0/207 [00:00<?, ?it/s]"
     ]
    },
    {
     "name": "stdout",
     "output_type": "stream",
     "text": [
      "Epoch:  25  Loss:  tensor(0.2627, grad_fn=<MseLossBackward>)  RMSE in test set: tensor(1.2779, grad_fn=<PowBackward0>) MAE in test set:  tensor(0.9870, grad_fn=<L1LossBackward>)\n",
      "Accuracy in test set is:  0.7844147968465737 Precision in test set: 0.9411208074860687 Recall in test set:  0.7356180144641683 F1 scores in test set is: 0.8257760966834263\n",
      "Time consumed is: 33.19889998435974\n"
     ]
    },
    {
     "name": "stderr",
     "output_type": "stream",
     "text": [
      "100%|██████████| 207/207 [00:32<00:00,  6.30it/s]\n",
      "  0%|          | 1/207 [00:00<00:36,  5.65it/s]"
     ]
    },
    {
     "name": "stdout",
     "output_type": "stream",
     "text": [
      "Epoch:  26  Loss:  tensor(0.2682, grad_fn=<MseLossBackward>)  RMSE in test set: tensor(1.2787, grad_fn=<PowBackward0>) MAE in test set:  tensor(0.9874, grad_fn=<L1LossBackward>)\n",
      "Accuracy in test set is:  0.7850970285021225 Precision in test set: 0.9413066385669125 Recall in test set:  0.73413872452334 F1 scores in test set is: 0.8249145812171024\n",
      "Time consumed is: 32.88680720329285\n"
     ]
    },
    {
     "name": "stderr",
     "output_type": "stream",
     "text": [
      "100%|██████████| 207/207 [00:33<00:00,  6.26it/s]\n",
      "  0%|          | 1/207 [00:00<00:38,  5.30it/s]"
     ]
    },
    {
     "name": "stdout",
     "output_type": "stream",
     "text": [
      "Epoch:  27  Loss:  tensor(0.2690, grad_fn=<MseLossBackward>)  RMSE in test set: tensor(1.2799, grad_fn=<PowBackward0>) MAE in test set:  tensor(0.9883, grad_fn=<L1LossBackward>)\n",
      "Accuracy in test set is:  0.7847938144329897 Precision in test set: 0.9412942664418212 Recall in test set:  0.7339743589743589 F1 scores in test set is: 0.8248060583671962\n",
      "Time consumed is: 33.04678988456726\n"
     ]
    },
    {
     "name": "stderr",
     "output_type": "stream",
     "text": [
      "100%|██████████| 207/207 [00:32<00:00,  6.31it/s]\n",
      "  0%|          | 0/207 [00:00<?, ?it/s]"
     ]
    },
    {
     "name": "stdout",
     "output_type": "stream",
     "text": [
      "Epoch:  28  Loss:  tensor(0.2715, grad_fn=<MseLossBackward>)  RMSE in test set: tensor(1.2809, grad_fn=<PowBackward0>) MAE in test set:  tensor(0.9890, grad_fn=<L1LossBackward>)\n",
      "Accuracy in test set is:  0.7848696179502729 Precision in test set: 0.9413440236311847 Recall in test set:  0.7333168967784353 F1 scores in test set is: 0.824409848939807\n",
      "Time consumed is: 32.83016300201416\n"
     ]
    },
    {
     "name": "stderr",
     "output_type": "stream",
     "text": [
      "100%|██████████| 207/207 [00:32<00:00,  6.40it/s]\n",
      "  0%|          | 1/207 [00:00<00:39,  5.19it/s]"
     ]
    },
    {
     "name": "stdout",
     "output_type": "stream",
     "text": [
      "Epoch:  29  Loss:  tensor(0.2731, grad_fn=<MseLossBackward>)  RMSE in test set: tensor(1.2817, grad_fn=<PowBackward0>) MAE in test set:  tensor(0.9897, grad_fn=<L1LossBackward>)\n",
      "Accuracy in test set is:  0.7847938144329897 Precision in test set: 0.9410088644997889 Recall in test set:  0.7328238001314924 F1 scores in test set is: 0.8239696913694327\n",
      "Time consumed is: 32.35328412055969\n"
     ]
    },
    {
     "name": "stderr",
     "output_type": "stream",
     "text": [
      "100%|██████████| 207/207 [00:32<00:00,  6.35it/s]\n",
      "  0%|          | 1/207 [00:00<00:39,  5.17it/s]"
     ]
    },
    {
     "name": "stdout",
     "output_type": "stream",
     "text": [
      "Epoch:  30  Loss:  tensor(0.2749, grad_fn=<MseLossBackward>)  RMSE in test set: tensor(1.2825, grad_fn=<PowBackward0>) MAE in test set:  tensor(0.9902, grad_fn=<L1LossBackward>)\n",
      "Accuracy in test set is:  0.7842631898120073 Precision in test set: 0.9408658922914467 Recall in test set:  0.7322485207100592 F1 scores in test set is: 0.8235511599963029\n",
      "Time consumed is: 32.61442470550537\n"
     ]
    },
    {
     "name": "stderr",
     "output_type": "stream",
     "text": [
      "100%|██████████| 207/207 [00:32<00:00,  6.33it/s]\n",
      "  0%|          | 1/207 [00:00<00:39,  5.17it/s]"
     ]
    },
    {
     "name": "stdout",
     "output_type": "stream",
     "text": [
      "Epoch:  31  Loss:  tensor(0.2763, grad_fn=<MseLossBackward>)  RMSE in test set: tensor(1.2831, grad_fn=<PowBackward0>) MAE in test set:  tensor(0.9907, grad_fn=<L1LossBackward>)\n",
      "Accuracy in test set is:  0.7837325651910249 Precision in test set: 0.9407164746909014 Recall in test set:  0.7315910585141354 F1 scores in test set is: 0.8230779899218714\n",
      "Time consumed is: 32.690544843673706\n"
     ]
    },
    {
     "name": "stderr",
     "output_type": "stream",
     "text": [
      "100%|██████████| 207/207 [00:33<00:00,  6.17it/s]\n",
      "  0%|          | 1/207 [00:00<00:39,  5.22it/s]"
     ]
    },
    {
     "name": "stdout",
     "output_type": "stream",
     "text": [
      "Epoch:  32  Loss:  tensor(0.2777, grad_fn=<MseLossBackward>)  RMSE in test set: tensor(1.2836, grad_fn=<PowBackward0>) MAE in test set:  tensor(0.9912, grad_fn=<L1LossBackward>)\n",
      "Accuracy in test set is:  0.7832019405700424 Precision in test set: 0.9406976744186046 Recall in test set:  0.731344510190664 F1 scores in test set is: 0.8229147401516552\n",
      "Time consumed is: 33.576336145401\n"
     ]
    },
    {
     "name": "stderr",
     "output_type": "stream",
     "text": [
      "100%|██████████| 207/207 [00:35<00:00,  5.87it/s]\n",
      "  0%|          | 0/207 [00:00<?, ?it/s]"
     ]
    },
    {
     "name": "stdout",
     "output_type": "stream",
     "text": [
      "Epoch:  33  Loss:  tensor(0.2788, grad_fn=<MseLossBackward>)  RMSE in test set: tensor(1.2841, grad_fn=<PowBackward0>) MAE in test set:  tensor(0.9916, grad_fn=<L1LossBackward>)\n",
      "Accuracy in test set is:  0.783050333535476 Precision in test set: 0.9406976744186046 Recall in test set:  0.731344510190664 F1 scores in test set is: 0.8229147401516552\n",
      "Time consumed is: 35.291890144348145\n"
     ]
    },
    {
     "name": "stderr",
     "output_type": "stream",
     "text": [
      "100%|██████████| 207/207 [00:35<00:00,  5.87it/s]\n",
      "  0%|          | 0/207 [00:00<?, ?it/s]"
     ]
    },
    {
     "name": "stdout",
     "output_type": "stream",
     "text": [
      "Epoch:  34  Loss:  tensor(0.2799, grad_fn=<MseLossBackward>)  RMSE in test set: tensor(1.2846, grad_fn=<PowBackward0>) MAE in test set:  tensor(0.9919, grad_fn=<L1LossBackward>)\n",
      "Accuracy in test set is:  0.7825955124317768 Precision in test set: 0.9404295841709872 Recall in test set:  0.7304404996712689 F1 scores in test set is: 0.8222396965632083\n",
      "Time consumed is: 35.261216163635254\n"
     ]
    },
    {
     "name": "stderr",
     "output_type": "stream",
     "text": [
      "100%|██████████| 207/207 [00:34<00:00,  5.94it/s]\n",
      "  0%|          | 0/207 [00:00<?, ?it/s]"
     ]
    },
    {
     "name": "stdout",
     "output_type": "stream",
     "text": [
      "Epoch:  35  Loss:  tensor(0.2809, grad_fn=<MseLossBackward>)  RMSE in test set: tensor(1.2850, grad_fn=<PowBackward0>) MAE in test set:  tensor(0.9922, grad_fn=<L1LossBackward>)\n",
      "Accuracy in test set is:  0.7829745300181928 Precision in test set: 0.940323775261877 Recall in test set:  0.7303583168967784 F1 scores in test set is: 0.8221471853462232\n",
      "Time consumed is: 34.8562707901001\n"
     ]
    },
    {
     "name": "stderr",
     "output_type": "stream",
     "text": [
      "100%|██████████| 207/207 [00:35<00:00,  5.79it/s]\n",
      "  0%|          | 0/207 [00:00<?, ?it/s]"
     ]
    },
    {
     "name": "stdout",
     "output_type": "stream",
     "text": [
      "Epoch:  36  Loss:  tensor(0.2819, grad_fn=<MseLossBackward>)  RMSE in test set: tensor(1.2853, grad_fn=<PowBackward0>) MAE in test set:  tensor(0.9925, grad_fn=<L1LossBackward>)\n",
      "Accuracy in test set is:  0.7831261370527592 Precision in test set: 0.9403048264182896 Recall in test set:  0.7301117685733071 F1 scores in test set is: 0.8219837157660991\n",
      "Time consumed is: 35.726866006851196\n"
     ]
    },
    {
     "name": "stderr",
     "output_type": "stream",
     "text": [
      "100%|██████████| 207/207 [00:35<00:00,  5.88it/s]\n",
      "  0%|          | 0/207 [00:00<?, ?it/s]"
     ]
    },
    {
     "name": "stdout",
     "output_type": "stream",
     "text": [
      "Epoch:  37  Loss:  tensor(0.2527, grad_fn=<MseLossBackward>)  RMSE in test set: tensor(1.2843, grad_fn=<PowBackward0>) MAE in test set:  tensor(0.9915, grad_fn=<L1LossBackward>)\n",
      "Accuracy in test set is:  0.781155245603396 Precision in test set: 0.9412888841702941 Recall in test set:  0.7286324786324786 F1 scores in test set is: 0.8214202992541808\n",
      "Time consumed is: 35.20161318778992\n"
     ]
    },
    {
     "name": "stderr",
     "output_type": "stream",
     "text": [
      "100%|██████████| 207/207 [00:35<00:00,  5.90it/s]\n",
      "  0%|          | 1/207 [00:00<00:40,  5.15it/s]"
     ]
    },
    {
     "name": "stdout",
     "output_type": "stream",
     "text": [
      "Epoch:  38  Loss:  tensor(0.2516, grad_fn=<MseLossBackward>)  RMSE in test set: tensor(1.2847, grad_fn=<PowBackward0>) MAE in test set:  tensor(0.9918, grad_fn=<L1LossBackward>)\n",
      "Accuracy in test set is:  0.7810794420861128 Precision in test set: 0.9414701508391757 Recall in test set:  0.7283859303090072 F1 scores in test set is: 0.8213325919747938\n",
      "Time consumed is: 35.0694420337677\n"
     ]
    },
    {
     "name": "stderr",
     "output_type": "stream",
     "text": [
      "100%|██████████| 207/207 [00:35<00:00,  5.88it/s]\n",
      "  0%|          | 1/207 [00:00<00:37,  5.52it/s]"
     ]
    },
    {
     "name": "stdout",
     "output_type": "stream",
     "text": [
      "Epoch:  39  Loss:  tensor(0.2512, grad_fn=<MseLossBackward>)  RMSE in test set: tensor(1.2852, grad_fn=<PowBackward0>) MAE in test set:  tensor(0.9922, grad_fn=<L1LossBackward>)\n",
      "Accuracy in test set is:  0.7810794420861128 Precision in test set: 0.9416081684747926 Recall in test set:  0.7275641025641025 F1 scores in test set is: 0.8208623087621698\n",
      "Time consumed is: 35.19316029548645\n"
     ]
    },
    {
     "name": "stderr",
     "output_type": "stream",
     "text": [
      "100%|██████████| 207/207 [00:44<00:00,  4.66it/s]\n",
      "  0%|          | 0/207 [00:00<?, ?it/s]"
     ]
    },
    {
     "name": "stdout",
     "output_type": "stream",
     "text": [
      "Epoch:  0  Loss:  tensor(13.1962, grad_fn=<MseLossBackward>)  RMSE in test set: tensor(3.6261, grad_fn=<PowBackward0>) MAE in test set:  tensor(3.2816, grad_fn=<L1LossBackward>)\n",
      "Accuracy in test set is:  0.14319284414796846 Precision in test set: 0.9282970550576184 Recall in test set:  0.05958251150558843 F1 scores in test set is: 0.11197775890030118\n",
      "Time consumed is: 44.397165060043335\n"
     ]
    },
    {
     "name": "stderr",
     "output_type": "stream",
     "text": [
      "100%|██████████| 207/207 [00:41<00:00,  5.05it/s]\n",
      "  0%|          | 0/207 [00:00<?, ?it/s]"
     ]
    },
    {
     "name": "stdout",
     "output_type": "stream",
     "text": [
      "Epoch:  1  Loss:  tensor(5.5742, grad_fn=<MseLossBackward>)  RMSE in test set: tensor(2.5446, grad_fn=<PowBackward0>) MAE in test set:  tensor(2.0383, grad_fn=<L1LossBackward>)\n",
      "Accuracy in test set is:  0.44519405700424497 Precision in test set: 0.9353099730458221 Recall in test set:  0.37072649572649574 F1 scores in test set is: 0.5309869931140015\n",
      "Time consumed is: 41.03453588485718\n"
     ]
    },
    {
     "name": "stderr",
     "output_type": "stream",
     "text": [
      "100%|██████████| 207/207 [00:36<00:00,  5.62it/s]\n",
      "  0%|          | 1/207 [00:00<00:40,  5.03it/s]"
     ]
    },
    {
     "name": "stdout",
     "output_type": "stream",
     "text": [
      "Epoch:  2  Loss:  tensor(2.0233, grad_fn=<MseLossBackward>)  RMSE in test set: tensor(1.8516, grad_fn=<PowBackward0>) MAE in test set:  tensor(1.3730, grad_fn=<L1LossBackward>)\n",
      "Accuracy in test set is:  0.6572164948453608 Precision in test set: 0.9361860927976117 Recall in test set:  0.6185075608152532 F1 scores in test set is: 0.7448903845202158\n",
      "Time consumed is: 36.86320090293884\n"
     ]
    },
    {
     "name": "stderr",
     "output_type": "stream",
     "text": [
      "100%|██████████| 207/207 [00:36<00:00,  5.60it/s]\n",
      "  0%|          | 0/207 [00:00<?, ?it/s]"
     ]
    },
    {
     "name": "stdout",
     "output_type": "stream",
     "text": [
      "Epoch:  3  Loss:  tensor(0.9837, grad_fn=<MseLossBackward>)  RMSE in test set: tensor(1.5255, grad_fn=<PowBackward0>) MAE in test set:  tensor(1.1130, grad_fn=<L1LossBackward>)\n",
      "Accuracy in test set is:  0.7513644633110976 Precision in test set: 0.9372844151771715 Recall in test set:  0.7369329388560157 F1 scores in test set is: 0.8251207729468598\n",
      "Time consumed is: 36.99889612197876\n"
     ]
    },
    {
     "name": "stderr",
     "output_type": "stream",
     "text": [
      "100%|██████████| 207/207 [00:37<00:00,  5.55it/s]\n",
      "  0%|          | 0/207 [00:00<?, ?it/s]"
     ]
    },
    {
     "name": "stdout",
     "output_type": "stream",
     "text": [
      "Epoch:  4  Loss:  tensor(0.5581, grad_fn=<MseLossBackward>)  RMSE in test set: tensor(1.3551, grad_fn=<PowBackward0>) MAE in test set:  tensor(0.9921, grad_fn=<L1LossBackward>)\n",
      "Accuracy in test set is:  0.7952546998180715 Precision in test set: 0.9376096705010724 Recall in test set:  0.7904339250493096 F1 scores in test set is: 0.8577543922233123\n",
      "Time consumed is: 37.30653691291809\n"
     ]
    },
    {
     "name": "stderr",
     "output_type": "stream",
     "text": [
      "100%|██████████| 207/207 [00:37<00:00,  5.52it/s]\n",
      "  0%|          | 0/207 [00:00<?, ?it/s]"
     ]
    },
    {
     "name": "stdout",
     "output_type": "stream",
     "text": [
      "Epoch:  5  Loss:  tensor(0.3691, grad_fn=<MseLossBackward>)  RMSE in test set: tensor(1.2555, grad_fn=<PowBackward0>) MAE in test set:  tensor(0.9265, grad_fn=<L1LossBackward>)\n",
      "Accuracy in test set is:  0.8207246816252274 Precision in test set: 0.9379692192192193 Recall in test set:  0.8214168310322156 F1 scores in test set is: 0.875832457062741\n",
      "Time consumed is: 37.48390078544617\n"
     ]
    },
    {
     "name": "stderr",
     "output_type": "stream",
     "text": [
      "100%|██████████| 207/207 [00:36<00:00,  5.64it/s]\n",
      "  0%|          | 0/207 [00:00<?, ?it/s]"
     ]
    },
    {
     "name": "stdout",
     "output_type": "stream",
     "text": [
      "Epoch:  6  Loss:  tensor(0.2828, grad_fn=<MseLossBackward>)  RMSE in test set: tensor(1.1938, grad_fn=<PowBackward0>) MAE in test set:  tensor(0.8881, grad_fn=<L1LossBackward>)\n",
      "Accuracy in test set is:  0.8352789569436022 Precision in test set: 0.9374484842934334 Recall in test set:  0.8412228796844181 F1 scores in test set is: 0.8867327933469051\n",
      "Time consumed is: 36.71334099769592\n"
     ]
    },
    {
     "name": "stderr",
     "output_type": "stream",
     "text": [
      "100%|██████████| 207/207 [00:38<00:00,  5.43it/s]\n",
      "  0%|          | 0/207 [00:00<?, ?it/s]"
     ]
    },
    {
     "name": "stdout",
     "output_type": "stream",
     "text": [
      "Epoch:  7  Loss:  tensor(0.2449, grad_fn=<MseLossBackward>)  RMSE in test set: tensor(1.1536, grad_fn=<PowBackward0>) MAE in test set:  tensor(0.8635, grad_fn=<L1LossBackward>)\n",
      "Accuracy in test set is:  0.8439963614311704 Precision in test set: 0.9375 Recall in test set:  0.8518244575936884 F1 scores in test set is: 0.8926110919738203\n",
      "Time consumed is: 38.12986493110657\n"
     ]
    },
    {
     "name": "stderr",
     "output_type": "stream",
     "text": [
      "100%|██████████| 207/207 [00:36<00:00,  5.61it/s]\n",
      "  0%|          | 0/207 [00:00<?, ?it/s]"
     ]
    },
    {
     "name": "stdout",
     "output_type": "stream",
     "text": [
      "Epoch:  8  Loss:  tensor(0.2278, grad_fn=<MseLossBackward>)  RMSE in test set: tensor(1.1262, grad_fn=<PowBackward0>) MAE in test set:  tensor(0.8471, grad_fn=<L1LossBackward>)\n",
      "Accuracy in test set is:  0.8497574287446937 Precision in test set: 0.9372426141450313 Recall in test set:  0.8603714661406969 F1 scores in test set is: 0.8971634244579656\n",
      "Time consumed is: 36.92261815071106\n"
     ]
    },
    {
     "name": "stderr",
     "output_type": "stream",
     "text": [
      "100%|██████████| 207/207 [00:37<00:00,  5.52it/s]\n",
      "  0%|          | 0/207 [00:00<?, ?it/s]"
     ]
    },
    {
     "name": "stdout",
     "output_type": "stream",
     "text": [
      "Epoch:  9  Loss:  tensor(0.2185, grad_fn=<MseLossBackward>)  RMSE in test set: tensor(1.1070, grad_fn=<PowBackward0>) MAE in test set:  tensor(0.8360, grad_fn=<L1LossBackward>)\n",
      "Accuracy in test set is:  0.8538508186779866 Precision in test set: 0.9368599162881824 Recall in test set:  0.8645627876397107 F1 scores in test set is: 0.8992605889643972\n",
      "Time consumed is: 37.49775791168213\n"
     ]
    },
    {
     "name": "stderr",
     "output_type": "stream",
     "text": [
      "100%|██████████| 207/207 [00:37<00:00,  5.52it/s]\n",
      "  0%|          | 0/207 [00:00<?, ?it/s]"
     ]
    },
    {
     "name": "stdout",
     "output_type": "stream",
     "text": [
      "Epoch:  10  Loss:  tensor(0.2121, grad_fn=<MseLossBackward>)  RMSE in test set: tensor(1.0926, grad_fn=<PowBackward0>) MAE in test set:  tensor(0.8282, grad_fn=<L1LossBackward>)\n",
      "Accuracy in test set is:  0.8573377804730139 Precision in test set: 0.936951316839585 Recall in test set:  0.8683431952662722 F1 scores in test set is: 0.9013435700575816\n",
      "Time consumed is: 37.48766589164734\n"
     ]
    },
    {
     "name": "stderr",
     "output_type": "stream",
     "text": [
      "100%|██████████| 207/207 [00:37<00:00,  5.48it/s]\n",
      "  0%|          | 0/207 [00:00<?, ?it/s]"
     ]
    },
    {
     "name": "stdout",
     "output_type": "stream",
     "text": [
      "Epoch:  11  Loss:  tensor(0.2062, grad_fn=<MseLossBackward>)  RMSE in test set: tensor(1.0813, grad_fn=<PowBackward0>) MAE in test set:  tensor(0.8218, grad_fn=<L1LossBackward>)\n",
      "Accuracy in test set is:  0.8608247422680413 Precision in test set: 0.937057991513437 Recall in test set:  0.871137409598948 F1 scores in test set is: 0.9028960817717205\n",
      "Time consumed is: 37.793660163879395\n"
     ]
    },
    {
     "name": "stderr",
     "output_type": "stream",
     "text": [
      "100%|██████████| 207/207 [00:36<00:00,  5.60it/s]\n",
      "  0%|          | 0/207 [00:00<?, ?it/s]"
     ]
    },
    {
     "name": "stdout",
     "output_type": "stream",
     "text": [
      "Epoch:  12  Loss:  tensor(0.2016, grad_fn=<MseLossBackward>)  RMSE in test set: tensor(1.0734, grad_fn=<PowBackward0>) MAE in test set:  tensor(0.8177, grad_fn=<L1LossBackward>)\n",
      "Accuracy in test set is:  0.8621892055791389 Precision in test set: 0.9372407096831141 Recall in test set:  0.8726166995397765 F1 scores in test set is: 0.9037749499936162\n",
      "Time consumed is: 36.947592973709106\n"
     ]
    },
    {
     "name": "stderr",
     "output_type": "stream",
     "text": [
      "100%|██████████| 207/207 [00:37<00:00,  5.52it/s]\n",
      "  0%|          | 0/207 [00:00<?, ?it/s]"
     ]
    },
    {
     "name": "stdout",
     "output_type": "stream",
     "text": [
      "Epoch:  13  Loss:  tensor(0.1975, grad_fn=<MseLossBackward>)  RMSE in test set: tensor(1.0675, grad_fn=<PowBackward0>) MAE in test set:  tensor(0.8148, grad_fn=<L1LossBackward>)\n",
      "Accuracy in test set is:  0.8624924196482717 Precision in test set: 0.9372742489648489 Recall in test set:  0.8743425378040762 F1 scores in test set is: 0.9047153365364174\n",
      "Time consumed is: 37.47088623046875\n"
     ]
    },
    {
     "name": "stderr",
     "output_type": "stream",
     "text": [
      "100%|██████████| 207/207 [00:37<00:00,  5.55it/s]\n",
      "  0%|          | 0/207 [00:00<?, ?it/s]"
     ]
    },
    {
     "name": "stdout",
     "output_type": "stream",
     "text": [
      "Epoch:  14  Loss:  tensor(0.1931, grad_fn=<MseLossBackward>)  RMSE in test set: tensor(1.0636, grad_fn=<PowBackward0>) MAE in test set:  tensor(0.8130, grad_fn=<L1LossBackward>)\n",
      "Accuracy in test set is:  0.8621892055791389 Precision in test set: 0.9372303899991197 Recall in test set:  0.8749178172255095 F1 scores in test set is: 0.9050027627831854\n",
      "Time consumed is: 37.278785943984985\n"
     ]
    },
    {
     "name": "stderr",
     "output_type": "stream",
     "text": [
      "100%|██████████| 207/207 [00:37<00:00,  5.50it/s]\n",
      "  0%|          | 0/207 [00:00<?, ?it/s]"
     ]
    },
    {
     "name": "stdout",
     "output_type": "stream",
     "text": [
      "Epoch:  15  Loss:  tensor(0.1887, grad_fn=<MseLossBackward>)  RMSE in test set: tensor(1.0610, grad_fn=<PowBackward0>) MAE in test set:  tensor(0.8119, grad_fn=<L1LossBackward>)\n",
      "Accuracy in test set is:  0.8623408126137053 Precision in test set: 0.9368346969297088 Recall in test set:  0.8751643655489809 F1 scores in test set is: 0.9049500743573401\n",
      "Time consumed is: 37.67229104042053\n"
     ]
    },
    {
     "name": "stderr",
     "output_type": "stream",
     "text": [
      "100%|██████████| 207/207 [00:36<00:00,  5.60it/s]\n",
      "  0%|          | 0/207 [00:00<?, ?it/s]"
     ]
    },
    {
     "name": "stdout",
     "output_type": "stream",
     "text": [
      "Epoch:  16  Loss:  tensor(0.1841, grad_fn=<MseLossBackward>)  RMSE in test set: tensor(1.0594, grad_fn=<PowBackward0>) MAE in test set:  tensor(0.8115, grad_fn=<L1LossBackward>)\n",
      "Accuracy in test set is:  0.8630230442692541 Precision in test set: 0.9367568043688893 Recall in test set:  0.8740138067061144 F1 scores in test set is: 0.9042982866374729\n",
      "Time consumed is: 36.94961094856262\n"
     ]
    },
    {
     "name": "stderr",
     "output_type": "stream",
     "text": [
      "100%|██████████| 207/207 [00:37<00:00,  5.53it/s]\n",
      "  0%|          | 0/207 [00:00<?, ?it/s]"
     ]
    },
    {
     "name": "stdout",
     "output_type": "stream",
     "text": [
      "Epoch:  17  Loss:  tensor(0.1796, grad_fn=<MseLossBackward>)  RMSE in test set: tensor(1.0587, grad_fn=<PowBackward0>) MAE in test set:  tensor(0.8115, grad_fn=<L1LossBackward>)\n",
      "Accuracy in test set is:  0.863705275924803 Precision in test set: 0.9366128890064357 Recall in test set:  0.8731097961867192 F1 scores in test set is: 0.903747182170048\n",
      "Time consumed is: 37.413124084472656\n"
     ]
    },
    {
     "name": "stderr",
     "output_type": "stream",
     "text": [
      "100%|██████████| 207/207 [00:36<00:00,  5.61it/s]\n",
      "  0%|          | 0/207 [00:00<?, ?it/s]"
     ]
    },
    {
     "name": "stdout",
     "output_type": "stream",
     "text": [
      "Epoch:  18  Loss:  tensor(0.1751, grad_fn=<MseLossBackward>)  RMSE in test set: tensor(1.0587, grad_fn=<PowBackward0>) MAE in test set:  tensor(0.8120, grad_fn=<L1LossBackward>)\n",
      "Accuracy in test set is:  0.8634778653729533 Precision in test set: 0.9368439622475082 Recall in test set:  0.8728632478632479 F1 scores in test set is: 0.9037226122101681\n",
      "Time consumed is: 36.91256237030029\n"
     ]
    },
    {
     "name": "stderr",
     "output_type": "stream",
     "text": [
      "100%|██████████| 207/207 [00:37<00:00,  5.48it/s]\n",
      "  0%|          | 0/207 [00:00<?, ?it/s]"
     ]
    },
    {
     "name": "stdout",
     "output_type": "stream",
     "text": [
      "Epoch:  19  Loss:  tensor(0.1706, grad_fn=<MseLossBackward>)  RMSE in test set: tensor(1.0594, grad_fn=<PowBackward0>) MAE in test set:  tensor(0.8129, grad_fn=<L1LossBackward>)\n",
      "Accuracy in test set is:  0.8625682231655549 Precision in test set: 0.9370858001237077 Recall in test set:  0.8715483234714004 F1 scores in test set is: 0.903129657228018\n",
      "Time consumed is: 37.76645088195801\n"
     ]
    },
    {
     "name": "stderr",
     "output_type": "stream",
     "text": [
      "100%|██████████| 207/207 [00:36<00:00,  5.67it/s]\n",
      "  0%|          | 0/207 [00:00<?, ?it/s]"
     ]
    },
    {
     "name": "stdout",
     "output_type": "stream",
     "text": [
      "Epoch:  20  Loss:  tensor(0.1661, grad_fn=<MseLossBackward>)  RMSE in test set: tensor(1.0606, grad_fn=<PowBackward0>) MAE in test set:  tensor(0.8139, grad_fn=<L1LossBackward>)\n",
      "Accuracy in test set is:  0.8618101879927229 Precision in test set: 0.9373783831593844 Recall in test set:  0.8709730440499671 F1 scores in test set is: 0.9029564624691148\n",
      "Time consumed is: 36.54457879066467\n"
     ]
    },
    {
     "name": "stderr",
     "output_type": "stream",
     "text": [
      "100%|██████████| 207/207 [00:38<00:00,  5.34it/s]\n",
      "  0%|          | 0/207 [00:00<?, ?it/s]"
     ]
    },
    {
     "name": "stdout",
     "output_type": "stream",
     "text": [
      "Epoch:  21  Loss:  tensor(0.1616, grad_fn=<MseLossBackward>)  RMSE in test set: tensor(1.0625, grad_fn=<PowBackward0>) MAE in test set:  tensor(0.8156, grad_fn=<L1LossBackward>)\n",
      "Accuracy in test set is:  0.8599151000606429 Precision in test set: 0.9376496674057649 Recall in test set:  0.868836291913215 F1 scores in test set is: 0.901932346542678\n",
      "Time consumed is: 38.75593686103821\n"
     ]
    },
    {
     "name": "stderr",
     "output_type": "stream",
     "text": [
      "100%|██████████| 207/207 [00:37<00:00,  5.48it/s]\n",
      "  0%|          | 0/207 [00:00<?, ?it/s]"
     ]
    },
    {
     "name": "stdout",
     "output_type": "stream",
     "text": [
      "Epoch:  22  Loss:  tensor(0.1570, grad_fn=<MseLossBackward>)  RMSE in test set: tensor(1.0645, grad_fn=<PowBackward0>) MAE in test set:  tensor(0.8169, grad_fn=<L1LossBackward>)\n",
      "Accuracy in test set is:  0.8587022437841115 Precision in test set: 0.9377611807593136 Recall in test set:  0.8667817225509533 F1 scores in test set is: 0.900875507153534\n",
      "Time consumed is: 37.800694942474365\n"
     ]
    },
    {
     "name": "stderr",
     "output_type": "stream",
     "text": [
      "100%|██████████| 207/207 [00:37<00:00,  5.49it/s]\n",
      "  0%|          | 0/207 [00:00<?, ?it/s]"
     ]
    },
    {
     "name": "stdout",
     "output_type": "stream",
     "text": [
      "Epoch:  23  Loss:  tensor(0.1522, grad_fn=<MseLossBackward>)  RMSE in test set: tensor(1.0678, grad_fn=<PowBackward0>) MAE in test set:  tensor(0.8194, grad_fn=<L1LossBackward>)\n",
      "Accuracy in test set is:  0.8568071558520315 Precision in test set: 0.9376836107896377 Recall in test set:  0.8656311637080868 F1 scores in test set is: 0.900217939404299\n",
      "Time consumed is: 37.678247928619385\n"
     ]
    },
    {
     "name": "stderr",
     "output_type": "stream",
     "text": [
      "100%|██████████| 207/207 [00:37<00:00,  5.54it/s]\n",
      "  0%|          | 0/207 [00:00<?, ?it/s]"
     ]
    },
    {
     "name": "stdout",
     "output_type": "stream",
     "text": [
      "Epoch:  24  Loss:  tensor(0.1473, grad_fn=<MseLossBackward>)  RMSE in test set: tensor(1.0702, grad_fn=<PowBackward0>) MAE in test set:  tensor(0.8212, grad_fn=<L1LossBackward>)\n",
      "Accuracy in test set is:  0.8553668890236507 Precision in test set: 0.9379347244515784 Recall in test set:  0.8643984220907298 F1 scores in test set is: 0.8996664100590198\n",
      "Time consumed is: 37.381516218185425\n"
     ]
    },
    {
     "name": "stderr",
     "output_type": "stream",
     "text": [
      "100%|██████████| 207/207 [00:38<00:00,  5.41it/s]\n",
      "  0%|          | 0/207 [00:00<?, ?it/s]"
     ]
    },
    {
     "name": "stdout",
     "output_type": "stream",
     "text": [
      "Epoch:  25  Loss:  tensor(0.1422, grad_fn=<MseLossBackward>)  RMSE in test set: tensor(1.0742, grad_fn=<PowBackward0>) MAE in test set:  tensor(0.8241, grad_fn=<L1LossBackward>)\n",
      "Accuracy in test set is:  0.8535476046088538 Precision in test set: 0.9377849289353715 Recall in test set:  0.8621794871794872 F1 scores in test set is: 0.8983943481053308\n",
      "Time consumed is: 38.272868156433105\n"
     ]
    },
    {
     "name": "stderr",
     "output_type": "stream",
     "text": [
      "100%|██████████| 207/207 [00:36<00:00,  5.66it/s]\n",
      "  0%|          | 0/207 [00:00<?, ?it/s]"
     ]
    },
    {
     "name": "stdout",
     "output_type": "stream",
     "text": [
      "Epoch:  26  Loss:  tensor(0.1369, grad_fn=<MseLossBackward>)  RMSE in test set: tensor(1.0771, grad_fn=<PowBackward0>) MAE in test set:  tensor(0.8263, grad_fn=<L1LossBackward>)\n",
      "Accuracy in test set is:  0.8523347483323226 Precision in test set: 0.9380094956552898 Recall in test set:  0.8605358316896778 F1 scores in test set is: 0.8976040461188977\n",
      "Time consumed is: 36.555365800857544\n"
     ]
    },
    {
     "name": "stderr",
     "output_type": "stream",
     "text": [
      "100%|██████████| 207/207 [00:37<00:00,  5.46it/s]\n",
      "  0%|          | 0/207 [00:00<?, ?it/s]"
     ]
    },
    {
     "name": "stdout",
     "output_type": "stream",
     "text": [
      "Epoch:  27  Loss:  tensor(0.0881, grad_fn=<MseLossBackward>)  RMSE in test set: tensor(1.0648, grad_fn=<PowBackward0>) MAE in test set:  tensor(0.8147, grad_fn=<L1LossBackward>)\n",
      "Accuracy in test set is:  0.8571103699211643 Precision in test set: 0.9386792452830188 Recall in test set:  0.8667817225509533 F1 scores in test set is: 0.901298923260981\n",
      "Time consumed is: 37.93094992637634\n"
     ]
    },
    {
     "name": "stderr",
     "output_type": "stream",
     "text": [
      "100%|██████████| 207/207 [00:38<00:00,  5.42it/s]\n",
      "  0%|          | 0/207 [00:00<?, ?it/s]"
     ]
    },
    {
     "name": "stdout",
     "output_type": "stream",
     "text": [
      "Epoch:  28  Loss:  tensor(0.0884, grad_fn=<MseLossBackward>)  RMSE in test set: tensor(1.0651, grad_fn=<PowBackward0>) MAE in test set:  tensor(0.8147, grad_fn=<L1LossBackward>)\n",
      "Accuracy in test set is:  0.8571103699211643 Precision in test set: 0.9388646288209607 Recall in test set:  0.8657955292570677 F1 scores in test set is: 0.9008508273119842\n",
      "Time consumed is: 38.2035870552063\n"
     ]
    },
    {
     "name": "stderr",
     "output_type": "stream",
     "text": [
      "100%|██████████| 207/207 [00:38<00:00,  5.40it/s]\n",
      "  0%|          | 0/207 [00:00<?, ?it/s]"
     ]
    },
    {
     "name": "stdout",
     "output_type": "stream",
     "text": [
      "Epoch:  29  Loss:  tensor(0.0881, grad_fn=<MseLossBackward>)  RMSE in test set: tensor(1.0668, grad_fn=<PowBackward0>) MAE in test set:  tensor(0.8158, grad_fn=<L1LossBackward>)\n",
      "Accuracy in test set is:  0.8563523347483323 Precision in test set: 0.9388319215336602 Recall in test set:  0.865302432610125 F1 scores in test set is: 0.9005687892913655\n",
      "Time consumed is: 38.31249523162842\n"
     ]
    },
    {
     "name": "stderr",
     "output_type": "stream",
     "text": [
      "100%|██████████| 207/207 [00:36<00:00,  5.62it/s]\n",
      "  0%|          | 0/207 [00:00<?, ?it/s]"
     ]
    },
    {
     "name": "stdout",
     "output_type": "stream",
     "text": [
      "Epoch:  30  Loss:  tensor(0.0878, grad_fn=<MseLossBackward>)  RMSE in test set: tensor(1.0686, grad_fn=<PowBackward0>) MAE in test set:  tensor(0.8171, grad_fn=<L1LossBackward>)\n",
      "Accuracy in test set is:  0.8557459066100667 Precision in test set: 0.9386935570230234 Recall in test set:  0.8644806048652203 F1 scores in test set is: 0.9000598956105075\n",
      "Time consumed is: 36.84774303436279\n"
     ]
    },
    {
     "name": "stderr",
     "output_type": "stream",
     "text": [
      "100%|██████████| 207/207 [00:37<00:00,  5.50it/s]\n",
      "  0%|          | 0/207 [00:00<?, ?it/s]"
     ]
    },
    {
     "name": "stdout",
     "output_type": "stream",
     "text": [
      "Epoch:  31  Loss:  tensor(0.0872, grad_fn=<MseLossBackward>)  RMSE in test set: tensor(1.0707, grad_fn=<PowBackward0>) MAE in test set:  tensor(0.8185, grad_fn=<L1LossBackward>)\n",
      "Accuracy in test set is:  0.8555942995755003 Precision in test set: 0.9389176638685479 Recall in test set:  0.8640696909927679 F1 scores in test set is: 0.8999400838825643\n",
      "Time consumed is: 37.66327500343323\n"
     ]
    },
    {
     "name": "stderr",
     "output_type": "stream",
     "text": [
      "100%|██████████| 207/207 [00:37<00:00,  5.56it/s]\n",
      "  0%|          | 0/207 [00:00<?, ?it/s]"
     ]
    },
    {
     "name": "stdout",
     "output_type": "stream",
     "text": [
      "Epoch:  32  Loss:  tensor(0.0865, grad_fn=<MseLossBackward>)  RMSE in test set: tensor(1.0726, grad_fn=<PowBackward0>) MAE in test set:  tensor(0.8198, grad_fn=<L1LossBackward>)\n",
      "Accuracy in test set is:  0.855139478471801 Precision in test set: 0.9387007416674114 Recall in test set:  0.8633300460223537 F1 scores in test set is: 0.8994391883214179\n",
      "Time consumed is: 37.2181670665741\n"
     ]
    },
    {
     "name": "stderr",
     "output_type": "stream",
     "text": [
      "100%|██████████| 207/207 [00:37<00:00,  5.57it/s]\n",
      "  0%|          | 0/207 [00:00<?, ?it/s]"
     ]
    },
    {
     "name": "stdout",
     "output_type": "stream",
     "text": [
      "Epoch:  33  Loss:  tensor(0.0855, grad_fn=<MseLossBackward>)  RMSE in test set: tensor(1.0748, grad_fn=<PowBackward0>) MAE in test set:  tensor(0.8212, grad_fn=<L1LossBackward>)\n",
      "Accuracy in test set is:  0.8539266221952698 Precision in test set: 0.9388485988002507 Recall in test set:  0.8617685733070348 F1 scores in test set is: 0.8986587821913699\n",
      "Time consumed is: 37.195054054260254\n"
     ]
    },
    {
     "name": "stderr",
     "output_type": "stream",
     "text": [
      "100%|██████████| 207/207 [00:36<00:00,  5.60it/s]\n",
      "  0%|          | 0/207 [00:00<?, ?it/s]"
     ]
    },
    {
     "name": "stdout",
     "output_type": "stream",
     "text": [
      "Epoch:  34  Loss:  tensor(0.0845, grad_fn=<MseLossBackward>)  RMSE in test set: tensor(1.0768, grad_fn=<PowBackward0>) MAE in test set:  tensor(0.8225, grad_fn=<L1LossBackward>)\n",
      "Accuracy in test set is:  0.8536992116434202 Precision in test set: 0.9390844754994178 Recall in test set:  0.8615220249835635 F1 scores in test set is: 0.8986327204148987\n",
      "Time consumed is: 36.95787024497986\n"
     ]
    },
    {
     "name": "stderr",
     "output_type": "stream",
     "text": [
      "100%|██████████| 207/207 [00:38<00:00,  5.36it/s]\n",
      "  0%|          | 0/207 [00:00<?, ?it/s]"
     ]
    },
    {
     "name": "stdout",
     "output_type": "stream",
     "text": [
      "Epoch:  35  Loss:  tensor(0.0833, grad_fn=<MseLossBackward>)  RMSE in test set: tensor(1.0790, grad_fn=<PowBackward0>) MAE in test set:  tensor(0.8239, grad_fn=<L1LossBackward>)\n",
      "Accuracy in test set is:  0.8525621588841722 Precision in test set: 0.9393423528357674 Recall in test set:  0.8616042077580539 F1 scores in test set is: 0.8987954905911099\n",
      "Time consumed is: 38.656779050827026\n"
     ]
    },
    {
     "name": "stderr",
     "output_type": "stream",
     "text": [
      "100%|██████████| 207/207 [00:37<00:00,  5.59it/s]\n",
      "  0%|          | 0/207 [00:00<?, ?it/s]"
     ]
    },
    {
     "name": "stdout",
     "output_type": "stream",
     "text": [
      "Epoch:  36  Loss:  tensor(0.0821, grad_fn=<MseLossBackward>)  RMSE in test set: tensor(1.0810, grad_fn=<PowBackward0>) MAE in test set:  tensor(0.8253, grad_fn=<L1LossBackward>)\n",
      "Accuracy in test set is:  0.851728320194057 Precision in test set: 0.9395786642761094 Recall in test set:  0.8613576594345825 F1 scores in test set is: 0.8987694550443768\n",
      "Time consumed is: 37.028162717819214\n"
     ]
    },
    {
     "name": "stderr",
     "output_type": "stream",
     "text": [
      "100%|██████████| 207/207 [00:37<00:00,  5.52it/s]\n",
      "  0%|          | 0/207 [00:00<?, ?it/s]"
     ]
    },
    {
     "name": "stdout",
     "output_type": "stream",
     "text": [
      "Epoch:  37  Loss:  tensor(0.0808, grad_fn=<MseLossBackward>)  RMSE in test set: tensor(1.0832, grad_fn=<PowBackward0>) MAE in test set:  tensor(0.8268, grad_fn=<L1LossBackward>)\n",
      "Accuracy in test set is:  0.8508944815039418 Precision in test set: 0.939385775862069 Recall in test set:  0.8597140039447732 F1 scores in test set is: 0.8977857878475798\n",
      "Time consumed is: 37.52851390838623\n"
     ]
    },
    {
     "name": "stderr",
     "output_type": "stream",
     "text": [
      "100%|██████████| 207/207 [00:37<00:00,  5.54it/s]\n",
      "  0%|          | 0/207 [00:00<?, ?it/s]"
     ]
    },
    {
     "name": "stdout",
     "output_type": "stream",
     "text": [
      "Epoch:  38  Loss:  tensor(0.0632, grad_fn=<MseLossBackward>)  RMSE in test set: tensor(1.0808, grad_fn=<PowBackward0>) MAE in test set:  tensor(0.8245, grad_fn=<L1LossBackward>)\n",
      "Accuracy in test set is:  0.8518799272286234 Precision in test set: 0.9393258426966292 Recall in test set:  0.858809993425378 F1 scores in test set is: 0.8972652728287468\n",
      "Time consumed is: 37.39996600151062\n"
     ]
    },
    {
     "name": "stderr",
     "output_type": "stream",
     "text": [
      "100%|██████████| 207/207 [00:37<00:00,  5.52it/s]\n",
      "  0%|          | 1/207 [00:00<00:29,  7.04it/s]"
     ]
    },
    {
     "name": "stdout",
     "output_type": "stream",
     "text": [
      "Epoch:  39  Loss:  tensor(0.0618, grad_fn=<MseLossBackward>)  RMSE in test set: tensor(1.0811, grad_fn=<PowBackward0>) MAE in test set:  tensor(0.8245, grad_fn=<L1LossBackward>)\n",
      "Accuracy in test set is:  0.8508944815039418 Precision in test set: 0.939173405211141 Recall in test set:  0.8590565417488495 F1 scores in test set is: 0.8973302429393081\n",
      "Time consumed is: 37.52700710296631\n"
     ]
    },
    {
     "name": "stderr",
     "output_type": "stream",
     "text": [
      "100%|██████████| 207/207 [00:37<00:00,  5.57it/s]\n",
      "  0%|          | 1/207 [00:00<00:38,  5.31it/s]"
     ]
    },
    {
     "name": "stdout",
     "output_type": "stream",
     "text": [
      "Epoch:  0  Loss:  tensor(2.2069, grad_fn=<MseLossBackward>)  RMSE in test set: tensor(1.5313, grad_fn=<PowBackward0>) MAE in test set:  tensor(1.1785, grad_fn=<L1LossBackward>)\n",
      "Accuracy in test set is:  0.7055791388720437 Precision in test set: 0.9409361503443445 Recall in test set:  0.6624753451676528 F1 scores in test set is: 0.7775259223535085\n",
      "Time consumed is: 37.1507248878479\n"
     ]
    },
    {
     "name": "stderr",
     "output_type": "stream",
     "text": [
      "100%|██████████| 207/207 [00:36<00:00,  5.61it/s]\n",
      "  0%|          | 1/207 [00:00<00:39,  5.25it/s]"
     ]
    },
    {
     "name": "stdout",
     "output_type": "stream",
     "text": [
      "Epoch:  1  Loss:  tensor(0.8092, grad_fn=<MseLossBackward>)  RMSE in test set: tensor(1.4115, grad_fn=<PowBackward0>) MAE in test set:  tensor(1.0977, grad_fn=<L1LossBackward>)\n",
      "Accuracy in test set is:  0.7294572468162522 Precision in test set: 0.9392539163755212 Recall in test set:  0.6849112426035503 F1 scores in test set is: 0.7921676726391331\n",
      "Time consumed is: 36.93446111679077\n"
     ]
    },
    {
     "name": "stderr",
     "output_type": "stream",
     "text": [
      "100%|██████████| 207/207 [00:38<00:00,  5.38it/s]\n",
      "  0%|          | 0/207 [00:00<?, ?it/s]"
     ]
    },
    {
     "name": "stdout",
     "output_type": "stream",
     "text": [
      "Epoch:  2  Loss:  tensor(0.7269, grad_fn=<MseLossBackward>)  RMSE in test set: tensor(1.4020, grad_fn=<PowBackward0>) MAE in test set:  tensor(1.0920, grad_fn=<L1LossBackward>)\n",
      "Accuracy in test set is:  0.7329442086112795 Precision in test set: 0.9392271399685463 Recall in test set:  0.6871301775147929 F1 scores in test set is: 0.793640246796393\n",
      "Time consumed is: 38.50744104385376\n"
     ]
    },
    {
     "name": "stderr",
     "output_type": "stream",
     "text": [
      "100%|██████████| 207/207 [00:38<00:00,  5.40it/s]\n",
      "  0%|          | 0/207 [00:00<?, ?it/s]"
     ]
    },
    {
     "name": "stdout",
     "output_type": "stream",
     "text": [
      "Epoch:  3  Loss:  tensor(0.6785, grad_fn=<MseLossBackward>)  RMSE in test set: tensor(1.3932, grad_fn=<PowBackward0>) MAE in test set:  tensor(1.0847, grad_fn=<L1LossBackward>)\n",
      "Accuracy in test set is:  0.7358247422680413 Precision in test set: 0.9402417188898836 Recall in test set:  0.690499671268902 F1 scores in test set is: 0.7962471569370735\n",
      "Time consumed is: 38.308791637420654\n"
     ]
    },
    {
     "name": "stderr",
     "output_type": "stream",
     "text": [
      "100%|██████████| 207/207 [00:37<00:00,  5.51it/s]\n",
      "  0%|          | 0/207 [00:00<?, ?it/s]"
     ]
    },
    {
     "name": "stdout",
     "output_type": "stream",
     "text": [
      "Epoch:  4  Loss:  tensor(0.6573, grad_fn=<MseLossBackward>)  RMSE in test set: tensor(1.3873, grad_fn=<PowBackward0>) MAE in test set:  tensor(1.0799, grad_fn=<L1LossBackward>)\n",
      "Accuracy in test set is:  0.7371134020618557 Precision in test set: 0.9406703910614526 Recall in test set:  0.69189677843524 F1 scores in test set is: 0.7973292925466426\n",
      "Time consumed is: 37.55983781814575\n"
     ]
    },
    {
     "name": "stderr",
     "output_type": "stream",
     "text": [
      "100%|██████████| 207/207 [00:37<00:00,  5.48it/s]\n",
      "  0%|          | 0/207 [00:00<?, ?it/s]"
     ]
    },
    {
     "name": "stdout",
     "output_type": "stream",
     "text": [
      "Epoch:  5  Loss:  tensor(0.6428, grad_fn=<MseLossBackward>)  RMSE in test set: tensor(1.3816, grad_fn=<PowBackward0>) MAE in test set:  tensor(1.0752, grad_fn=<L1LossBackward>)\n",
      "Accuracy in test set is:  0.7406761673741662 Precision in test set: 0.9406911928651059 Recall in test set:  0.6934582511505588 F1 scores in test set is: 0.7983725991106064\n",
      "Time consumed is: 37.78730797767639\n"
     ]
    },
    {
     "name": "stderr",
     "output_type": "stream",
     "text": [
      "100%|██████████| 207/207 [00:38<00:00,  5.41it/s]\n",
      "  0%|          | 0/207 [00:00<?, ?it/s]"
     ]
    },
    {
     "name": "stdout",
     "output_type": "stream",
     "text": [
      "Epoch:  6  Loss:  tensor(0.6433, grad_fn=<MseLossBackward>)  RMSE in test set: tensor(1.3761, grad_fn=<PowBackward0>) MAE in test set:  tensor(1.0709, grad_fn=<L1LossBackward>)\n",
      "Accuracy in test set is:  0.7434808975136447 Precision in test set: 0.9398019361299655 Recall in test set:  0.6941157133464826 F1 scores in test set is: 0.7984873552351691\n",
      "Time consumed is: 38.24717903137207\n"
     ]
    },
    {
     "name": "stderr",
     "output_type": "stream",
     "text": [
      "100%|██████████| 207/207 [00:38<00:00,  5.45it/s]\n",
      "  0%|          | 0/207 [00:00<?, ?it/s]"
     ]
    },
    {
     "name": "stdout",
     "output_type": "stream",
     "text": [
      "Epoch:  7  Loss:  tensor(0.6524, grad_fn=<MseLossBackward>)  RMSE in test set: tensor(1.3716, grad_fn=<PowBackward0>) MAE in test set:  tensor(1.0672, grad_fn=<L1LossBackward>)\n",
      "Accuracy in test set is:  0.7459824135839903 Precision in test set: 0.9397068620919387 Recall in test set:  0.6955128205128205 F1 scores in test set is: 0.7993765939359592\n",
      "Time consumed is: 38.0195848941803\n"
     ]
    },
    {
     "name": "stderr",
     "output_type": "stream",
     "text": [
      "100%|██████████| 207/207 [00:37<00:00,  5.48it/s]\n",
      "  0%|          | 0/207 [00:00<?, ?it/s]"
     ]
    },
    {
     "name": "stdout",
     "output_type": "stream",
     "text": [
      "Epoch:  8  Loss:  tensor(0.6660, grad_fn=<MseLossBackward>)  RMSE in test set: tensor(1.3682, grad_fn=<PowBackward0>) MAE in test set:  tensor(1.0647, grad_fn=<L1LossBackward>)\n",
      "Accuracy in test set is:  0.7475742874469375 Precision in test set: 0.9395653138168109 Recall in test set:  0.6963346482577252 F1 scores in test set is: 0.7998678372510147\n",
      "Time consumed is: 37.80361008644104\n"
     ]
    },
    {
     "name": "stderr",
     "output_type": "stream",
     "text": [
      "100%|██████████| 207/207 [00:38<00:00,  5.43it/s]\n",
      "  0%|          | 0/207 [00:00<?, ?it/s]"
     ]
    },
    {
     "name": "stdout",
     "output_type": "stream",
     "text": [
      "Epoch:  9  Loss:  tensor(0.6778, grad_fn=<MseLossBackward>)  RMSE in test set: tensor(1.3658, grad_fn=<PowBackward0>) MAE in test set:  tensor(1.0627, grad_fn=<L1LossBackward>)\n",
      "Accuracy in test set is:  0.7490145542753184 Precision in test set: 0.9397190576263688 Recall in test set:  0.6982248520710059 F1 scores in test set is: 0.8011693149134802\n",
      "Time consumed is: 38.15834903717041\n"
     ]
    },
    {
     "name": "stderr",
     "output_type": "stream",
     "text": [
      "100%|██████████| 207/207 [00:39<00:00,  5.27it/s]\n",
      "  0%|          | 0/207 [00:00<?, ?it/s]"
     ]
    },
    {
     "name": "stdout",
     "output_type": "stream",
     "text": [
      "Epoch:  10  Loss:  tensor(0.6829, grad_fn=<MseLossBackward>)  RMSE in test set: tensor(1.3584, grad_fn=<PowBackward0>) MAE in test set:  tensor(1.0562, grad_fn=<L1LossBackward>)\n",
      "Accuracy in test set is:  0.7517434808975136 Precision in test set: 0.9394039735099338 Recall in test set:  0.6994575936883629 F1 scores in test set is: 0.8018654607122668\n",
      "Time consumed is: 39.27395296096802\n"
     ]
    },
    {
     "name": "stderr",
     "output_type": "stream",
     "text": [
      "100%|██████████| 207/207 [00:37<00:00,  5.47it/s]\n",
      "  0%|          | 0/207 [00:00<?, ?it/s]"
     ]
    },
    {
     "name": "stdout",
     "output_type": "stream",
     "text": [
      "Epoch:  11  Loss:  tensor(0.7281, grad_fn=<MseLossBackward>)  RMSE in test set: tensor(1.3612, grad_fn=<PowBackward0>) MAE in test set:  tensor(1.0591, grad_fn=<L1LossBackward>)\n",
      "Accuracy in test set is:  0.747725894481504 Precision in test set: 0.9398579671549046 Recall in test set:  0.6960880999342538 F1 scores in test set is: 0.7998111425873465\n",
      "Time consumed is: 37.869768142700195\n"
     ]
    },
    {
     "name": "stderr",
     "output_type": "stream",
     "text": [
      "100%|██████████| 207/207 [00:38<00:00,  5.43it/s]\n",
      "  0%|          | 0/207 [00:00<?, ?it/s]"
     ]
    },
    {
     "name": "stdout",
     "output_type": "stream",
     "text": [
      "Epoch:  12  Loss:  tensor(0.6876, grad_fn=<MseLossBackward>)  RMSE in test set: tensor(1.3657, grad_fn=<PowBackward0>) MAE in test set:  tensor(1.0644, grad_fn=<L1LossBackward>)\n",
      "Accuracy in test set is:  0.7478016979987872 Precision in test set: 0.9403659611992945 Recall in test set:  0.7011012491781723 F1 scores in test set is: 0.8032956685499058\n",
      "Time consumed is: 38.122682094573975\n"
     ]
    },
    {
     "name": "stderr",
     "output_type": "stream",
     "text": [
      "100%|██████████| 207/207 [00:37<00:00,  5.46it/s]\n",
      "  0%|          | 0/207 [00:00<?, ?it/s]"
     ]
    },
    {
     "name": "stdout",
     "output_type": "stream",
     "text": [
      "Epoch:  13  Loss:  tensor(0.6831, grad_fn=<MseLossBackward>)  RMSE in test set: tensor(1.3511, grad_fn=<PowBackward0>) MAE in test set:  tensor(1.0514, grad_fn=<L1LossBackward>)\n",
      "Accuracy in test set is:  0.7540933899332929 Precision in test set: 0.9396846399823575 Recall in test set:  0.7003616042077581 F1 scores in test set is: 0.8025615670763291\n",
      "Time consumed is: 37.9398729801178\n"
     ]
    },
    {
     "name": "stderr",
     "output_type": "stream",
     "text": [
      "100%|██████████| 207/207 [00:38<00:00,  5.40it/s]\n",
      "  0%|          | 0/207 [00:00<?, ?it/s]"
     ]
    },
    {
     "name": "stdout",
     "output_type": "stream",
     "text": [
      "Epoch:  14  Loss:  tensor(0.7519, grad_fn=<MseLossBackward>)  RMSE in test set: tensor(1.3576, grad_fn=<PowBackward0>) MAE in test set:  tensor(1.0568, grad_fn=<L1LossBackward>)\n",
      "Accuracy in test set is:  0.7503032140691328 Precision in test set: 0.9394308492968664 Recall in test set:  0.6972386587771203 F1 scores in test set is: 0.8004151139204678\n",
      "Time consumed is: 38.348519802093506\n"
     ]
    },
    {
     "name": "stderr",
     "output_type": "stream",
     "text": [
      "100%|██████████| 207/207 [00:38<00:00,  5.38it/s]\n",
      "  0%|          | 0/207 [00:00<?, ?it/s]"
     ]
    },
    {
     "name": "stdout",
     "output_type": "stream",
     "text": [
      "Epoch:  15  Loss:  tensor(0.7143, grad_fn=<MseLossBackward>)  RMSE in test set: tensor(1.3562, grad_fn=<PowBackward0>) MAE in test set:  tensor(1.0569, grad_fn=<L1LossBackward>)\n",
      "Accuracy in test set is:  0.749241964827168 Precision in test set: 0.9401945611319921 Recall in test set:  0.6989644970414202 F1 scores in test set is: 0.8018289808616953\n",
      "Time consumed is: 38.505788803100586\n"
     ]
    },
    {
     "name": "stderr",
     "output_type": "stream",
     "text": [
      "100%|██████████| 207/207 [00:38<00:00,  5.36it/s]\n",
      "  0%|          | 0/207 [00:00<?, ?it/s]"
     ]
    },
    {
     "name": "stdout",
     "output_type": "stream",
     "text": [
      "Epoch:  16  Loss:  tensor(0.7086, grad_fn=<MseLossBackward>)  RMSE in test set: tensor(1.3571, grad_fn=<PowBackward0>) MAE in test set:  tensor(1.0586, grad_fn=<L1LossBackward>)\n",
      "Accuracy in test set is:  0.7491661613098848 Precision in test set: 0.9398985443317159 Recall in test set:  0.7004437869822485 F1 scores in test set is: 0.8026935392729329\n",
      "Time consumed is: 38.62101602554321\n"
     ]
    },
    {
     "name": "stderr",
     "output_type": "stream",
     "text": [
      "100%|██████████| 207/207 [00:37<00:00,  5.47it/s]\n",
      "  0%|          | 0/207 [00:00<?, ?it/s]"
     ]
    },
    {
     "name": "stdout",
     "output_type": "stream",
     "text": [
      "Epoch:  17  Loss:  tensor(0.7336, grad_fn=<MseLossBackward>)  RMSE in test set: tensor(1.3528, grad_fn=<PowBackward0>) MAE in test set:  tensor(1.0547, grad_fn=<L1LossBackward>)\n",
      "Accuracy in test set is:  0.7508338386901152 Precision in test set: 0.939594356261023 Recall in test set:  0.700525969756739 F1 scores in test set is: 0.8026365348399246\n",
      "Time consumed is: 37.879575967788696\n"
     ]
    },
    {
     "name": "stderr",
     "output_type": "stream",
     "text": [
      "100%|██████████| 207/207 [00:38<00:00,  5.40it/s]\n",
      "  0%|          | 0/207 [00:00<?, ?it/s]"
     ]
    },
    {
     "name": "stdout",
     "output_type": "stream",
     "text": [
      "Epoch:  18  Loss:  tensor(0.7415, grad_fn=<MseLossBackward>)  RMSE in test set: tensor(1.3543, grad_fn=<PowBackward0>) MAE in test set:  tensor(1.0563, grad_fn=<L1LossBackward>)\n",
      "Accuracy in test set is:  0.7495451788963008 Precision in test set: 0.9392405063291139 Recall in test set:  0.7012656147271532 F1 scores in test set is: 0.802992518703242\n",
      "Time consumed is: 38.32742714881897\n"
     ]
    },
    {
     "name": "stderr",
     "output_type": "stream",
     "text": [
      "100%|██████████| 207/207 [00:38<00:00,  5.44it/s]\n",
      "  0%|          | 0/207 [00:00<?, ?it/s]"
     ]
    },
    {
     "name": "stdout",
     "output_type": "stream",
     "text": [
      "Epoch:  19  Loss:  tensor(0.7451, grad_fn=<MseLossBackward>)  RMSE in test set: tensor(1.3493, grad_fn=<PowBackward0>) MAE in test set:  tensor(1.0518, grad_fn=<L1LossBackward>)\n",
      "Accuracy in test set is:  0.750379017586416 Precision in test set: 0.9394438949335092 Recall in test set:  0.7024983563445102 F1 scores in test set is: 0.8038745474208868\n",
      "Time consumed is: 38.033292055130005\n"
     ]
    },
    {
     "name": "stderr",
     "output_type": "stream",
     "text": [
      "100%|██████████| 207/207 [00:38<00:00,  5.43it/s]\n",
      "  0%|          | 0/207 [00:00<?, ?it/s]"
     ]
    },
    {
     "name": "stdout",
     "output_type": "stream",
     "text": [
      "Epoch:  20  Loss:  tensor(0.7489, grad_fn=<MseLossBackward>)  RMSE in test set: tensor(1.3473, grad_fn=<PowBackward0>) MAE in test set:  tensor(1.0502, grad_fn=<L1LossBackward>)\n",
      "Accuracy in test set is:  0.750758035172832 Precision in test set: 0.9394736842105263 Recall in test set:  0.7041420118343196 F1 scores in test set is: 0.8049605411499436\n",
      "Time consumed is: 38.108137130737305\n"
     ]
    },
    {
     "name": "stderr",
     "output_type": "stream",
     "text": [
      "100%|██████████| 207/207 [00:38<00:00,  5.42it/s]\n",
      "  0%|          | 0/207 [00:00<?, ?it/s]"
     ]
    },
    {
     "name": "stdout",
     "output_type": "stream",
     "text": [
      "Epoch:  21  Loss:  tensor(0.7573, grad_fn=<MseLossBackward>)  RMSE in test set: tensor(1.3467, grad_fn=<PowBackward0>) MAE in test set:  tensor(1.0500, grad_fn=<L1LossBackward>)\n",
      "Accuracy in test set is:  0.7500758035172832 Precision in test set: 0.9398529250356712 Recall in test set:  0.7037310979618672 F1 scores in test set is: 0.8048310540908877\n",
      "Time consumed is: 38.170329093933105\n"
     ]
    },
    {
     "name": "stderr",
     "output_type": "stream",
     "text": [
      "100%|██████████| 207/207 [00:37<00:00,  5.46it/s]\n",
      "  0%|          | 0/207 [00:00<?, ?it/s]"
     ]
    },
    {
     "name": "stdout",
     "output_type": "stream",
     "text": [
      "Epoch:  22  Loss:  tensor(0.7477, grad_fn=<MseLossBackward>)  RMSE in test set: tensor(1.3532, grad_fn=<PowBackward0>) MAE in test set:  tensor(1.0566, grad_fn=<L1LossBackward>)\n",
      "Accuracy in test set is:  0.7493935718617344 Precision in test set: 0.9399429073342117 Recall in test set:  0.7035667324128863 F1 scores in test set is: 0.8047565331829292\n",
      "Time consumed is: 37.918095111846924\n"
     ]
    },
    {
     "name": "stderr",
     "output_type": "stream",
     "text": [
      "100%|██████████| 207/207 [00:38<00:00,  5.40it/s]\n",
      "  0%|          | 0/207 [00:00<?, ?it/s]"
     ]
    },
    {
     "name": "stdout",
     "output_type": "stream",
     "text": [
      "Epoch:  23  Loss:  tensor(0.7254, grad_fn=<MseLossBackward>)  RMSE in test set: tensor(1.3511, grad_fn=<PowBackward0>) MAE in test set:  tensor(1.0554, grad_fn=<L1LossBackward>)\n",
      "Accuracy in test set is:  0.7505306246209824 Precision in test set: 0.9396759360630611 Recall in test set:  0.7053747534516766 F1 scores in test set is: 0.805839827246268\n",
      "Time consumed is: 38.359867095947266\n"
     ]
    },
    {
     "name": "stderr",
     "output_type": "stream",
     "text": [
      "100%|██████████| 207/207 [00:38<00:00,  5.40it/s]\n",
      "  0%|          | 0/207 [00:00<?, ?it/s]"
     ]
    },
    {
     "name": "stdout",
     "output_type": "stream",
     "text": [
      "Epoch:  24  Loss:  tensor(0.7333, grad_fn=<MseLossBackward>)  RMSE in test set: tensor(1.3428, grad_fn=<PowBackward0>) MAE in test set:  tensor(1.0472, grad_fn=<L1LossBackward>)\n",
      "Accuracy in test set is:  0.7524257125530625 Precision in test set: 0.9396523450311578 Recall in test set:  0.7063609467455622 F1 scores in test set is: 0.8064743138634763\n",
      "Time consumed is: 38.33063769340515\n"
     ]
    },
    {
     "name": "stderr",
     "output_type": "stream",
     "text": [
      "100%|██████████| 207/207 [00:38<00:00,  5.39it/s]\n",
      "  0%|          | 0/207 [00:00<?, ?it/s]"
     ]
    },
    {
     "name": "stdout",
     "output_type": "stream",
     "text": [
      "Epoch:  25  Loss:  tensor(0.7637, grad_fn=<MseLossBackward>)  RMSE in test set: tensor(1.3497, grad_fn=<PowBackward0>) MAE in test set:  tensor(1.0533, grad_fn=<L1LossBackward>)\n",
      "Accuracy in test set is:  0.7497725894481504 Precision in test set: 0.940188762071993 Recall in test set:  0.7040598290598291 F1 scores in test set is: 0.8051691729323308\n",
      "Time consumed is: 38.37786293029785\n"
     ]
    },
    {
     "name": "stderr",
     "output_type": "stream",
     "text": [
      "100%|██████████| 207/207 [00:37<00:00,  5.48it/s]\n",
      "  0%|          | 0/207 [00:00<?, ?it/s]"
     ]
    },
    {
     "name": "stdout",
     "output_type": "stream",
     "text": [
      "Epoch:  26  Loss:  tensor(0.7326, grad_fn=<MseLossBackward>)  RMSE in test set: tensor(1.3447, grad_fn=<PowBackward0>) MAE in test set:  tensor(1.0491, grad_fn=<L1LossBackward>)\n",
      "Accuracy in test set is:  0.7528047301394785 Precision in test set: 0.9395196506550219 Recall in test set:  0.7072649572649573 F1 scores in test set is: 0.807014253563391\n",
      "Time consumed is: 37.79333209991455\n"
     ]
    },
    {
     "name": "stderr",
     "output_type": "stream",
     "text": [
      "100%|██████████| 207/207 [00:38<00:00,  5.43it/s]\n",
      "  0%|          | 0/207 [00:00<?, ?it/s]"
     ]
    },
    {
     "name": "stdout",
     "output_type": "stream",
     "text": [
      "Epoch:  27  Loss:  tensor(0.7638, grad_fn=<MseLossBackward>)  RMSE in test set: tensor(1.3443, grad_fn=<PowBackward0>) MAE in test set:  tensor(1.0484, grad_fn=<L1LossBackward>)\n",
      "Accuracy in test set is:  0.7533353547604609 Precision in test set: 0.9399080560420315 Recall in test set:  0.7057034845496384 F1 scores in test set is: 0.8061396920766054\n",
      "Time consumed is: 38.11897087097168\n"
     ]
    },
    {
     "name": "stderr",
     "output_type": "stream",
     "text": [
      "100%|██████████| 207/207 [00:38<00:00,  5.40it/s]\n",
      "  0%|          | 0/207 [00:00<?, ?it/s]"
     ]
    },
    {
     "name": "stdout",
     "output_type": "stream",
     "text": [
      "Epoch:  28  Loss:  tensor(0.7475, grad_fn=<MseLossBackward>)  RMSE in test set: tensor(1.3478, grad_fn=<PowBackward0>) MAE in test set:  tensor(1.0521, grad_fn=<L1LossBackward>)\n",
      "Accuracy in test set is:  0.7506822316555488 Precision in test set: 0.9400196656833825 Recall in test set:  0.7071005917159763 F1 scores in test set is: 0.8070915998311522\n",
      "Time consumed is: 38.341322898864746\n"
     ]
    },
    {
     "name": "stderr",
     "output_type": "stream",
     "text": [
      "100%|██████████| 207/207 [00:38<00:00,  5.37it/s]\n",
      "  0%|          | 0/207 [00:00<?, ?it/s]"
     ]
    },
    {
     "name": "stdout",
     "output_type": "stream",
     "text": [
      "Epoch:  29  Loss:  tensor(0.7548, grad_fn=<MseLossBackward>)  RMSE in test set: tensor(1.3503, grad_fn=<PowBackward0>) MAE in test set:  tensor(1.0542, grad_fn=<L1LossBackward>)\n",
      "Accuracy in test set is:  0.7506822316555488 Precision in test set: 0.9399649430324277 Recall in test set:  0.7051282051282052 F1 scores in test set is: 0.8057851239669422\n",
      "Time consumed is: 38.54611611366272\n"
     ]
    },
    {
     "name": "stderr",
     "output_type": "stream",
     "text": [
      "100%|██████████| 207/207 [00:38<00:00,  5.43it/s]\n",
      "  0%|          | 0/207 [00:00<?, ?it/s]"
     ]
    },
    {
     "name": "stdout",
     "output_type": "stream",
     "text": [
      "Epoch:  30  Loss:  tensor(0.7397, grad_fn=<MseLossBackward>)  RMSE in test set: tensor(1.3436, grad_fn=<PowBackward0>) MAE in test set:  tensor(1.0484, grad_fn=<L1LossBackward>)\n",
      "Accuracy in test set is:  0.7520466949666464 Precision in test set: 0.9397511460379829 Recall in test set:  0.7075936883629191 F1 scores in test set is: 0.8073136427566807\n",
      "Time consumed is: 38.13633394241333\n"
     ]
    },
    {
     "name": "stderr",
     "output_type": "stream",
     "text": [
      "100%|██████████| 207/207 [00:38<00:00,  5.42it/s]\n",
      "  0%|          | 0/207 [00:00<?, ?it/s]"
     ]
    },
    {
     "name": "stdout",
     "output_type": "stream",
     "text": [
      "Epoch:  31  Loss:  tensor(0.7541, grad_fn=<MseLossBackward>)  RMSE in test set: tensor(1.3445, grad_fn=<PowBackward0>) MAE in test set:  tensor(1.0484, grad_fn=<L1LossBackward>)\n",
      "Accuracy in test set is:  0.7529563371740449 Precision in test set: 0.9395664550032844 Recall in test set:  0.7052925706771861 F1 scores in test set is: 0.805745939348418\n",
      "Time consumed is: 38.18327021598816\n"
     ]
    },
    {
     "name": "stderr",
     "output_type": "stream",
     "text": [
      "100%|██████████| 207/207 [00:37<00:00,  5.45it/s]\n",
      "  0%|          | 0/207 [00:00<?, ?it/s]"
     ]
    },
    {
     "name": "stdout",
     "output_type": "stream",
     "text": [
      "Epoch:  32  Loss:  tensor(0.7439, grad_fn=<MseLossBackward>)  RMSE in test set: tensor(1.3479, grad_fn=<PowBackward0>) MAE in test set:  tensor(1.0519, grad_fn=<L1LossBackward>)\n",
      "Accuracy in test set is:  0.7508338386901152 Precision in test set: 0.9398991006799737 Recall in test set:  0.7043063773833005 F1 scores in test set is: 0.8052240909517993\n",
      "Time consumed is: 37.99409008026123\n"
     ]
    },
    {
     "name": "stderr",
     "output_type": "stream",
     "text": [
      "100%|██████████| 207/207 [00:38<00:00,  5.44it/s]\n",
      "  0%|          | 0/207 [00:00<?, ?it/s]"
     ]
    },
    {
     "name": "stdout",
     "output_type": "stream",
     "text": [
      "Epoch:  33  Loss:  tensor(0.7412, grad_fn=<MseLossBackward>)  RMSE in test set: tensor(1.3486, grad_fn=<PowBackward0>) MAE in test set:  tensor(1.0527, grad_fn=<L1LossBackward>)\n",
      "Accuracy in test set is:  0.7517434808975136 Precision in test set: 0.9400131118881119 Recall in test set:  0.7070184089414858 F1 scores in test set is: 0.8070356472795496\n",
      "Time consumed is: 38.076239824295044\n"
     ]
    },
    {
     "name": "stderr",
     "output_type": "stream",
     "text": [
      "100%|██████████| 207/207 [00:38<00:00,  5.44it/s]\n",
      "  0%|          | 0/207 [00:00<?, ?it/s]"
     ]
    },
    {
     "name": "stdout",
     "output_type": "stream",
     "text": [
      "Epoch:  34  Loss:  tensor(0.7493, grad_fn=<MseLossBackward>)  RMSE in test set: tensor(1.3397, grad_fn=<PowBackward0>) MAE in test set:  tensor(1.0443, grad_fn=<L1LossBackward>)\n",
      "Accuracy in test set is:  0.7534111582777441 Precision in test set: 0.9397616704930578 Recall in test set:  0.7064431295200526 F1 scores in test set is: 0.806568144499179\n",
      "Time consumed is: 38.042449951171875\n"
     ]
    },
    {
     "name": "stderr",
     "output_type": "stream",
     "text": [
      "100%|██████████| 207/207 [00:38<00:00,  5.33it/s]\n",
      "  0%|          | 0/207 [00:00<?, ?it/s]"
     ]
    },
    {
     "name": "stdout",
     "output_type": "stream",
     "text": [
      "Epoch:  35  Loss:  tensor(0.7837, grad_fn=<MseLossBackward>)  RMSE in test set: tensor(1.3541, grad_fn=<PowBackward0>) MAE in test set:  tensor(1.0574, grad_fn=<L1LossBackward>)\n",
      "Accuracy in test set is:  0.7491661613098848 Precision in test set: 0.9404735803551852 Recall in test set:  0.7050460223537146 F1 scores in test set is: 0.8059182714889619\n",
      "Time consumed is: 38.812374114990234\n"
     ]
    },
    {
     "name": "stderr",
     "output_type": "stream",
     "text": [
      "100%|██████████| 207/207 [00:38<00:00,  5.37it/s]\n",
      "  0%|          | 0/207 [00:00<?, ?it/s]"
     ]
    },
    {
     "name": "stdout",
     "output_type": "stream",
     "text": [
      "Epoch:  36  Loss:  tensor(0.4975, grad_fn=<MseLossBackward>)  RMSE in test set: tensor(1.2505, grad_fn=<PowBackward0>) MAE in test set:  tensor(0.9628, grad_fn=<L1LossBackward>)\n",
      "Accuracy in test set is:  0.7964675560946027 Precision in test set: 0.9392806627601535 Recall in test set:  0.7640532544378699 F1 scores in test set is: 0.8426538566119821\n",
      "Time consumed is: 38.562654972076416\n"
     ]
    },
    {
     "name": "stderr",
     "output_type": "stream",
     "text": [
      "100%|██████████| 207/207 [00:38<00:00,  5.41it/s]\n",
      "  0%|          | 0/207 [00:00<?, ?it/s]"
     ]
    },
    {
     "name": "stdout",
     "output_type": "stream",
     "text": [
      "Epoch:  37  Loss:  tensor(0.5373, grad_fn=<MseLossBackward>)  RMSE in test set: tensor(1.2570, grad_fn=<PowBackward0>) MAE in test set:  tensor(0.9685, grad_fn=<L1LossBackward>)\n",
      "Accuracy in test set is:  0.7943450576106731 Precision in test set: 0.9393662400975015 Recall in test set:  0.7601084812623274 F1 scores in test set is: 0.8402834559825565\n",
      "Time consumed is: 38.26408100128174\n"
     ]
    },
    {
     "name": "stderr",
     "output_type": "stream",
     "text": [
      "100%|██████████| 207/207 [00:37<00:00,  5.49it/s]\n",
      "  0%|          | 0/207 [00:00<?, ?it/s]"
     ]
    },
    {
     "name": "stdout",
     "output_type": "stream",
     "text": [
      "Epoch:  38  Loss:  tensor(0.5455, grad_fn=<MseLossBackward>)  RMSE in test set: tensor(1.2614, grad_fn=<PowBackward0>) MAE in test set:  tensor(0.9723, grad_fn=<L1LossBackward>)\n",
      "Accuracy in test set is:  0.792828987265009 Precision in test set: 0.9390443128445988 Recall in test set:  0.7558349769888232 F1 scores in test set is: 0.837537564884801\n",
      "Time consumed is: 37.686553955078125\n"
     ]
    },
    {
     "name": "stderr",
     "output_type": "stream",
     "text": [
      "100%|██████████| 207/207 [00:38<00:00,  5.35it/s]\n",
      "  0%|          | 1/207 [00:00<00:32,  6.40it/s]"
     ]
    },
    {
     "name": "stdout",
     "output_type": "stream",
     "text": [
      "Epoch:  39  Loss:  tensor(0.5529, grad_fn=<MseLossBackward>)  RMSE in test set: tensor(1.2637, grad_fn=<PowBackward0>) MAE in test set:  tensor(0.9744, grad_fn=<L1LossBackward>)\n",
      "Accuracy in test set is:  0.7915403274711946 Precision in test set: 0.9390717644653445 Recall in test set:  0.754930966469428 F1 scores in test set is: 0.8369931662870159\n",
      "Time consumed is: 38.6786789894104\n"
     ]
    },
    {
     "name": "stderr",
     "output_type": "stream",
     "text": [
      "100%|██████████| 207/207 [00:38<00:00,  5.39it/s]\n",
      "  0%|          | 0/207 [00:00<?, ?it/s]"
     ]
    },
    {
     "name": "stdout",
     "output_type": "stream",
     "text": [
      "Epoch:  0  Loss:  tensor(2.6417, grad_fn=<MseLossBackward>)  RMSE in test set: tensor(1.4616, grad_fn=<PowBackward0>) MAE in test set:  tensor(1.0884, grad_fn=<L1LossBackward>)\n",
      "Accuracy in test set is:  0.7538659793814433 Precision in test set: 0.9375385247585781 Recall in test set:  0.75 F1 scores in test set is: 0.8333485526435942\n",
      "Time consumed is: 38.39890098571777\n"
     ]
    },
    {
     "name": "stderr",
     "output_type": "stream",
     "text": [
      "100%|██████████| 207/207 [00:37<00:00,  5.50it/s]\n",
      "  0%|          | 0/207 [00:00<?, ?it/s]"
     ]
    },
    {
     "name": "stdout",
     "output_type": "stream",
     "text": [
      "Epoch:  1  Loss:  tensor(0.6964, grad_fn=<MseLossBackward>)  RMSE in test set: tensor(1.2119, grad_fn=<PowBackward0>) MAE in test set:  tensor(0.9264, grad_fn=<L1LossBackward>)\n",
      "Accuracy in test set is:  0.8103395997574288 Precision in test set: 0.9371939736346516 Recall in test set:  0.8179651545036161 F1 scores in test set is: 0.8735299280322977\n",
      "Time consumed is: 37.61541700363159\n"
     ]
    },
    {
     "name": "stderr",
     "output_type": "stream",
     "text": [
      "100%|██████████| 207/207 [00:38<00:00,  5.38it/s]\n",
      "  0%|          | 0/207 [00:00<?, ?it/s]"
     ]
    },
    {
     "name": "stdout",
     "output_type": "stream",
     "text": [
      "Epoch:  2  Loss:  tensor(0.3788, grad_fn=<MseLossBackward>)  RMSE in test set: tensor(1.1862, grad_fn=<PowBackward0>) MAE in test set:  tensor(0.9120, grad_fn=<L1LossBackward>)\n",
      "Accuracy in test set is:  0.8164038811400849 Precision in test set: 0.9369453526389537 Recall in test set:  0.824293228139382 F1 scores in test set is: 0.8770165697547326\n",
      "Time consumed is: 38.50538206100464\n"
     ]
    },
    {
     "name": "stderr",
     "output_type": "stream",
     "text": [
      "100%|██████████| 207/207 [00:38<00:00,  5.33it/s]\n",
      "  0%|          | 1/207 [00:00<00:39,  5.22it/s]"
     ]
    },
    {
     "name": "stdout",
     "output_type": "stream",
     "text": [
      "Epoch:  3  Loss:  tensor(0.3403, grad_fn=<MseLossBackward>)  RMSE in test set: tensor(1.1921, grad_fn=<PowBackward0>) MAE in test set:  tensor(0.9189, grad_fn=<L1LossBackward>)\n",
      "Accuracy in test set is:  0.810036385688296 Precision in test set: 0.9362896435587987 Recall in test set:  0.8224852071005917 F1 scores in test set is: 0.8757054731592073\n",
      "Time consumed is: 38.87538981437683\n"
     ]
    },
    {
     "name": "stderr",
     "output_type": "stream",
     "text": [
      "100%|██████████| 207/207 [00:37<00:00,  5.45it/s]\n",
      "  0%|          | 0/207 [00:00<?, ?it/s]"
     ]
    },
    {
     "name": "stdout",
     "output_type": "stream",
     "text": [
      "Epoch:  4  Loss:  tensor(0.2980, grad_fn=<MseLossBackward>)  RMSE in test set: tensor(1.2081, grad_fn=<PowBackward0>) MAE in test set:  tensor(0.9315, grad_fn=<L1LossBackward>)\n",
      "Accuracy in test set is:  0.8041237113402062 Precision in test set: 0.9378199052132702 Recall in test set:  0.8131163708086785 F1 scores in test set is: 0.8710273791707017\n",
      "Time consumed is: 37.97604584693909\n"
     ]
    },
    {
     "name": "stderr",
     "output_type": "stream",
     "text": [
      "100%|██████████| 207/207 [00:37<00:00,  5.46it/s]\n",
      "  0%|          | 0/207 [00:00<?, ?it/s]"
     ]
    },
    {
     "name": "stdout",
     "output_type": "stream",
     "text": [
      "Epoch:  5  Loss:  tensor(0.3164, grad_fn=<MseLossBackward>)  RMSE in test set: tensor(1.2225, grad_fn=<PowBackward0>) MAE in test set:  tensor(0.9429, grad_fn=<L1LossBackward>)\n",
      "Accuracy in test set is:  0.7985900545785325 Precision in test set: 0.9374940356904284 Recall in test set:  0.8073635765943459 F1 scores in test set is: 0.8675762794189076\n",
      "Time consumed is: 37.904958963394165\n"
     ]
    },
    {
     "name": "stderr",
     "output_type": "stream",
     "text": [
      "100%|██████████| 207/207 [00:38<00:00,  5.33it/s]\n",
      "  0%|          | 0/207 [00:00<?, ?it/s]"
     ]
    },
    {
     "name": "stdout",
     "output_type": "stream",
     "text": [
      "Epoch:  6  Loss:  tensor(0.3292, grad_fn=<MseLossBackward>)  RMSE in test set: tensor(1.2333, grad_fn=<PowBackward0>) MAE in test set:  tensor(0.9505, grad_fn=<L1LossBackward>)\n",
      "Accuracy in test set is:  0.7944208611279563 Precision in test set: 0.9374700297305073 Recall in test set:  0.803336620644313 F1 scores in test set is: 0.865235671608763\n",
      "Time consumed is: 38.8424391746521\n"
     ]
    },
    {
     "name": "stderr",
     "output_type": "stream",
     "text": [
      "100%|██████████| 207/207 [00:38<00:00,  5.40it/s]\n",
      "  0%|          | 0/207 [00:00<?, ?it/s]"
     ]
    },
    {
     "name": "stdout",
     "output_type": "stream",
     "text": [
      "Epoch:  7  Loss:  tensor(0.3860, grad_fn=<MseLossBackward>)  RMSE in test set: tensor(1.2408, grad_fn=<PowBackward0>) MAE in test set:  tensor(0.9559, grad_fn=<L1LossBackward>)\n",
      "Accuracy in test set is:  0.7929805942995755 Precision in test set: 0.9377222489187891 Recall in test set:  0.8018573307034845 F1 scores in test set is: 0.8644841181943029\n",
      "Time consumed is: 38.366780042648315\n"
     ]
    },
    {
     "name": "stderr",
     "output_type": "stream",
     "text": [
      "100%|██████████| 207/207 [00:38<00:00,  5.38it/s]\n",
      "  0%|          | 0/207 [00:00<?, ?it/s]"
     ]
    },
    {
     "name": "stdout",
     "output_type": "stream",
     "text": [
      "Epoch:  8  Loss:  tensor(0.3643, grad_fn=<MseLossBackward>)  RMSE in test set: tensor(1.2451, grad_fn=<PowBackward0>) MAE in test set:  tensor(0.9583, grad_fn=<L1LossBackward>)\n",
      "Accuracy in test set is:  0.7938902365069739 Precision in test set: 0.9376989102131353 Recall in test set:  0.7990631163708086 F1 scores in test set is: 0.8628477614589342\n",
      "Time consumed is: 38.5044059753418\n"
     ]
    },
    {
     "name": "stderr",
     "output_type": "stream",
     "text": [
      "100%|██████████| 207/207 [00:38<00:00,  5.43it/s]\n",
      "  0%|          | 0/207 [00:00<?, ?it/s]"
     ]
    },
    {
     "name": "stdout",
     "output_type": "stream",
     "text": [
      "Epoch:  9  Loss:  tensor(0.3375, grad_fn=<MseLossBackward>)  RMSE in test set: tensor(1.2473, grad_fn=<PowBackward0>) MAE in test set:  tensor(0.9589, grad_fn=<L1LossBackward>)\n",
      "Accuracy in test set is:  0.7923741661613098 Precision in test set: 0.9377405696689761 Recall in test set:  0.8008711374095989 F1 scores in test set is: 0.8639184397163121\n",
      "Time consumed is: 38.110174894332886\n"
     ]
    },
    {
     "name": "stderr",
     "output_type": "stream",
     "text": [
      "100%|██████████| 207/207 [00:39<00:00,  5.27it/s]\n",
      "  0%|          | 1/207 [00:00<00:39,  5.20it/s]"
     ]
    },
    {
     "name": "stdout",
     "output_type": "stream",
     "text": [
      "Epoch:  10  Loss:  tensor(0.3034, grad_fn=<MseLossBackward>)  RMSE in test set: tensor(1.2485, grad_fn=<PowBackward0>) MAE in test set:  tensor(0.9593, grad_fn=<L1LossBackward>)\n",
      "Accuracy in test set is:  0.792449969678593 Precision in test set: 0.9380224848659556 Recall in test set:  0.8022682445759369 F1 scores in test set is: 0.8648504983388704\n",
      "Time consumed is: 39.2751739025116\n"
     ]
    },
    {
     "name": "stderr",
     "output_type": "stream",
     "text": [
      "100%|██████████| 207/207 [00:38<00:00,  5.43it/s]\n",
      "  0%|          | 0/207 [00:00<?, ?it/s]"
     ]
    },
    {
     "name": "stdout",
     "output_type": "stream",
     "text": [
      "Epoch:  11  Loss:  tensor(0.2718, grad_fn=<MseLossBackward>)  RMSE in test set: tensor(1.2466, grad_fn=<PowBackward0>) MAE in test set:  tensor(0.9565, grad_fn=<L1LossBackward>)\n",
      "Accuracy in test set is:  0.7941934505761067 Precision in test set: 0.9382893226176808 Recall in test set:  0.8059664694280079 F1 scores in test set is: 0.8671087533156498\n",
      "Time consumed is: 38.1134557723999\n"
     ]
    },
    {
     "name": "stderr",
     "output_type": "stream",
     "text": [
      "100%|██████████| 207/207 [00:38<00:00,  5.41it/s]\n",
      "  0%|          | 0/207 [00:00<?, ?it/s]"
     ]
    },
    {
     "name": "stdout",
     "output_type": "stream",
     "text": [
      "Epoch:  12  Loss:  tensor(0.2370, grad_fn=<MseLossBackward>)  RMSE in test set: tensor(1.2479, grad_fn=<PowBackward0>) MAE in test set:  tensor(0.9574, grad_fn=<L1LossBackward>)\n",
      "Accuracy in test set is:  0.792828987265009 Precision in test set: 0.9387167929414021 Recall in test set:  0.8044049967126891 F1 scores in test set is: 0.866386368665634\n",
      "Time consumed is: 38.24851608276367\n"
     ]
    },
    {
     "name": "stderr",
     "output_type": "stream",
     "text": [
      "100%|██████████| 207/207 [00:38<00:00,  5.42it/s]\n",
      "  0%|          | 0/207 [00:00<?, ?it/s]"
     ]
    },
    {
     "name": "stdout",
     "output_type": "stream",
     "text": [
      "Epoch:  13  Loss:  tensor(0.2358, grad_fn=<MseLossBackward>)  RMSE in test set: tensor(1.2465, grad_fn=<PowBackward0>) MAE in test set:  tensor(0.9557, grad_fn=<L1LossBackward>)\n",
      "Accuracy in test set is:  0.7945724681625227 Precision in test set: 0.9382999044890162 Recall in test set:  0.8073635765943459 F1 scores in test set is: 0.8679211944518068\n",
      "Time consumed is: 38.221433877944946\n"
     ]
    },
    {
     "name": "stderr",
     "output_type": "stream",
     "text": [
      "100%|██████████| 207/207 [00:38<00:00,  5.35it/s]\n",
      "  0%|          | 0/207 [00:00<?, ?it/s]"
     ]
    },
    {
     "name": "stdout",
     "output_type": "stream",
     "text": [
      "Epoch:  14  Loss:  tensor(0.1881, grad_fn=<MseLossBackward>)  RMSE in test set: tensor(1.1288, grad_fn=<PowBackward0>) MAE in test set:  tensor(0.8603, grad_fn=<L1LossBackward>)\n",
      "Accuracy in test set is:  0.8372498483929655 Precision in test set: 0.9387904257262927 Recall in test set:  0.8445101906640368 F1 scores in test set is: 0.8891580860084797\n",
      "Time consumed is: 38.683287143707275\n"
     ]
    },
    {
     "name": "stderr",
     "output_type": "stream",
     "text": [
      "100%|██████████| 207/207 [00:38<00:00,  5.41it/s]\n",
      "  0%|          | 0/207 [00:00<?, ?it/s]"
     ]
    },
    {
     "name": "stdout",
     "output_type": "stream",
     "text": [
      "Epoch:  15  Loss:  tensor(0.2330, grad_fn=<MseLossBackward>)  RMSE in test set: tensor(1.1283, grad_fn=<PowBackward0>) MAE in test set:  tensor(0.8606, grad_fn=<L1LossBackward>)\n",
      "Accuracy in test set is:  0.8368708308065494 Precision in test set: 0.9383842994066636 Recall in test set:  0.8448389217619987 F1 scores in test set is: 0.8891579812308091\n",
      "Time consumed is: 38.28478193283081\n"
     ]
    },
    {
     "name": "stderr",
     "output_type": "stream",
     "text": [
      "100%|██████████| 207/207 [00:38<00:00,  5.43it/s]\n",
      "  0%|          | 0/207 [00:00<?, ?it/s]"
     ]
    },
    {
     "name": "stdout",
     "output_type": "stream",
     "text": [
      "Epoch:  16  Loss:  tensor(0.1414, grad_fn=<MseLossBackward>)  RMSE in test set: tensor(1.1333, grad_fn=<PowBackward0>) MAE in test set:  tensor(0.8642, grad_fn=<L1LossBackward>)\n",
      "Accuracy in test set is:  0.8341419041843542 Precision in test set: 0.9387474821461271 Recall in test set:  0.8426199868507561 F1 scores in test set is: 0.8880900822867042\n",
      "Time consumed is: 38.09426212310791\n"
     ]
    },
    {
     "name": "stderr",
     "output_type": "stream",
     "text": [
      "100%|██████████| 207/207 [00:38<00:00,  5.34it/s]\n",
      "  0%|          | 0/207 [00:00<?, ?it/s]"
     ]
    },
    {
     "name": "stdout",
     "output_type": "stream",
     "text": [
      "Epoch:  17  Loss:  tensor(0.1810, grad_fn=<MseLossBackward>)  RMSE in test set: tensor(1.1381, grad_fn=<PowBackward0>) MAE in test set:  tensor(0.8682, grad_fn=<L1LossBackward>)\n",
      "Accuracy in test set is:  0.8317919951485749 Precision in test set: 0.9388073394495413 Recall in test set:  0.8409763313609467 F1 scores in test set is: 0.887203051846714\n",
      "Time consumed is: 38.732956886291504\n"
     ]
    },
    {
     "name": "stderr",
     "output_type": "stream",
     "text": [
      "100%|██████████| 207/207 [00:38<00:00,  5.44it/s]\n",
      "  0%|          | 0/207 [00:00<?, ?it/s]"
     ]
    },
    {
     "name": "stdout",
     "output_type": "stream",
     "text": [
      "Epoch:  18  Loss:  tensor(0.1301, grad_fn=<MseLossBackward>)  RMSE in test set: tensor(1.1428, grad_fn=<PowBackward0>) MAE in test set:  tensor(0.8718, grad_fn=<L1LossBackward>)\n",
      "Accuracy in test set is:  0.8300485142510613 Precision in test set: 0.9387848751835536 Recall in test set:  0.8406476002629849 F1 scores in test set is: 0.8870100589663544\n",
      "Time consumed is: 38.07343006134033\n"
     ]
    },
    {
     "name": "stderr",
     "output_type": "stream",
     "text": [
      "100%|██████████| 207/207 [00:38<00:00,  5.42it/s]\n",
      "  0%|          | 0/207 [00:00<?, ?it/s]"
     ]
    },
    {
     "name": "stdout",
     "output_type": "stream",
     "text": [
      "Epoch:  19  Loss:  tensor(0.1473, grad_fn=<MseLossBackward>)  RMSE in test set: tensor(1.1468, grad_fn=<PowBackward0>) MAE in test set:  tensor(0.8747, grad_fn=<L1LossBackward>)\n",
      "Accuracy in test set is:  0.8283050333535477 Precision in test set: 0.939636899824901 Recall in test set:  0.8379355687047995 F1 scores in test set is: 0.8858768843129589\n",
      "Time consumed is: 38.191490173339844\n"
     ]
    },
    {
     "name": "stderr",
     "output_type": "stream",
     "text": [
      "100%|██████████| 207/207 [00:38<00:00,  5.40it/s]\n",
      "  0%|          | 0/207 [00:00<?, ?it/s]"
     ]
    },
    {
     "name": "stdout",
     "output_type": "stream",
     "text": [
      "Epoch:  20  Loss:  tensor(0.1136, grad_fn=<MseLossBackward>)  RMSE in test set: tensor(1.1499, grad_fn=<PowBackward0>) MAE in test set:  tensor(0.8771, grad_fn=<L1LossBackward>)\n",
      "Accuracy in test set is:  0.8264857489387507 Precision in test set: 0.9395589185198856 Recall in test set:  0.8367850098619329 F1 scores in test set is: 0.8851988698109107\n",
      "Time consumed is: 38.30827498435974\n"
     ]
    },
    {
     "name": "stderr",
     "output_type": "stream",
     "text": [
      "100%|██████████| 207/207 [00:39<00:00,  5.29it/s]\n",
      "  0%|          | 0/207 [00:00<?, ?it/s]"
     ]
    },
    {
     "name": "stdout",
     "output_type": "stream",
     "text": [
      "Epoch:  21  Loss:  tensor(0.1340, grad_fn=<MseLossBackward>)  RMSE in test set: tensor(1.1529, grad_fn=<PowBackward0>) MAE in test set:  tensor(0.8792, grad_fn=<L1LossBackward>)\n",
      "Accuracy in test set is:  0.8257277137659187 Precision in test set: 0.939601034355375 Recall in test set:  0.8361275476660092 F1 scores in test set is: 0.8848495390502696\n",
      "Time consumed is: 39.1568660736084\n"
     ]
    },
    {
     "name": "stderr",
     "output_type": "stream",
     "text": [
      "100%|██████████| 207/207 [00:38<00:00,  5.40it/s]\n",
      "  0%|          | 0/207 [00:00<?, ?it/s]"
     ]
    },
    {
     "name": "stdout",
     "output_type": "stream",
     "text": [
      "Epoch:  22  Loss:  tensor(0.1115, grad_fn=<MseLossBackward>)  RMSE in test set: tensor(1.1543, grad_fn=<PowBackward0>) MAE in test set:  tensor(0.8799, grad_fn=<L1LossBackward>)\n",
      "Accuracy in test set is:  0.8245906610066707 Precision in test set: 0.9393995381062356 Recall in test set:  0.8357166337935569 F1 scores in test set is: 0.8845300743704607\n",
      "Time consumed is: 38.372559785842896\n"
     ]
    },
    {
     "name": "stderr",
     "output_type": "stream",
     "text": [
      "100%|██████████| 207/207 [00:38<00:00,  5.43it/s]\n",
      "  0%|          | 0/207 [00:00<?, ?it/s]"
     ]
    },
    {
     "name": "stdout",
     "output_type": "stream",
     "text": [
      "Epoch:  23  Loss:  tensor(0.1510, grad_fn=<MseLossBackward>)  RMSE in test set: tensor(1.1568, grad_fn=<PowBackward0>) MAE in test set:  tensor(0.8817, grad_fn=<L1LossBackward>)\n",
      "Accuracy in test set is:  0.8243632504548211 Precision in test set: 0.9393547194231303 Recall in test set:  0.8350591715976331 F1 scores in test set is: 0.8841418316293235\n",
      "Time consumed is: 38.09818696975708\n"
     ]
    },
    {
     "name": "stderr",
     "output_type": "stream",
     "text": [
      "100%|██████████| 207/207 [00:38<00:00,  5.31it/s]\n",
      "  0%|          | 0/207 [00:00<?, ?it/s]"
     ]
    },
    {
     "name": "stdout",
     "output_type": "stream",
     "text": [
      "Epoch:  24  Loss:  tensor(0.1459, grad_fn=<MseLossBackward>)  RMSE in test set: tensor(1.1570, grad_fn=<PowBackward0>) MAE in test set:  tensor(0.8815, grad_fn=<L1LossBackward>)\n",
      "Accuracy in test set is:  0.8237568223165554 Precision in test set: 0.9389073458840901 Recall in test set:  0.8361275476660092 F1 scores in test set is: 0.8845418188141193\n",
      "Time consumed is: 38.95770788192749\n"
     ]
    },
    {
     "name": "stderr",
     "output_type": "stream",
     "text": [
      "100%|██████████| 207/207 [00:38<00:00,  5.33it/s]\n",
      "  0%|          | 0/207 [00:00<?, ?it/s]"
     ]
    },
    {
     "name": "stdout",
     "output_type": "stream",
     "text": [
      "Epoch:  25  Loss:  tensor(0.1868, grad_fn=<MseLossBackward>)  RMSE in test set: tensor(1.1596, grad_fn=<PowBackward0>) MAE in test set:  tensor(0.8832, grad_fn=<L1LossBackward>)\n",
      "Accuracy in test set is:  0.823605215281989 Precision in test set: 0.9390581717451524 Recall in test set:  0.8357988165680473 F1 scores in test set is: 0.8844247325854422\n",
      "Time consumed is: 38.86286497116089\n"
     ]
    },
    {
     "name": "stderr",
     "output_type": "stream",
     "text": [
      "100%|██████████| 207/207 [00:38<00:00,  5.38it/s]\n",
      "  0%|          | 0/207 [00:00<?, ?it/s]"
     ]
    },
    {
     "name": "stdout",
     "output_type": "stream",
     "text": [
      "Epoch:  26  Loss:  tensor(0.0621, grad_fn=<MseLossBackward>)  RMSE in test set: tensor(1.1184, grad_fn=<PowBackward0>) MAE in test set:  tensor(0.8460, grad_fn=<L1LossBackward>)\n",
      "Accuracy in test set is:  0.836719223771983 Precision in test set: 0.9386059949440231 Recall in test set:  0.8543721236028928 F1 scores in test set is: 0.8945104112889347\n",
      "Time consumed is: 38.45684504508972\n"
     ]
    },
    {
     "name": "stderr",
     "output_type": "stream",
     "text": [
      "100%|██████████| 207/207 [00:38<00:00,  5.35it/s]\n",
      "  0%|          | 0/207 [00:00<?, ?it/s]"
     ]
    },
    {
     "name": "stdout",
     "output_type": "stream",
     "text": [
      "Epoch:  27  Loss:  tensor(0.0709, grad_fn=<MseLossBackward>)  RMSE in test set: tensor(1.1201, grad_fn=<PowBackward0>) MAE in test set:  tensor(0.8473, grad_fn=<L1LossBackward>)\n",
      "Accuracy in test set is:  0.8360369921164342 Precision in test set: 0.9380124335525724 Recall in test set:  0.8556048652202498 F1 scores in test set is: 0.8949155456225556\n",
      "Time consumed is: 38.679596185684204\n"
     ]
    },
    {
     "name": "stderr",
     "output_type": "stream",
     "text": [
      "100%|██████████| 207/207 [00:38<00:00,  5.44it/s]\n",
      "  0%|          | 0/207 [00:00<?, ?it/s]"
     ]
    },
    {
     "name": "stdout",
     "output_type": "stream",
     "text": [
      "Epoch:  28  Loss:  tensor(0.0498, grad_fn=<MseLossBackward>)  RMSE in test set: tensor(1.1226, grad_fn=<PowBackward0>) MAE in test set:  tensor(0.8491, grad_fn=<L1LossBackward>)\n",
      "Accuracy in test set is:  0.8358853850818678 Precision in test set: 0.9376128566269412 Recall in test set:  0.8534681130834977 F1 scores in test set is: 0.8935639304766823\n",
      "Time consumed is: 38.05690121650696\n"
     ]
    },
    {
     "name": "stderr",
     "output_type": "stream",
     "text": [
      "100%|██████████| 207/207 [00:38<00:00,  5.41it/s]\n",
      "  0%|          | 0/207 [00:00<?, ?it/s]"
     ]
    },
    {
     "name": "stdout",
     "output_type": "stream",
     "text": [
      "Epoch:  29  Loss:  tensor(0.0645, grad_fn=<MseLossBackward>)  RMSE in test set: tensor(1.1250, grad_fn=<PowBackward0>) MAE in test set:  tensor(0.8512, grad_fn=<L1LossBackward>)\n",
      "Accuracy in test set is:  0.8355063674954518 Precision in test set: 0.937929165160824 Recall in test set:  0.8531393819855358 F1 scores in test set is: 0.8935272852470305\n",
      "Time consumed is: 38.29092311859131\n"
     ]
    },
    {
     "name": "stderr",
     "output_type": "stream",
     "text": [
      "100%|██████████| 207/207 [00:37<00:00,  5.48it/s]\n",
      "  0%|          | 0/207 [00:00<?, ?it/s]"
     ]
    },
    {
     "name": "stdout",
     "output_type": "stream",
     "text": [
      "Epoch:  30  Loss:  tensor(0.0521, grad_fn=<MseLossBackward>)  RMSE in test set: tensor(1.1274, grad_fn=<PowBackward0>) MAE in test set:  tensor(0.8530, grad_fn=<L1LossBackward>)\n",
      "Accuracy in test set is:  0.835582171012735 Precision in test set: 0.9381051488553072 Recall in test set:  0.8519888231426693 F1 scores in test set is: 0.892975580343684\n",
      "Time consumed is: 37.80943417549133\n"
     ]
    },
    {
     "name": "stderr",
     "output_type": "stream",
     "text": [
      "100%|██████████| 207/207 [00:39<00:00,  5.31it/s]\n",
      "  0%|          | 0/207 [00:00<?, ?it/s]"
     ]
    },
    {
     "name": "stdout",
     "output_type": "stream",
     "text": [
      "Epoch:  31  Loss:  tensor(0.0649, grad_fn=<MseLossBackward>)  RMSE in test set: tensor(1.1295, grad_fn=<PowBackward0>) MAE in test set:  tensor(0.8547, grad_fn=<L1LossBackward>)\n",
      "Accuracy in test set is:  0.8343693147362038 Precision in test set: 0.9383487235198262 Recall in test set:  0.8518244575936884 F1 scores in test set is: 0.8929956060997674\n",
      "Time consumed is: 39.01226997375488\n"
     ]
    },
    {
     "name": "stderr",
     "output_type": "stream",
     "text": [
      "100%|██████████| 207/207 [00:38<00:00,  5.36it/s]\n",
      "  0%|          | 0/207 [00:00<?, ?it/s]"
     ]
    },
    {
     "name": "stdout",
     "output_type": "stream",
     "text": [
      "Epoch:  32  Loss:  tensor(0.0526, grad_fn=<MseLossBackward>)  RMSE in test set: tensor(1.1316, grad_fn=<PowBackward0>) MAE in test set:  tensor(0.8564, grad_fn=<L1LossBackward>)\n",
      "Accuracy in test set is:  0.8333838690115222 Precision in test set: 0.9381630247529241 Recall in test set:  0.85034516765286 F1 scores in test set is: 0.8920981161357072\n",
      "Time consumed is: 38.58931612968445\n"
     ]
    },
    {
     "name": "stderr",
     "output_type": "stream",
     "text": [
      "100%|██████████| 207/207 [00:37<00:00,  5.46it/s]\n",
      "  0%|          | 0/207 [00:00<?, ?it/s]"
     ]
    },
    {
     "name": "stdout",
     "output_type": "stream",
     "text": [
      "Epoch:  33  Loss:  tensor(0.0657, grad_fn=<MseLossBackward>)  RMSE in test set: tensor(1.1335, grad_fn=<PowBackward0>) MAE in test set:  tensor(0.8579, grad_fn=<L1LossBackward>)\n",
      "Accuracy in test set is:  0.832929047907823 Precision in test set: 0.938140589569161 Recall in test set:  0.8500164365548981 F1 scores in test set is: 0.8919070409175182\n",
      "Time consumed is: 37.94443893432617\n"
     ]
    },
    {
     "name": "stderr",
     "output_type": "stream",
     "text": [
      "100%|██████████| 207/207 [00:38<00:00,  5.43it/s]\n",
      "  0%|          | 0/207 [00:00<?, ?it/s]"
     ]
    },
    {
     "name": "stdout",
     "output_type": "stream",
     "text": [
      "Epoch:  34  Loss:  tensor(0.0520, grad_fn=<MseLossBackward>)  RMSE in test set: tensor(1.1352, grad_fn=<PowBackward0>) MAE in test set:  tensor(0.8591, grad_fn=<L1LossBackward>)\n",
      "Accuracy in test set is:  0.8326258338386902 Precision in test set: 0.9381125226860254 Recall in test set:  0.8496055226824457 F1 scores in test set is: 0.8916681041918233\n",
      "Time consumed is: 38.130858182907104\n"
     ]
    },
    {
     "name": "stderr",
     "output_type": "stream",
     "text": [
      "100%|██████████| 207/207 [00:38<00:00,  5.43it/s]\n",
      "  0%|          | 0/207 [00:00<?, ?it/s]"
     ]
    },
    {
     "name": "stdout",
     "output_type": "stream",
     "text": [
      "Epoch:  35  Loss:  tensor(0.0672, grad_fn=<MseLossBackward>)  RMSE in test set: tensor(1.1367, grad_fn=<PowBackward0>) MAE in test set:  tensor(0.8602, grad_fn=<L1LossBackward>)\n",
      "Accuracy in test set is:  0.8323984232868405 Precision in test set: 0.9379823844547354 Recall in test set:  0.848948060486522 F1 scores in test set is: 0.8912471420559941\n",
      "Time consumed is: 38.10004663467407\n"
     ]
    },
    {
     "name": "stderr",
     "output_type": "stream",
     "text": [
      "100%|██████████| 207/207 [00:38<00:00,  5.40it/s]\n",
      "  0%|          | 0/207 [00:00<?, ?it/s]"
     ]
    },
    {
     "name": "stdout",
     "output_type": "stream",
     "text": [
      "Epoch:  36  Loss:  tensor(0.0514, grad_fn=<MseLossBackward>)  RMSE in test set: tensor(1.1376, grad_fn=<PowBackward0>) MAE in test set:  tensor(0.8608, grad_fn=<L1LossBackward>)\n",
      "Accuracy in test set is:  0.8339144936325046 Precision in test set: 0.937568058076225 Recall in test set:  0.849112426035503 F1 scores in test set is: 0.8911505951354147\n",
      "Time consumed is: 38.35737991333008\n"
     ]
    },
    {
     "name": "stderr",
     "output_type": "stream",
     "text": [
      "100%|██████████| 207/207 [00:37<00:00,  5.47it/s]\n",
      "  0%|          | 0/207 [00:00<?, ?it/s]"
     ]
    },
    {
     "name": "stdout",
     "output_type": "stream",
     "text": [
      "Epoch:  37  Loss:  tensor(0.0700, grad_fn=<MseLossBackward>)  RMSE in test set: tensor(1.1392, grad_fn=<PowBackward0>) MAE in test set:  tensor(0.8622, grad_fn=<L1LossBackward>)\n",
      "Accuracy in test set is:  0.8335354760460886 Precision in test set: 0.9375738300772376 Recall in test set:  0.8479618671926364 F1 scores in test set is: 0.8905191386527423\n",
      "Time consumed is: 37.86063814163208\n"
     ]
    },
    {
     "name": "stderr",
     "output_type": "stream",
     "text": [
      "100%|██████████| 207/207 [00:39<00:00,  5.23it/s]\n",
      "  0%|          | 0/207 [00:00<?, ?it/s]"
     ]
    },
    {
     "name": "stdout",
     "output_type": "stream",
     "text": [
      "Epoch:  38  Loss:  tensor(0.0321, grad_fn=<MseLossBackward>)  RMSE in test set: tensor(1.1291, grad_fn=<PowBackward0>) MAE in test set:  tensor(0.8524, grad_fn=<L1LossBackward>)\n",
      "Accuracy in test set is:  0.8356579745300182 Precision in test set: 0.9380210221094599 Recall in test set:  0.8507560815253123 F1 scores in test set is: 0.8922599551801413\n",
      "Time consumed is: 39.58893299102783\n"
     ]
    },
    {
     "name": "stderr",
     "output_type": "stream",
     "text": [
      "100%|██████████| 207/207 [00:38<00:00,  5.42it/s]\n"
     ]
    },
    {
     "name": "stdout",
     "output_type": "stream",
     "text": [
      "Epoch:  39  Loss:  tensor(0.0379, grad_fn=<MseLossBackward>)  RMSE in test set: tensor(1.1302, grad_fn=<PowBackward0>) MAE in test set:  tensor(0.8530, grad_fn=<L1LossBackward>)\n",
      "Accuracy in test set is:  0.8355063674954518 Precision in test set: 0.9374773468648061 Recall in test set:  0.8502629848783695 F1 scores in test set is: 0.8917428029650061\n",
      "Time consumed is: 38.197954177856445\n"
     ]
    }
   ],
   "source": [
    "\n",
    "rate = 0.0\n",
    "lrs = [1e-2,5e-2]\n",
    "dims = [4]\n",
    "regs = [4e-5]\n",
    "batch_sizes = [256]\n",
    "num_epochs = 40\n",
    "res_reg, models_reg,qnm = grid(lrs,dims,regs,batch_sizes,num_epochs,hehe_test,df_empty)"
   ]
  },
  {
   "cell_type": "code",
   "execution_count": 11,
   "metadata": {
    "scrolled": false
   },
   "outputs": [
    {
     "name": "stdout",
     "output_type": "stream",
     "text": [
      "Learning rate:  0.05 Dimension:  4 Regulation:  4e-05 batch: 256.pkl\n",
      "RMSE:  tensor(1.1302, grad_fn=<PowBackward0>) MAE:  tensor(0.8530, grad_fn=<L1LossBackward>)\n",
      "Accuracy:  0.8355063674954518 Precision:  0.9374773468648061 Recall:  0.8502629848783695 F1 score:  0.8917428029650061\n",
      "Learning rate:  0.01 Dimension:  4 Regulation:  1e-06 batch: 512.pkl\n",
      "RMSE:  tensor(1.1538, grad_fn=<PowBackward0>) MAE:  tensor(0.8444, grad_fn=<L1LossBackward>)\n",
      "Accuracy:  0.8543056397816858 Precision:  0.9382553862322649 Recall:  0.8804240631163708 F1 score:  0.9084202493004325\n",
      "Learning rate:  0.05 Dimension:  4 Regulation:  0.0004 batch: 256.pkl\n",
      "RMSE:  tensor(1.2637, grad_fn=<PowBackward0>) MAE:  tensor(0.9744, grad_fn=<L1LossBackward>)\n",
      "Accuracy:  0.7915403274711946 Precision:  0.9390717644653445 Recall:  0.754930966469428 F1 score:  0.8369931662870159\n",
      "Learning rate:  0.01 Dimension:  4 Regulation:  4e-05 batch: 512.pkl\n",
      "RMSE:  tensor(1.0741, grad_fn=<PowBackward0>) MAE:  tensor(0.8173, grad_fn=<L1LossBackward>)\n",
      "Accuracy:  0.8587022437841115 Precision:  0.938402223616964 Recall:  0.8601249178172256 F1 score:  0.8975601389305775\n",
      "Learning rate:  0.01 Dimension:  4 Regulation:  0.0004 batch: 256.pkl\n",
      "RMSE:  tensor(1.2852, grad_fn=<PowBackward0>) MAE:  tensor(0.9922, grad_fn=<L1LossBackward>)\n",
      "Accuracy:  0.7810794420861128 Precision:  0.9416081684747926 Recall:  0.7275641025641025 F1 score:  0.8208623087621698\n",
      "Learning rate:  0.01 Dimension:  4 Regulation:  4e-05 batch: 256.pkl\n",
      "RMSE:  tensor(1.0811, grad_fn=<PowBackward0>) MAE:  tensor(0.8245, grad_fn=<L1LossBackward>)\n",
      "Accuracy:  0.8508944815039418 Precision:  0.939173405211141 Recall:  0.8590565417488495 F1 score:  0.8973302429393081\n",
      "Learning rate:  0.01 Dimension:  8 Regulation:  1e-06 batch: 512.pkl\n",
      "RMSE:  tensor(1.4627, grad_fn=<PowBackward0>) MAE:  tensor(1.0367, grad_fn=<L1LossBackward>)\n",
      "Accuracy:  0.7802456033959976 Precision:  0.9410965550703542 Recall:  0.7970085470085471 F1 score:  0.8630801406131803\n",
      "Learning rate:  0.01 Dimension:  8 Regulation:  1e-06 batch: 1024.pkl\n",
      "RMSE:  tensor(1.5318, grad_fn=<PowBackward0>) MAE:  tensor(1.0562, grad_fn=<L1LossBackward>)\n",
      "Accuracy:  0.7828987265009096 Precision:  0.9400212827706298 Recall:  0.7985700197238659 F1 score:  0.8635414352366141\n",
      "Learning rate:  0.05 Dimension:  4 Regulation:  1e-06 batch: 512.pkl\n",
      "RMSE:  tensor(1.3053, grad_fn=<PowBackward0>) MAE:  tensor(0.9480, grad_fn=<L1LossBackward>)\n",
      "Accuracy:  0.8089751364463311 Precision:  0.9406951084957705 Recall:  0.8408119658119658 F1 score:  0.8879534802985594\n",
      "Learning rate:  0.01 Dimension:  4 Regulation:  4e-05 batch: 1024.pkl\n",
      "RMSE:  tensor(1.0966, grad_fn=<PowBackward0>) MAE:  tensor(0.8348, grad_fn=<L1LossBackward>)\n",
      "Accuracy:  0.8484687689508793 Precision:  0.9408974826705582 Recall:  0.8477975016436555 F1 score:  0.891924606605568\n",
      "Learning rate:  0.01 Dimension:  32 Regulation:  4e-05 batch: 128.pkl\n",
      "RMSE:  tensor(1.1737, grad_fn=<PowBackward0>) MAE:  tensor(0.8942, grad_fn=<L1LossBackward>)\n",
      "Accuracy:  0.81344754396604 Precision:  0.9432773109243697 Recall:  0.7749013806706114 F1 score:  0.8508391987005955\n",
      "Learning rate:  0.01 Dimension:  32 Regulation:  1e-06 batch: 128.pkl\n",
      "RMSE:  tensor(1.8111, grad_fn=<PowBackward0>) MAE:  tensor(1.3933, grad_fn=<L1LossBackward>)\n",
      "Accuracy:  0.6308368708308065 Precision:  0.9369774919614148 Recall:  0.8381821170282708 F1 score:  0.8848306077300133\n",
      "Learning rate:  0.01 Dimension:  8 Regulation:  4e-05 batch: 512.pkl\n",
      "RMSE:  tensor(1.1943, grad_fn=<PowBackward0>) MAE:  tensor(0.9002, grad_fn=<L1LossBackward>)\n",
      "Accuracy:  0.8155700424499697 Precision:  0.9416626621816434 Recall:  0.8052268244575936 F1 score:  0.8681167766801045\n",
      "Learning rate:  0.01 Dimension:  4 Regulation:  1e-06 batch: 1024.pkl\n",
      "RMSE:  tensor(1.1887, grad_fn=<PowBackward0>) MAE:  tensor(0.8598, grad_fn=<L1LossBackward>)\n",
      "Accuracy:  0.8511976955730746 Precision:  0.9372631949951538 Recall:  0.8741781722550953 F1 score:  0.9046221882042778\n",
      "Learning rate:  0.01 Dimension:  8 Regulation:  4e-05 batch: 1024.pkl\n",
      "RMSE:  tensor(1.2009, grad_fn=<PowBackward0>) MAE:  tensor(0.9093, grad_fn=<L1LossBackward>)\n",
      "Accuracy:  0.8105670103092784 Precision:  0.9417522775731731 Recall:  0.7985700197238659 F1 score:  0.8642711020190341\n"
     ]
    }
   ],
   "source": [
    "import os\n",
    "rate = 0.0\n",
    "path = '/Users/user/Downloads/thesis/book/last/'\n",
    "#files = ['model_0.01_16_1e-06_256.pkl','model_0.01_16_4e-05_256.pkl','model_0.01_32_1e-06_256.pkl','model_0.01_32_1e-07_256.pkl','model_0.01_32_4e-05_256.pkl']\n",
    "def get_file_path(path):\n",
    "    for file in os.listdir(path):\n",
    "        lr = file.split('_')[1]\n",
    "        dim = int(file.split('_')[2])\n",
    "        reg = file.split('_')[3]\n",
    "        batch = file.split('_')[4]\n",
    "        model = aspect_augumentation(5576, 1712, 2, dim).to(DEVICE).to(DEVICE)\n",
    "        to_load = path + file\n",
    "        load_params = torch.load(to_load)['model']\n",
    "        model_params = model.state_dict()\n",
    "        same_params = {k:v for k,v in load_params.items() if k in model_params.keys()}\n",
    "        model_params.update(same_params)\n",
    "        model.load_state_dict(model_params)\n",
    "        rmse, mae, p, r, f, accuracy, cnm = RMSE(testset,model,1,1712)\n",
    "        print(\"Learning rate: \", lr, \"Dimension: \", dim, \"Regulation: \", reg,\"batch:\", batch)\n",
    "        print(\"RMSE: \", rmse, \"MAE: \", mae)\n",
    "        print(\"Accuracy: \", accuracy, \"Precision: \", p, \"Recall: \", r, \"F1 score: \", f)\n",
    "   \n",
    "get_file_path(path)\n"
   ]
  },
  {
   "cell_type": "code",
   "execution_count": 19,
   "metadata": {},
   "outputs": [
    {
     "data": {
      "text/plain": [
       "<All keys matched successfully>"
      ]
     },
     "execution_count": 19,
     "metadata": {},
     "output_type": "execute_result"
    }
   ],
   "source": [
    "model = aspect_augumentation(5576, 1712, 2, 4).to(DEVICE)\n",
    "to_load =  '/Users/user/Downloads/thesis/book/last/model_0.01_4_4e-05_256.pkl'\n",
    "load_params = torch.load(to_load)['model']\n",
    "model_params = model.state_dict()\n",
    "same_params = {k:v for k,v in load_params.items() if k in model_params.keys()}\n",
    "model_params.update(same_params)\n",
    "model.load_state_dict(model_params)"
   ]
  },
  {
   "cell_type": "code",
   "execution_count": 20,
   "metadata": {},
   "outputs": [],
   "source": [
    "def RMSE1(data, model,batch_size,items):\n",
    "    users_index = data.iloc[:, 0].values\n",
    "    users = torch.LongTensor(users_index).to(DEVICE)\n",
    "#     items_index = data.iloc[:, 0].values\n",
    "#     items = torch.LongTensor(items_index).to(DEVICE)\n",
    "    actors_id = data.iloc[:, 2]\n",
    "    directors_id = data.iloc[:, 3]\n",
    "    rating = torch.FloatTensor(\n",
    "        data.iloc[:, 4].values).to(DEVICE)\n",
    "    prediction,scores,contribute_actors,contribute_directors,cnm = model(users,actors_id, directors_id)\n",
    "    rmse = loss_func(prediction, rating)\n",
    "    mae = torch.nn.L1Loss()(prediction, rating)\n",
    "    p,r,f = binary_predictions(rating, prediction)\n",
    "    accuracy = arg_accuracy_int(rating,prediction)\n",
    "    return rmse ** 0.5,mae,prediction,scores,contribute_actors,contribute_directors,cnm"
   ]
  },
  {
   "cell_type": "code",
   "execution_count": 21,
   "metadata": {},
   "outputs": [],
   "source": [
    "rate = 0.0\n",
    "rmse,mae,prediction,scores,contribute_actors,contribute_directors,cnm = RMSE1(testset,model,1,1)"
   ]
  },
  {
   "cell_type": "code",
   "execution_count": 22,
   "metadata": {},
   "outputs": [
    {
     "data": {
      "text/plain": [
       "(tensor(1.0811, grad_fn=<PowBackward0>),\n",
       " tensor(0.8245, grad_fn=<L1LossBackward>))"
      ]
     },
     "execution_count": 22,
     "metadata": {},
     "output_type": "execute_result"
    }
   ],
   "source": [
    "rmse,mae"
   ]
  },
  {
   "cell_type": "code",
   "execution_count": 23,
   "metadata": {},
   "outputs": [],
   "source": [
    "test = testset.copy()\n",
    "index_user = test.drop_duplicates(subset = ['user'],keep = 'first').index.values"
   ]
  },
  {
   "cell_type": "code",
   "execution_count": 24,
   "metadata": {},
   "outputs": [
    {
     "data": {
      "image/png": "[encoded data removed]",
      "text/plain": [
       "<Figure size 1080x432 with 1 Axes>"
      ]
     },
     "metadata": {
      "needs_background": "light"
     },
     "output_type": "display_data"
    }
   ],
   "source": [
    "from sklearn.cluster import KMeans\n",
    "import matplotlib.pyplot as plt\n",
    "X = scores[index_user].detach().numpy()\n",
    "df_graph = pd.DataFrame(columns=['first','second','label'])\n",
    "df_graph['first'] = X[:,0]\n",
    "df_graph['second'] = X[:,1]\n",
    "df1 = df_graph[['first','second']].iloc[:,:].values\n",
    "inertia = []\n",
    "\n",
    "for k in range(1,11):\n",
    "    algorithm = (KMeans(n_clusters=k,\n",
    "                       init=\"k-means++\",\n",
    "                       n_init=10,\n",
    "                       max_iter=300,\n",
    "                       tol=0.0001,\n",
    "                       random_state=111,\n",
    "                       algorithm=\"full\"))\n",
    "    algorithm.fit(df1)\n",
    "    inertia.append(algorithm.inertia_)\n",
    "plt.figure(1,figsize=(15,6))\n",
    "plt.plot(np.arange(1,11), inertia, 'o')\n",
    "plt.plot(np.arange(1,11), inertia, '-', alpha=0.5)\n",
    "\n",
    "plt.xlabel(\"Choose of K\")\n",
    "plt.ylabel(\"Interia\")\n",
    "plt.show()"
   ]
  },
  {
   "cell_type": "code",
   "execution_count": 25,
   "metadata": {},
   "outputs": [],
   "source": [
    "n_clusters = 2\n",
    "estimators = KMeans(n_clusters=n_clusters)\n",
    "estimators.fit(X)\n",
    "labele = estimators.labels_\n",
    "df_graph['label'] = labele"
   ]
  },
  {
   "cell_type": "code",
   "execution_count": 26,
   "metadata": {},
   "outputs": [],
   "source": [
    "def cluster(x,y):\n",
    "    if x > 0.8:\n",
    "        return 0\n",
    "    if y > 0.8:\n",
    "        return 1\n",
    "    else:\n",
    "        return 2\n",
    "import seaborn as sns\n",
    "df = pd.DataFrame()\n",
    "df[\"Authors\"] = scores[index_user].detach().numpy()[:,0]\n",
    "df[\"Genres\"] = scores[index_user].detach().numpy()[:,1]\n",
    "\n",
    "df[\"y\"] = df.apply(lambda x: cluster(x.Authors, x.Genres), axis = 1)\n"
   ]
  },
  {
   "cell_type": "code",
   "execution_count": 27,
   "metadata": {},
   "outputs": [
    {
     "data": {
      "image/png": "[encoded data removed]",
      "text/plain": [
       "<Figure size 432x288 with 1 Axes>"
      ]
     },
     "metadata": {
      "needs_background": "light"
     },
     "output_type": "display_data"
    }
   ],
   "source": [
    "sns.scatterplot(x=\"Authors\", y=\"Genres\", hue=df.y.tolist(),\n",
    "                palette=sns.color_palette(\"hls\", 3),\n",
    "                data=df).set(title=\"Cluster of users\")\n",
    "#plt.savefig('cluster.png')\n",
    "plt.show()"
   ]
  },
  {
   "cell_type": "code",
   "execution_count": 28,
   "metadata": {},
   "outputs": [
    {
     "name": "stdout",
     "output_type": "stream",
     "text": [
      "Cluster: 0 0.9996315 0.00036849154\n"
     ]
    },
    {
     "data": {
      "image/png": "[encoded data removed]",
      "text/plain": [
       "<Figure size 432x288 with 1 Axes>"
      ]
     },
     "metadata": {
      "needs_background": "light"
     },
     "output_type": "display_data"
    },
    {
     "name": "stdout",
     "output_type": "stream",
     "text": [
      "Cluster: 1 0.0006318203 0.9993682\n"
     ]
    },
    {
     "data": {
      "image/png": "[encoded data removed]",
      "text/plain": [
       "<Figure size 432x288 with 1 Axes>"
      ]
     },
     "metadata": {
      "needs_background": "light"
     },
     "output_type": "display_data"
    },
    {
     "name": "stdout",
     "output_type": "stream",
     "text": [
      "Cluster: 2 0.5 0.5\n"
     ]
    },
    {
     "data": {
      "image/png": "[encoded data removed]",
      "text/plain": [
       "<Figure size 432x288 with 1 Axes>"
      ]
     },
     "metadata": {
      "needs_background": "light"
     },
     "output_type": "display_data"
    }
   ],
   "source": [
    "df_graph = pd.DataFrame(columns=['Authors','Genres','label'])\n",
    "df_graph['Authors'] = scores[index_user].detach().numpy()[:,0]\n",
    "df_graph['Genres'] = scores[index_user].detach().numpy()[:,1]\n",
    "df_graph['label'] = df[\"y\"]\n",
    "import seaborn as sns\n",
    "for i in range(3):\n",
    "    print(\"Cluster:\", i, df_graph[df_graph['label'] == i]['Authors'].mean(),df_graph[df_graph['label'] == i]['Genres'].mean())\n",
    "    import matplotlib.pyplot as plt\n",
    "    plt.xlabel('Attribute type')\n",
    "    plt.ylabel('Importance',fontsize=15)\n",
    "    name_list = ['Authors', 'Genres']\n",
    "    num_list = [df_graph[df_graph['label'] == i]['Authors'].mean(),df_graph[df_graph['label'] == i]['Genres'].mean()]\n",
    "\n",
    "    hist_fig = sns.barplot(x = name_list, y = num_list,tick_label=name_list)\n",
    "    plt.xticks(fontsize  = 'large',rotation=-20)\n",
    "    #plt.savefig('/home/jinfeng/Downloads/doctorant/Conférences/dsaa/argumrntative/test2.png')\n",
    "\n",
    "    plt.show()\n"
   ]
  },
  {
   "cell_type": "code",
   "execution_count": null,
   "metadata": {},
   "outputs": [],
   "source": []
  }
 ],
 "metadata": {
  "kernelspec": {
   "display_name": "py37-caffe-notebook",
   "language": "python",
   "name": "py37-caffe-notebook"
  },
  "language_info": {
   "codemirror_mode": {
    "name": "ipython",
    "version": 3
   },
   "file_extension": ".py",
   "mimetype": "text/x-python",
   "name": "python",
   "nbconvert_exporter": "python",
   "pygments_lexer": "ipython3",
   "version": "3.6.7"
  },
  "toc": {
   "base_numbering": 1,
   "nav_menu": {},
   "number_sections": true,
   "sideBar": true,
   "skip_h1_title": false,
   "title_cell": "Table of Contents",
   "title_sidebar": "Contents",
   "toc_cell": false,
   "toc_position": {},
   "toc_section_display": true,
   "toc_window_display": false
  }
 },
 "nbformat": 4,
 "nbformat_minor": 2
}
