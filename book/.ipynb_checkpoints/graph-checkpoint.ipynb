{
 "cells": [
  {
   "cell_type": "code",
   "execution_count": null,
   "metadata": {
    "id": "IGY-P_i8ccG2"
   },
   "outputs": [],
   "source": [
    "import json\n",
    "import pandas as pd\n",
    "trainset = pd.read_csv('train.csv')\n",
    "testset = pd.read_csv('test.csv')\n",
    "#trainset['user_rating'] = (trainset['user_rating'] + 1) * 2 + 1\n",
    "#testset['user_rating'] = (testset['user_rating'] + 1) * 2 + 1\n",
    "def traite_train_test(df):\n",
    "    df['authors'] = df['authors'].apply(lambda x: json.loads(x))\n",
    "    df['genres'] = df['genres'].apply(lambda x: json.loads(x))\n",
    "    return df\n",
    "trainset = traite_train_test(trainset)\n",
    "testset = traite_train_test(testset)\n",
    "hehe_test = trainset.copy()\n",
    "df_empty = testset.copy()\n",
    "df_empty['user'] = df_empty['user'].astype('int')\n",
    "df_empty['rating'] = df_empty['rating'].astype('float')\n",
    "df_empty['item'] = df_empty['item'].astype('int')\n",
    "hehe_test.index = range(len(hehe_test))\n",
    "df_empty.index = range(len(df_empty))\n",
    "DEVICE = \"cuda\" if torch.cuda.is_available() else \"cpu\""
   ]
  },
  {
   "cell_type": "code",
   "execution_count": null,
   "metadata": {
    "id": "WeRPQKl2ccHA"
   },
   "outputs": [],
   "source": [
    "from tqdm import tqdm\n",
    "from torch.nn import LeakyReLU\n",
    "leaky = LeakyReLU(0.0)\n",
    "import torch.nn as nn\n",
    "import torch\n",
    "def calculate_score(x, users, aspects):\n",
    "    niubi = []\n",
    "    first = x.index[0]\n",
    "    val_base = x[first]\n",
    "    actor_base = torch.LongTensor(val_base)\n",
    "    actors_base = aspects(actor_base)\n",
    "    pre_rating = torch.mm(actors_base, users[first].unsqueeze(1))\n",
    "    niubi.append(pre_rating)\n",
    "    pre_rating = pre_rating / pre_rating.shape[0]\n",
    "    pre_rating = pre_rating.sum(0)\n",
    "    for i in x.index[1:]:\n",
    "        val = x[i]\n",
    "        actor = torch.LongTensor(val)\n",
    "        actors = aspects(actor)\n",
    "        pre_ra = torch.mm(actors, users[i].unsqueeze(1))\n",
    "        niubi.append(pre_ra)\n",
    "        actors_f = pre_ra / pre_ra.shape[0]\n",
    "        actors_f = actors_f.sum(0)\n",
    "        pre_rating = torch.cat((pre_rating, actors_f))\n",
    "    return pre_rating, niubi\n",
    "\n",
    "\n",
    "class aspect_augumentation(nn.Module):\n",
    "    def __init__(self, n_users, n_entity, n_rk, n_factors):\n",
    "        super(aspect_augumentation, self).__init__()\n",
    "        self.n_users = n_users\n",
    "        self.n_entity = n_entity\n",
    "        self.n_rk = n_rk\n",
    "        self.n_factors = n_factors\n",
    "        self.user_factors = torch.nn.Embedding(n_users, n_factors)\n",
    "        self.entity_factors = torch.nn.Embedding(n_entity, n_factors)\n",
    "        self.relation_k = torch.nn.Embedding(n_factors, n_rk)\n",
    "\n",
    "    def forward(self, user_id, artists_id, categories_id):\n",
    "        '''\n",
    "        user_factors: n_users * 64\n",
    "        entity_factors: n_entity * 64\n",
    "        relation_k: 64 * 3\n",
    "        '''\n",
    "\n",
    "        users = self.user_factors(user_id)  # 128 * 8\n",
    "        aspects = self.entity_factors  # n_entity * 8\n",
    "        users = F.dropout(users, p=rate, training=self.training)\n",
    "        scores = torch.matmul(users, F.dropout(\n",
    "            self.relation_k.weight, p=rate, training=self.training))  # 128 * 3\n",
    "        scores = leaky(scores)\n",
    "        m = torch.nn.Softmax(dim=1)  # 128 * 3\n",
    "        scores = m(scores)  # 128 * 3\n",
    "\n",
    "        '''\n",
    "        Compute the importance of each aspects\n",
    "        '''\n",
    "        scores_actors = scores[:, 0]  # 128,\n",
    "        scores_directors = scores[:, 1]  # 128,\n",
    "\n",
    "        '''\n",
    "        Compute the contribution of each aspects\n",
    "        '''\n",
    "        contribute_actors, niubi_act = calculate_score(\n",
    "            artists_id, users, aspects)\n",
    "        contribute_directors, niubi_dir = calculate_score(\n",
    "            categories_id, users, aspects)\n",
    "\n",
    "        '''\n",
    "        Compute the final predictions\n",
    "        '''\n",
    "        importance_sum = scores_actors + scores_directors\n",
    "        prediction_sum = contribute_actors * scores_actors + \\\n",
    "            contribute_directors * scores_directors\n",
    "        prediction = prediction_sum / importance_sum\n",
    "        cnm = [niubi_act, niubi_dir]\n",
    "\n",
    "        return prediction, scores, contribute_actors, contribute_directors, cnm"
   ]
  },
  {
   "cell_type": "code",
   "execution_count": null,
   "metadata": {
    "id": "G2hcfkE2ccHD"
   },
   "outputs": [],
   "source": [
    "import pickle\n",
    "import pandas as pd\n",
    "import torch\n",
    "from torch import nn\n",
    "from sklearn.preprocessing import LabelEncoder\n",
    "from concurrent.futures import ProcessPoolExecutor\n",
    "import numpy as np\n",
    "from operator import itemgetter\n",
    "THREADS = 16\n",
    "from sklearn.metrics import precision_score\n",
    "from sklearn.metrics import recall_score\n",
    "from sklearn.metrics import f1_score\n",
    "import time\n",
    "import torch.nn.functional as F\n",
    "loss_func = torch.nn.MSELoss()"
   ]
  },
  {
   "cell_type": "code",
   "execution_count": null,
   "metadata": {
    "id": "ding-skSccHF"
   },
   "outputs": [],
   "source": [
    "def binary_predictions(true_ratings, predicted_ratings):\n",
    "    assert len(true_ratings) == len(predicted_ratings)\n",
    "    binary_true_ratings = []\n",
    "    binary_predicted_ratings = []\n",
    "\n",
    "    for i in range(len(true_ratings)):\n",
    "        if true_ratings[i] >= 3:\n",
    "            binary_true_ratings.append(1)\n",
    "        else:\n",
    "            binary_true_ratings.append(0)\n",
    "\n",
    "        if predicted_ratings[i] >= 3:\n",
    "            binary_predicted_ratings.append(1)\n",
    "        else:\n",
    "            binary_predicted_ratings.append(0)\n",
    "\n",
    "    return precision_score(binary_true_ratings, binary_predicted_ratings), recall_score(binary_true_ratings, binary_predicted_ratings), f1_score(binary_true_ratings, binary_predicted_ratings)"
   ]
  },
  {
   "cell_type": "code",
   "execution_count": null,
   "metadata": {
    "id": "F8Zjz-bhccHG"
   },
   "outputs": [],
   "source": [
    "def arg_accuracy_int(ratings, predictions):\n",
    "    ratings = ratings.cpu().detach().numpy()\n",
    "    predictions = predictions.cpu().detach().numpy()\n",
    "    total_nr = len(ratings)\n",
    "    total_pred = 0\n",
    "    for i in range(total_nr):\n",
    "        (true_rating, pred_rating) = ratings[i], predictions[i]\n",
    "        if round(pred_rating) >= int(true_rating)-1 and round(pred_rating) <= int(true_rating)+1:\n",
    "            total_pred += 1\n",
    "\n",
    "    return float(total_pred)/total_nr\n",
    "\n",
    "\n",
    "def round_of_rating(number):\n",
    "    return round(number * 2) / 2"
   ]
  },
  {
   "cell_type": "code",
   "execution_count": null,
   "metadata": {
    "id": "OnRi3LBoccHH"
   },
   "outputs": [],
   "source": [
    "def RMSE(data, model,batch_size,items):\n",
    "    users_index = data.iloc[:, 0].values\n",
    "    users = torch.LongTensor(users_index).to(DEVICE)\n",
    "#     items_index = data.iloc[:, 0].values\n",
    "#     items = torch.LongTensor(items_index).to(DEVICE)\n",
    "    actors_id = data.iloc[:, 2]\n",
    "    directors_id = data.iloc[:, 3]\n",
    "    rating = torch.FloatTensor(\n",
    "        data.iloc[:, 4].values).to(DEVICE)\n",
    "    prediction,scores,contribute_actors,contribute_directors,cnm = model(users,actors_id, directors_id)\n",
    "    rmse = loss_func(prediction, rating)\n",
    "    mae = torch.nn.L1Loss()(prediction, rating)\n",
    "    p,r,f = binary_predictions(rating, prediction)\n",
    "    accuracy = arg_accuracy_int(rating,prediction)\n",
    "    return rmse ** 0.5,mae,p,r,f, accuracy, cnm"
   ]
  },
  {
   "cell_type": "code",
   "execution_count": null,
   "metadata": {
    "id": "EiuzYJvvccHM",
    "outputId": "97d3c150-a778-4622-dfc0-b4a0b8c7ff56",
    "scrolled": false
   },
   "outputs": [
    {
     "name": "stdout",
     "output_type": "stream",
     "text": [
      "Learning rate:  0.05 Dimension:  4 Regulation:  4e-05 batch: 256.pkl\n",
      "RMSE:  tensor(1.1302, grad_fn=<PowBackward0>) MAE:  tensor(0.8530, grad_fn=<L1LossBackward>)\n",
      "Accuracy:  0.8355063674954518 Precision:  0.9374773468648061 Recall:  0.8502629848783695 F1 score:  0.8917428029650061\n",
      "Learning rate:  0.01 Dimension:  4 Regulation:  1e-06 batch: 512.pkl\n",
      "RMSE:  tensor(1.1538, grad_fn=<PowBackward0>) MAE:  tensor(0.8444, grad_fn=<L1LossBackward>)\n",
      "Accuracy:  0.8543056397816858 Precision:  0.9382553862322649 Recall:  0.8804240631163708 F1 score:  0.9084202493004325\n",
      "Learning rate:  0.05 Dimension:  4 Regulation:  0.0004 batch: 256.pkl\n",
      "RMSE:  tensor(1.2637, grad_fn=<PowBackward0>) MAE:  tensor(0.9744, grad_fn=<L1LossBackward>)\n",
      "Accuracy:  0.7915403274711946 Precision:  0.9390717644653445 Recall:  0.754930966469428 F1 score:  0.8369931662870159\n",
      "Learning rate:  0.01 Dimension:  4 Regulation:  4e-05 batch: 512.pkl\n",
      "RMSE:  tensor(1.0741, grad_fn=<PowBackward0>) MAE:  tensor(0.8173, grad_fn=<L1LossBackward>)\n",
      "Accuracy:  0.8587022437841115 Precision:  0.938402223616964 Recall:  0.8601249178172256 F1 score:  0.8975601389305775\n",
      "Learning rate:  0.01 Dimension:  4 Regulation:  0.0004 batch: 256.pkl\n",
      "RMSE:  tensor(1.2852, grad_fn=<PowBackward0>) MAE:  tensor(0.9922, grad_fn=<L1LossBackward>)\n",
      "Accuracy:  0.7810794420861128 Precision:  0.9416081684747926 Recall:  0.7275641025641025 F1 score:  0.8208623087621698\n",
      "Learning rate:  0.01 Dimension:  4 Regulation:  4e-05 batch: 256.pkl\n",
      "RMSE:  tensor(1.0811, grad_fn=<PowBackward0>) MAE:  tensor(0.8245, grad_fn=<L1LossBackward>)\n",
      "Accuracy:  0.8508944815039418 Precision:  0.939173405211141 Recall:  0.8590565417488495 F1 score:  0.8973302429393081\n",
      "Learning rate:  0.01 Dimension:  8 Regulation:  1e-06 batch: 512.pkl\n",
      "RMSE:  tensor(1.4627, grad_fn=<PowBackward0>) MAE:  tensor(1.0367, grad_fn=<L1LossBackward>)\n",
      "Accuracy:  0.7802456033959976 Precision:  0.9410965550703542 Recall:  0.7970085470085471 F1 score:  0.8630801406131803\n",
      "Learning rate:  0.01 Dimension:  8 Regulation:  1e-06 batch: 1024.pkl\n",
      "RMSE:  tensor(1.5318, grad_fn=<PowBackward0>) MAE:  tensor(1.0562, grad_fn=<L1LossBackward>)\n",
      "Accuracy:  0.7828987265009096 Precision:  0.9400212827706298 Recall:  0.7985700197238659 F1 score:  0.8635414352366141\n",
      "Learning rate:  0.05 Dimension:  4 Regulation:  1e-06 batch: 512.pkl\n",
      "RMSE:  tensor(1.3053, grad_fn=<PowBackward0>) MAE:  tensor(0.9480, grad_fn=<L1LossBackward>)\n",
      "Accuracy:  0.8089751364463311 Precision:  0.9406951084957705 Recall:  0.8408119658119658 F1 score:  0.8879534802985594\n",
      "Learning rate:  0.01 Dimension:  4 Regulation:  4e-05 batch: 1024.pkl\n",
      "RMSE:  tensor(1.0966, grad_fn=<PowBackward0>) MAE:  tensor(0.8348, grad_fn=<L1LossBackward>)\n",
      "Accuracy:  0.8484687689508793 Precision:  0.9408974826705582 Recall:  0.8477975016436555 F1 score:  0.891924606605568\n",
      "Learning rate:  0.01 Dimension:  32 Regulation:  4e-05 batch: 128.pkl\n",
      "RMSE:  tensor(1.1737, grad_fn=<PowBackward0>) MAE:  tensor(0.8942, grad_fn=<L1LossBackward>)\n",
      "Accuracy:  0.81344754396604 Precision:  0.9432773109243697 Recall:  0.7749013806706114 F1 score:  0.8508391987005955\n",
      "Learning rate:  0.01 Dimension:  32 Regulation:  1e-06 batch: 128.pkl\n",
      "RMSE:  tensor(1.8111, grad_fn=<PowBackward0>) MAE:  tensor(1.3933, grad_fn=<L1LossBackward>)\n",
      "Accuracy:  0.6308368708308065 Precision:  0.9369774919614148 Recall:  0.8381821170282708 F1 score:  0.8848306077300133\n",
      "Learning rate:  0.01 Dimension:  8 Regulation:  4e-05 batch: 512.pkl\n",
      "RMSE:  tensor(1.1943, grad_fn=<PowBackward0>) MAE:  tensor(0.9002, grad_fn=<L1LossBackward>)\n",
      "Accuracy:  0.8155700424499697 Precision:  0.9416626621816434 Recall:  0.8052268244575936 F1 score:  0.8681167766801045\n",
      "Learning rate:  0.01 Dimension:  4 Regulation:  1e-06 batch: 1024.pkl\n",
      "RMSE:  tensor(1.1887, grad_fn=<PowBackward0>) MAE:  tensor(0.8598, grad_fn=<L1LossBackward>)\n",
      "Accuracy:  0.8511976955730746 Precision:  0.9372631949951538 Recall:  0.8741781722550953 F1 score:  0.9046221882042778\n",
      "Learning rate:  0.01 Dimension:  8 Regulation:  4e-05 batch: 1024.pkl\n",
      "RMSE:  tensor(1.2009, grad_fn=<PowBackward0>) MAE:  tensor(0.9093, grad_fn=<L1LossBackward>)\n",
      "Accuracy:  0.8105670103092784 Precision:  0.9417522775731731 Recall:  0.7985700197238659 F1 score:  0.8642711020190341\n"
     ]
    }
   ],
   "source": [
    "import os\n",
    "rate = 0.0\n",
    "path = 'models/'\n",
    "#files = ['model_0.01_16_1e-06_256.pkl','model_0.01_16_4e-05_256.pkl','model_0.01_32_1e-06_256.pkl','model_0.01_32_1e-07_256.pkl','model_0.01_32_4e-05_256.pkl']\n",
    "def get_file_path(path):\n",
    "    for file in os.listdir(path):\n",
    "        lr = file.split('_')[1]\n",
    "        dim = int(file.split('_')[2])\n",
    "        reg = file.split('_')[3]\n",
    "        batch = file.split('_')[4]\n",
    "        model = aspect_augumentation(5576, 1712, 2, dim).to(DEVICE).to(DEVICE)\n",
    "        to_load = path + file\n",
    "        load_params = torch.load(to_load)['model']\n",
    "        model_params = model.state_dict()\n",
    "        same_params = {k:v for k,v in load_params.items() if k in model_params.keys()}\n",
    "        model_params.update(same_params)\n",
    "        model.load_state_dict(model_params)\n",
    "        rmse, mae, p, r, f, accuracy, cnm = RMSE(testset,model,1,1712)\n",
    "        print(\"Learning rate: \", lr, \"Dimension: \", dim, \"Regulation: \", reg,\"batch:\", batch)\n",
    "        print(\"RMSE: \", rmse, \"MAE: \", mae)\n",
    "        print(\"Accuracy: \", accuracy, \"Precision: \", p, \"Recall: \", r, \"F1 score: \", f)\n",
    "\n",
    "get_file_path(path)\n"
   ]
  },
  {
   "cell_type": "code",
   "execution_count": null,
   "metadata": {
    "id": "19G5MG2PccHM",
    "outputId": "a1b5f10e-4385-49d4-e787-6cef81c68ee5"
   },
   "outputs": [
    {
     "data": {
      "text/plain": [
       "<All keys matched successfully>"
      ]
     },
     "execution_count": 19,
     "metadata": {},
     "output_type": "execute_result"
    }
   ],
   "source": [
    "model = aspect_augumentation(5576, 1712, 2, 4).to(DEVICE)\n",
    "to_load =  'models/model_0.01_4_4e-05_256.pkl'\n",
    "load_params = torch.load(to_load)['model']\n",
    "model_params = model.state_dict()\n",
    "same_params = {k:v for k,v in load_params.items() if k in model_params.keys()}\n",
    "model_params.update(same_params)\n",
    "model.load_state_dict(model_params)"
   ]
  },
  {
   "cell_type": "code",
   "execution_count": null,
   "metadata": {
    "id": "J9I3Fl8accHN"
   },
   "outputs": [],
   "source": [
    "def RMSE1(data, model,batch_size,items):\n",
    "    users_index = data.iloc[:, 0].values\n",
    "    users = torch.LongTensor(users_index).to(DEVICE)\n",
    "#     items_index = data.iloc[:, 0].values\n",
    "#     items = torch.LongTensor(items_index).to(DEVICE)\n",
    "    actors_id = data.iloc[:, 2]\n",
    "    directors_id = data.iloc[:, 3]\n",
    "    rating = torch.FloatTensor(\n",
    "        data.iloc[:, 4].values).to(DEVICE)\n",
    "    prediction,scores,contribute_actors,contribute_directors,cnm = model(users,actors_id, directors_id)\n",
    "    rmse = loss_func(prediction, rating)\n",
    "    mae = torch.nn.L1Loss()(prediction, rating)\n",
    "    p,r,f = binary_predictions(rating, prediction)\n",
    "    accuracy = arg_accuracy_int(rating,prediction)\n",
    "    return rmse ** 0.5,mae,prediction,scores,contribute_actors,contribute_directors,cnm"
   ]
  },
  {
   "cell_type": "code",
   "execution_count": null,
   "metadata": {
    "id": "KNiGDNR2ccHN"
   },
   "outputs": [],
   "source": [
    "rate = 0.0\n",
    "rmse,mae,prediction,scores,contribute_actors,contribute_directors,cnm = RMSE1(testset,model,1,1)"
   ]
  },
  {
   "cell_type": "code",
   "execution_count": null,
   "metadata": {
    "id": "gTzSqRw0ccHN",
    "outputId": "fdb210c3-2c4a-474e-912a-e3d77815676f"
   },
   "outputs": [
    {
     "data": {
      "text/plain": [
       "(tensor(1.0811, grad_fn=<PowBackward0>),\n",
       " tensor(0.8245, grad_fn=<L1LossBackward>))"
      ]
     },
     "execution_count": 22,
     "metadata": {},
     "output_type": "execute_result"
    }
   ],
   "source": [
    "rmse,mae"
   ]
  },
  {
   "cell_type": "code",
   "execution_count": null,
   "metadata": {
    "id": "iDMlNg9uccHN"
   },
   "outputs": [],
   "source": [
    "test = testset.copy()\n",
    "index_user = test.drop_duplicates(subset = ['user'],keep = 'first').index.values"
   ]
  },
  {
   "cell_type": "code",
   "execution_count": null,
   "metadata": {
    "id": "i_EbdFzGccHN",
    "outputId": "a180f756-000d-4304-b3ed-751700e0ef3f"
   },
   "outputs": [
    {
     "data": {
      "image/png": "[encoded data removed]",
      "text/plain": [
       "<Figure size 1080x432 with 1 Axes>"
      ]
     },
     "metadata": {
      "needs_background": "light"
     },
     "output_type": "display_data"
    }
   ],
   "source": [
    "from sklearn.cluster import KMeans\n",
    "import matplotlib.pyplot as plt\n",
    "X = scores[index_user].detach().numpy()\n",
    "df_graph = pd.DataFrame(columns=['first','second','label'])\n",
    "df_graph['first'] = X[:,0]\n",
    "df_graph['second'] = X[:,1]\n",
    "df1 = df_graph[['first','second']].iloc[:,:].values\n",
    "inertia = []\n",
    "\n",
    "for k in range(1,11):\n",
    "    algorithm = (KMeans(n_clusters=k,\n",
    "                       init=\"k-means++\",\n",
    "                       n_init=10,\n",
    "                       max_iter=300,\n",
    "                       tol=0.0001,\n",
    "                       random_state=111,\n",
    "                       algorithm=\"full\"))\n",
    "    algorithm.fit(df1)\n",
    "    inertia.append(algorithm.inertia_)\n",
    "plt.figure(1,figsize=(15,6))\n",
    "plt.plot(np.arange(1,11), inertia, 'o')\n",
    "plt.plot(np.arange(1,11), inertia, '-', alpha=0.5)\n",
    "\n",
    "plt.xlabel(\"Choose of K\")\n",
    "plt.ylabel(\"Interia\")\n",
    "plt.show()"
   ]
  },
  {
   "cell_type": "code",
   "execution_count": null,
   "metadata": {
    "id": "3KSf5uEUccHO"
   },
   "outputs": [],
   "source": [
    "n_clusters = 2\n",
    "estimators = KMeans(n_clusters=n_clusters)\n",
    "estimators.fit(X)\n",
    "labele = estimators.labels_\n",
    "df_graph['label'] = labele"
   ]
  },
  {
   "cell_type": "code",
   "execution_count": null,
   "metadata": {
    "id": "IOFpJTaBccHO"
   },
   "outputs": [],
   "source": [
    "def cluster(x,y):\n",
    "    if x > 0.8:\n",
    "        return 0\n",
    "    if y > 0.8:\n",
    "        return 1\n",
    "    else:\n",
    "        return 2\n",
    "import seaborn as sns\n",
    "df = pd.DataFrame()\n",
    "df[\"Authors\"] = scores[index_user].detach().numpy()[:,0]\n",
    "df[\"Genres\"] = scores[index_user].detach().numpy()[:,1]\n",
    "\n",
    "df[\"y\"] = df.apply(lambda x: cluster(x.Authors, x.Genres), axis = 1)\n"
   ]
  },
  {
   "cell_type": "code",
   "execution_count": null,
   "metadata": {
    "id": "cpf3huRMccHO",
    "outputId": "f48850c4-893e-4808-96d6-d07ead00326a"
   },
   "outputs": [
    {
     "data": {
      "image/png": "[encoded data removed]",
      "text/plain": [
       "<Figure size 432x288 with 1 Axes>"
      ]
     },
     "metadata": {
      "needs_background": "light"
     },
     "output_type": "display_data"
    }
   ],
   "source": [
    "sns.scatterplot(x=\"Authors\", y=\"Genres\", hue=df.y.tolist(),\n",
    "                palette=sns.color_palette(\"hls\", 3),\n",
    "                data=df).set(title=\"Cluster of users\")\n",
    "#plt.savefig('cluster.png')\n",
    "plt.show()"
   ]
  },
  {
   "cell_type": "code",
   "execution_count": null,
   "metadata": {
    "id": "hiqmu4z7ccHO",
    "outputId": "f5a77753-711c-4e88-a00d-f5210a96c115"
   },
   "outputs": [
    {
     "name": "stdout",
     "output_type": "stream",
     "text": [
      "Cluster: 0 0.9996315 0.00036849154\n"
     ]
    },
    {
     "data": {
      "image/png": "[encoded data removed]",
      "text/plain": [
       "<Figure size 432x288 with 1 Axes>"
      ]
     },
     "metadata": {
      "needs_background": "light"
     },
     "output_type": "display_data"
    },
    {
     "name": "stdout",
     "output_type": "stream",
     "text": [
      "Cluster: 1 0.0006318203 0.9993682\n"
     ]
    },
    {
     "data": {
      "image/png": "[encoded data removed]",
      "text/plain": [
       "<Figure size 432x288 with 1 Axes>"
      ]
     },
     "metadata": {
      "needs_background": "light"
     },
     "output_type": "display_data"
    },
    {
     "name": "stdout",
     "output_type": "stream",
     "text": [
      "Cluster: 2 0.5 0.5\n"
     ]
    },
    {
     "data": {
      "image/png": "[encoded data removed]",
      "text/plain": [
       "<Figure size 432x288 with 1 Axes>"
      ]
     },
     "metadata": {
      "needs_background": "light"
     },
     "output_type": "display_data"
    }
   ],
   "source": [
    "df_graph = pd.DataFrame(columns=['Authors','Genres','label'])\n",
    "df_graph['Authors'] = scores[index_user].detach().numpy()[:,0]\n",
    "df_graph['Genres'] = scores[index_user].detach().numpy()[:,1]\n",
    "df_graph['label'] = df[\"y\"]\n",
    "import seaborn as sns\n",
    "for i in range(3):\n",
    "    print(\"Cluster:\", i, df_graph[df_graph['label'] == i]['Authors'].mean(),df_graph[df_graph['label'] == i]['Genres'].mean())\n",
    "    import matplotlib.pyplot as plt\n",
    "    plt.xlabel('Attribute type')\n",
    "    plt.ylabel('Importance',fontsize=15)\n",
    "    name_list = ['Authors', 'Genres']\n",
    "    num_list = [df_graph[df_graph['label'] == i]['Authors'].mean(),df_graph[df_graph['label'] == i]['Genres'].mean()]\n",
    "\n",
    "    hist_fig = sns.barplot(x = name_list, y = num_list,tick_label=name_list)\n",
    "    plt.xticks(fontsize  = 'large',rotation=-20)\n",
    "    #plt.savefig('/home/jinfeng/Downloads/doctorant/Conférences/dsaa/argumrntative/test2.png')\n",
    "\n",
    "    plt.show()\n"
   ]
  },
  {
   "cell_type": "code",
   "execution_count": null,
   "metadata": {
    "id": "dOAz6Ip6ccHO"
   },
   "outputs": [],
   "source": []
  }
 ],
 "metadata": {
  "colab": {
   "provenance": []
  },
  "kernelspec": {
   "display_name": "py37-caffe-notebook",
   "language": "python",
   "name": "py37-caffe-notebook"
  },
  "language_info": {
   "codemirror_mode": {
    "name": "ipython",
    "version": 3
   },
   "file_extension": ".py",
   "mimetype": "text/x-python",
   "name": "python",
   "nbconvert_exporter": "python",
   "pygments_lexer": "ipython3",
   "version": "3.6.7"
  },
  "toc": {
   "base_numbering": 1,
   "nav_menu": {},
   "number_sections": true,
   "sideBar": true,
   "skip_h1_title": false,
   "title_cell": "Table of Contents",
   "title_sidebar": "Contents",
   "toc_cell": false,
   "toc_position": {},
   "toc_section_display": true,
   "toc_window_display": false
  }
 },
 "nbformat": 4,
 "nbformat_minor": 1
}
