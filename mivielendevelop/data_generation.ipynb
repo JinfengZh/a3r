{
 "cells": [
  {
   "cell_type": "code",
   "execution_count": 1,
   "metadata": {},
   "outputs": [],
   "source": [
    "import pickle\n",
    "import pandas as pd\n",
    "import torch\n",
    "from torch import nn\n",
    "from sklearn.preprocessing import LabelEncoder\n",
    "from concurrent.futures import ProcessPoolExecutor\n",
    "import numpy as np\n",
    "from operator import itemgetter\n",
    "THREADS = 16\n",
    "from sklearn.metrics import precision_score\n",
    "from sklearn.metrics import recall_score\n",
    "from sklearn.metrics import f1_score\n",
    "import time\n",
    "import torch.nn.functional as F\n",
    "loss_func = torch.nn.MSELoss()"
   ]
  },
  {
   "cell_type": "code",
   "execution_count": 2,
   "metadata": {},
   "outputs": [],
   "source": [
    "ratings = pd.read_pickle('small_ratings_movielens.pkl')\n",
    "films = pd.read_pickle('small_films_movielens.pkl')"
   ]
  },
  {
   "cell_type": "code",
   "execution_count": 3,
   "metadata": {},
   "outputs": [],
   "source": [
    "row = []\n",
    "for mid,haha in ratings.items():\n",
    "    for info in haha:\n",
    "        info['movie'] = mid\n",
    "        row.append(info)\n",
    "df_ratings = pd.DataFrame(row)\n",
    "row = []\n",
    "for mid,haha in films.items():\n",
    "    haha['movie'] = mid\n",
    "    row.append(haha)\n",
    "df_movie = pd.DataFrame(row)"
   ]
  },
  {
   "cell_type": "code",
   "execution_count": 4,
   "metadata": {},
   "outputs": [],
   "source": [
    "final = pd.merge(df_movie,df_ratings,on='movie')\n",
    "a = final['user_id'].value_counts()[final['user_id'].value_counts() >= 10]\n",
    "final = final[final['user_id'].isin(list(a.index))]\n",
    "final.index = range(len(final))\n",
    "hehe = final.copy()\n",
    "del hehe['title']\n",
    "del hehe['user_rating_date']"
   ]
  },
  {
   "cell_type": "code",
   "execution_count": 5,
   "metadata": {},
   "outputs": [],
   "source": [
    "movie = dict()\n",
    "for i in range(df_movie.shape[0]):\n",
    "    m = df_movie['movie'][i]\n",
    "    movie.setdefault(m,dict())\n",
    "    movie[m]['director'] = df_movie['director'][i]\n",
    "    movie[m]['genre'] = df_movie['genre'][i]\n",
    "    movie[m]['actors'] = df_movie['actors'][i]\n",
    "    movie[m]['title'] = df_movie['title'][i]"
   ]
  },
  {
   "cell_type": "code",
   "execution_count": 6,
   "metadata": {},
   "outputs": [],
   "source": [
    "def map_aspect_values_to_movies(x):\n",
    "    (film, meta), aspect = x\n",
    "    aspects = dict()\n",
    "    if aspect == \"director\" and type(meta[aspect]) is str:\n",
    "        aspects[meta[aspect]] = 1\n",
    "    else:\n",
    "        for g in meta[aspect]:\n",
    "            aspects[g] = 1\n",
    "    return film, meta, aspects\n",
    "\n",
    "\n",
    "def dict_movie_aspect(paper_films, aspect):\n",
    "    paper_films_aspect_prepended = map(\n",
    "        lambda e: (e, aspect), list(paper_films.items()))\n",
    "    aspect_dict = dict()\n",
    "    with ProcessPoolExecutor(max_workers=THREADS) as executor:\n",
    "        results = executor.map(map_aspect_values_to_movies,\n",
    "                               paper_films_aspect_prepended)\n",
    "    for film, meta, aspects in results:\n",
    "        aspect_dict[film + \"_\" + meta[\"title\"]] = aspects\n",
    "\n",
    "    return aspect_dict"
   ]
  },
  {
   "cell_type": "code",
   "execution_count": 7,
   "metadata": {},
   "outputs": [
    {
     "name": "stderr",
     "output_type": "stream",
     "text": [
      "<ipython-input-7-4af81307f982>:4: FutureWarning: In a future version, passing float-dtype values containing NaN and an integer dtype will raise IntCastingNaNError (subclass of ValueError) instead of silently ignoring the passed dtype. To retain the old behavior, call Series(arr) or DataFrame(arr) without passing a dtype.\n",
      "  actors = pd.DataFrame.from_dict(movie_actors,dtype = 'int64',orient = 'index').T.replace(np.nan, 0).index\n",
      "<ipython-input-7-4af81307f982>:5: FutureWarning: In a future version, passing float-dtype values containing NaN and an integer dtype will raise IntCastingNaNError (subclass of ValueError) instead of silently ignoring the passed dtype. To retain the old behavior, call Series(arr) or DataFrame(arr) without passing a dtype.\n",
      "  directors = pd.DataFrame.from_dict(movie_directors,dtype = 'int64',orient = 'index').T.replace(np.nan, 0).index\n",
      "<ipython-input-7-4af81307f982>:6: FutureWarning: In a future version, passing float-dtype values containing NaN and an integer dtype will raise IntCastingNaNError (subclass of ValueError) instead of silently ignoring the passed dtype. To retain the old behavior, call Series(arr) or DataFrame(arr) without passing a dtype.\n",
      "  genres = pd.DataFrame.from_dict(movie_genres,dtype = 'int64',orient = 'index').T.replace(np.nan, 0).index\n"
     ]
    }
   ],
   "source": [
    "movie_genres = dict_movie_aspect(movie, \"genre\")\n",
    "movie_directors = dict_movie_aspect(movie,'director')\n",
    "movie_actors = dict_movie_aspect(movie,'actors')\n",
    "actors = pd.DataFrame.from_dict(movie_actors,dtype = 'int64',orient = 'index').T.replace(np.nan, 0).index\n",
    "directors = pd.DataFrame.from_dict(movie_directors,dtype = 'int64',orient = 'index').T.replace(np.nan, 0).index\n",
    "genres = pd.DataFrame.from_dict(movie_genres,dtype = 'int64',orient = 'index').T.replace(np.nan, 0).index"
   ]
  },
  {
   "cell_type": "code",
   "execution_count": 8,
   "metadata": {},
   "outputs": [],
   "source": [
    "actors_dict = dict(zip(actors, range(len(actors))))\n",
    "directors_dict = dict(zip(directors, range(\n",
    "    len(actors), len(actors) + len(directors))))\n",
    "genres_dict = dict(zip(genres, range(\n",
    "    len(actors) + len(directors), len(actors) + len(directors) + len(genres))))\n",
    "# max(actors_dict.values()),max(directors_dict.values()),max(genres_dict.values())"
   ]
  },
  {
   "cell_type": "code",
   "execution_count": 9,
   "metadata": {},
   "outputs": [],
   "source": [
    "def change_director(x):\n",
    "    qunima = itemgetter(*x)(directors_dict)\n",
    "    if type(qunima) == int:\n",
    "        return [qunima]\n",
    "    else:\n",
    "        return change_list(qunima)\n",
    "\n",
    "\n",
    "def change_genre(x):\n",
    "    qunima = itemgetter(*x)(genres_dict)\n",
    "    if type(qunima) == int:\n",
    "        return [qunima]\n",
    "    else:\n",
    "        return change_list(qunima)\n",
    "\n",
    "\n",
    "def change_actor(x):\n",
    "    qunima = itemgetter(*x)(actors_dict)\n",
    "    if type(qunima) == int:\n",
    "        return [qunima]\n",
    "    else:\n",
    "        return list(qunima)\n",
    "\n",
    "\n",
    "def change_list(x):\n",
    "    return list(x)"
   ]
  },
  {
   "cell_type": "code",
   "execution_count": 10,
   "metadata": {},
   "outputs": [],
   "source": [
    "hehe = final.copy()\n",
    "del hehe['title']\n",
    "del hehe['user_rating_date']"
   ]
  },
  {
   "cell_type": "code",
   "execution_count": 11,
   "metadata": {},
   "outputs": [],
   "source": [
    "hehe['director'] = hehe['director'].map(change_director)\n",
    "hehe['actors'] = hehe['actors'].map(change_actor)\n",
    "hehe['genre'] = hehe['genre'].map(change_genre)"
   ]
  },
  {
   "cell_type": "code",
   "execution_count": 12,
   "metadata": {},
   "outputs": [],
   "source": [
    "hehe = hehe[['user_id','movie','actors','director','genre','user_rating']]\n",
    "hehe['user_rating'] = hehe['user_rating'].astype('float')"
   ]
  },
  {
   "cell_type": "code",
   "execution_count": 13,
   "metadata": {},
   "outputs": [],
   "source": [
    "le = LabelEncoder()\n",
    "y = le.fit_transform(hehe['user_id'])\n",
    "hehe['user_id'] = y\n",
    "\n",
    "y = le.fit_transform(hehe['movie'])\n",
    "hehe['movie'] = y\n"
   ]
  },
  {
   "cell_type": "code",
   "execution_count": 14,
   "metadata": {},
   "outputs": [
    {
     "name": "stdout",
     "output_type": "stream",
     "text": [
      "The number of aspects is 22428\n",
      "The number of users is 610\n"
     ]
    }
   ],
   "source": [
    "print(\"The number of aspects is {}\".format(max(genres_dict.values()) + 1))\n",
    "print(\"The number of users is {}\".format(max(hehe['user_id'])+1))"
   ]
  },
  {
   "cell_type": "code",
   "execution_count": 15,
   "metadata": {},
   "outputs": [],
   "source": [
    "trainset = hehe.sample(frac=0.8, random_state=0, axis=0)\n",
    "testset = hehe[~hehe.index.isin(trainset.index)]\n",
    "trainset.index = range(len(trainset))\n",
    "testset.index = range(len(testset))\n",
    "trainset.to_csv('train.csv',index = False)\n",
    "testset.to_csv('test.csv',index = False)\n"
   ]
  },
  {
   "cell_type": "code",
   "execution_count": null,
   "metadata": {},
   "outputs": [],
   "source": []
  }
 ],
 "metadata": {
  "kernelspec": {
   "display_name": "Python 3",
   "language": "python",
   "name": "python3"
  },
  "language_info": {
   "codemirror_mode": {
    "name": "ipython",
    "version": 3
   },
   "file_extension": ".py",
   "mimetype": "text/x-python",
   "name": "python",
   "nbconvert_exporter": "python",
   "pygments_lexer": "ipython3",
   "version": "3.6.7"
  },
  "toc": {
   "base_numbering": 1,
   "nav_menu": {},
   "number_sections": true,
   "sideBar": true,
   "skip_h1_title": false,
   "title_cell": "Table of Contents",
   "title_sidebar": "Contents",
   "toc_cell": false,
   "toc_position": {},
   "toc_section_display": true,
   "toc_window_display": false
  }
 },
 "nbformat": 4,
 "nbformat_minor": 4
}
