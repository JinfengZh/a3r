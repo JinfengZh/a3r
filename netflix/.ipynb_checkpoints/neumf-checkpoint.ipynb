{
 "cells": [
  {
   "cell_type": "code",
   "execution_count": 1,
   "metadata": {},
   "outputs": [
    {
     "ename": "ModuleNotFoundError",
     "evalue": "No module named 'neu'",
     "output_type": "error",
     "traceback": [
      "\u001b[0;31m---------------------------------------------------------------------------\u001b[0m",
      "\u001b[0;31mModuleNotFoundError\u001b[0m                       Traceback (most recent call last)",
      "\u001b[0;32m<ipython-input-1-01b4a42e78a6>\u001b[0m in \u001b[0;36m<module>\u001b[0;34m\u001b[0m\n\u001b[0;32m----> 1\u001b[0;31m \u001b[0;32mfrom\u001b[0m \u001b[0mneu\u001b[0m \u001b[0;32mimport\u001b[0m \u001b[0mNeuMF\u001b[0m\u001b[0;34m\u001b[0m\u001b[0;34m\u001b[0m\u001b[0m\n\u001b[0m\u001b[1;32m      2\u001b[0m \u001b[0;32mimport\u001b[0m \u001b[0mpickle\u001b[0m\u001b[0;34m\u001b[0m\u001b[0;34m\u001b[0m\u001b[0m\n\u001b[1;32m      3\u001b[0m \u001b[0;32mimport\u001b[0m \u001b[0mpandas\u001b[0m \u001b[0;32mas\u001b[0m \u001b[0mpd\u001b[0m\u001b[0;34m\u001b[0m\u001b[0;34m\u001b[0m\u001b[0m\n\u001b[1;32m      4\u001b[0m \u001b[0;32mimport\u001b[0m \u001b[0mtorch\u001b[0m\u001b[0;34m\u001b[0m\u001b[0;34m\u001b[0m\u001b[0m\n\u001b[1;32m      5\u001b[0m \u001b[0;32mfrom\u001b[0m \u001b[0mtorch\u001b[0m \u001b[0;32mimport\u001b[0m \u001b[0mnn\u001b[0m\u001b[0;34m\u001b[0m\u001b[0;34m\u001b[0m\u001b[0m\n",
      "\u001b[0;31mModuleNotFoundError\u001b[0m: No module named 'neu'"
     ]
    }
   ],
   "source": [
    "from neu import NeuMF\n",
    "import pickle\n",
    "import pandas as pd\n",
    "import torch\n",
    "from torch import nn\n",
    "from sklearn.preprocessing import LabelEncoder\n",
    "from concurrent.futures import ProcessPoolExecutor\n",
    "import numpy as np\n",
    "from operator import itemgetter\n",
    "THREADS = 16\n",
    "from sklearn.metrics import precision_score\n",
    "from sklearn.metrics import recall_score\n",
    "from sklearn.metrics import f1_score\n",
    "import time\n",
    "import torch.nn.functional as F\n",
    "loss_func = torch.nn.MSELoss()\n",
    "DEVICE = \"cuda\" if torch.cuda.is_available() else \"cpu\"\n",
    "mlp_factors = 8\n",
    "gmf_factors = 32 \n",
    "layers = [16,8,4]"
   ]
  },
  {
   "cell_type": "code",
   "execution_count": 8,
   "metadata": {},
   "outputs": [],
   "source": [
    "def binary_predictions(true_ratings, predicted_ratings):\n",
    "    assert len(true_ratings) == len(predicted_ratings)\n",
    "    binary_true_ratings = []\n",
    "    binary_predicted_ratings = []\n",
    "\n",
    "    for i in range(len(true_ratings)):\n",
    "        if true_ratings[i] >= 3:\n",
    "            binary_true_ratings.append(1)\n",
    "        else:\n",
    "            binary_true_ratings.append(0)\n",
    "\n",
    "        if predicted_ratings[i] >= 3:\n",
    "            binary_predicted_ratings.append(1)\n",
    "        else:\n",
    "            binary_predicted_ratings.append(0)\n",
    "\n",
    "    return precision_score(binary_true_ratings, binary_predicted_ratings), recall_score(binary_true_ratings, binary_predicted_ratings), f1_score(binary_true_ratings, binary_predicted_ratings)"
   ]
  },
  {
   "cell_type": "code",
   "execution_count": 9,
   "metadata": {},
   "outputs": [],
   "source": [
    "def arg_accuracy_int(ratings, predictions):\n",
    "    ratings = ratings.cpu().detach().numpy()\n",
    "    predictions = predictions.cpu().detach().numpy()\n",
    "    total_nr = len(ratings)\n",
    "    total_pred = 0\n",
    "    for i in range(total_nr):\n",
    "        (true_rating, pred_rating) = ratings[i], predictions[i]\n",
    "        if round(pred_rating) >= int(true_rating)-1 and round(pred_rating) <= int(true_rating)+1:\n",
    "            total_pred += 1\n",
    "\n",
    "    return float(total_pred)/total_nr\n",
    "\n",
    "\n",
    "def round_of_rating(number):\n",
    "    return round(number * 2) / 2"
   ]
  },
  {
   "cell_type": "code",
   "execution_count": 28,
   "metadata": {},
   "outputs": [],
   "source": [
    "def RMSE(data, model):\n",
    "    users_index = data.iloc[:, 0].values\n",
    "    users = torch.LongTensor(users_index).to(DEVICE)\n",
    "    items_index = data.iloc[:, 1].values\n",
    "    items = torch.LongTensor(items_index).to(DEVICE)\n",
    "    rating = torch.FloatTensor(data.iloc[:, 5].values).to(DEVICE)\n",
    "    prediction= model(users, items)\n",
    "    rmse = loss_func(prediction, rating)\n",
    "    mae = torch.nn.L1Loss()(prediction, rating)\n",
    "    \n",
    "    p,r,f = binary_predictions(rating, prediction)\n",
    "    accuracy = arg_accuracy_int(rating,prediction)\n",
    "    return rmse ** 0.5,mae,p,r,f, accuracy"
   ]
  },
  {
   "cell_type": "code",
   "execution_count": 11,
   "metadata": {},
   "outputs": [],
   "source": [
    "import json\n",
    "trainset = pd.read_csv('train.csv')\n",
    "testset = pd.read_csv('test.csv')\n",
    "def traite_train_test(df):\n",
    "    df['actors'] = df['actors'].apply(lambda x: json.loads(x))\n",
    "    df['director'] = df['director'].apply(lambda x: json.loads(x))\n",
    "    df['genre'] = df['genre'].apply(lambda x: json.loads(x))\n",
    "    return df\n",
    "trainset = traite_train_test(trainset)\n",
    "testset = traite_train_test(testset)\n",
    "hehe_test = trainset.copy()\n",
    "df_empty = testset.copy()\n",
    "df_empty['user_id'] = df_empty['user_id'].astype('int')\n",
    "df_empty['user_rating'] = df_empty['user_rating'].astype('float')\n",
    "df_empty['movie'] = df_empty['movie'].astype('int')\n",
    "hehe_test.index = range(len(hehe_test))\n",
    "df_empty.index = range(len(df_empty))"
   ]
  },
  {
   "cell_type": "code",
   "execution_count": 29,
   "metadata": {},
   "outputs": [],
   "source": [
    "hehe = pd.concat([hehe_test,df_empty])"
   ]
  },
  {
   "cell_type": "code",
   "execution_count": 33,
   "metadata": {},
   "outputs": [],
   "source": [
    "def train(lr, mlp_factors,gmf_factors, layers, reg, batch_size, num_epochs, train, test):\n",
    "    model = NeuMF(n_users, n_items, mlp_factors,gmf_factors, layers).to(DEVICE)\n",
    "    optimizer = torch.optim.Adam(params=model.parameters(), lr=lr,weight_decay=reg)\n",
    "    scheduler = torch.optim.lr_scheduler.ReduceLROnPlateau(\n",
    "        optimizer, mode='min', factor=0.5, patience=10, threshold_mode='abs',threshold = 0.005)\n",
    "    for epoch in range(num_epochs):\n",
    "        model.train()\n",
    "        t1 = time.time()\n",
    "        num_example = len(train)\n",
    "        indices = list(range(num_example))\n",
    "        for i in tqdm(range(0, num_example, batch_size)):\n",
    "            optimizer.zero_grad()\n",
    "            indexs = indices[i:min(i+batch_size, num_example)]\n",
    "            users_index = train.iloc[:, 0].loc[indexs].values\n",
    "            users = torch.LongTensor(users_index).to(DEVICE)\n",
    "            items_index = train.iloc[:, 1].loc[indexs].values\n",
    "            items = torch.LongTensor(items_index).to(DEVICE)\n",
    "            \n",
    "           \n",
    "            rating = torch.FloatTensor(\n",
    "                train.iloc[:, 5].loc[indexs].values).to(DEVICE)\n",
    "            prediction = model(\n",
    "                users, items)\n",
    "\n",
    "            err = loss_func(prediction, rating) \n",
    "            err.backward()\n",
    "            optimizer.step()\n",
    "        t2 = time.time()\n",
    "        #rmse, mae = RMSE(test, model)\n",
    "        \n",
    "        \n",
    "        rmse, mae, p, r, f, accuracy = RMSE(testset,model)\n",
    "        scheduler.step(rmse)\n",
    "        print(\"Learning rate: \", lr, \"Regulation: \", reg,\"Bath_size:\",batch_size)\n",
    "        print(\"RMSE: \", rmse, \"MAE: \", mae)\n",
    "        print(\"Accuracy: \", accuracy, \"Precision: \", p, \"Recall: \", r, \"F1 score: \", f)\n",
    "    \n",
    "    return model"
   ]
  },
  {
   "cell_type": "code",
   "execution_count": 34,
   "metadata": {},
   "outputs": [],
   "source": [
    "n_users = len(hehe['user_id'].value_counts())\n",
    "n_items = len(hehe['movie'].value_counts())"
   ]
  },
  {
   "cell_type": "code",
   "execution_count": 36,
   "metadata": {},
   "outputs": [
    {
     "name": "stderr",
     "output_type": "stream",
     "text": [
      "100%|██████████| 1207/1207 [00:04<00:00, 259.63it/s]\n"
     ]
    },
    {
     "name": "stdout",
     "output_type": "stream",
     "text": [
      "Learning rate:  0.002 Regulation:  1e-06 Bath_size: 128\n",
      "RMSE:  tensor(1.0169, grad_fn=<PowBackward0>) MAE:  tensor(0.8204, grad_fn=<L1LossBackward0>)\n",
      "Accuracy:  0.8521597265382225 Precision:  0.8296060815480304 Recall:  0.9497151898734177 F1 score:  0.8856067871634083\n"
     ]
    },
    {
     "name": "stderr",
     "output_type": "stream",
     "text": [
      "100%|██████████| 1207/1207 [00:04<00:00, 266.70it/s]\n"
     ]
    },
    {
     "name": "stdout",
     "output_type": "stream",
     "text": [
      "Learning rate:  0.002 Regulation:  1e-06 Bath_size: 128\n",
      "RMSE:  tensor(0.9743, grad_fn=<PowBackward0>) MAE:  tensor(0.7740, grad_fn=<L1LossBackward0>)\n",
      "Accuracy:  0.87334265589393 Precision:  0.8493731343283583 Recall:  0.9004430379746835 F1 score:  0.8741628264208909\n"
     ]
    },
    {
     "name": "stderr",
     "output_type": "stream",
     "text": [
      "100%|██████████| 1207/1207 [00:04<00:00, 259.38it/s]\n"
     ]
    },
    {
     "name": "stdout",
     "output_type": "stream",
     "text": [
      "Learning rate:  0.002 Regulation:  1e-06 Bath_size: 128\n",
      "RMSE:  tensor(0.9413, grad_fn=<PowBackward0>) MAE:  tensor(0.7413, grad_fn=<L1LossBackward0>)\n",
      "Accuracy:  0.8878962088253574 Precision:  0.8670970191760016 Recall:  0.8671518987341772 F1 score:  0.8671244580867695\n"
     ]
    },
    {
     "name": "stderr",
     "output_type": "stream",
     "text": [
      "100%|██████████| 1207/1207 [00:04<00:00, 264.41it/s]\n"
     ]
    },
    {
     "name": "stdout",
     "output_type": "stream",
     "text": [
      "Learning rate:  0.002 Regulation:  1e-06 Bath_size: 128\n",
      "RMSE:  tensor(0.9266, grad_fn=<PowBackward0>) MAE:  tensor(0.7269, grad_fn=<L1LossBackward0>)\n",
      "Accuracy:  0.8929459291485394 Precision:  0.8770962479608483 Recall:  0.8507278481012658 F1 score:  0.863710843373494\n"
     ]
    },
    {
     "name": "stderr",
     "output_type": "stream",
     "text": [
      "100%|██████████| 1207/1207 [00:04<00:00, 260.43it/s]\n"
     ]
    },
    {
     "name": "stdout",
     "output_type": "stream",
     "text": [
      "Learning rate:  0.002 Regulation:  1e-06 Bath_size: 128\n",
      "RMSE:  tensor(0.9215, grad_fn=<PowBackward0>) MAE:  tensor(0.7218, grad_fn=<L1LossBackward0>)\n",
      "Accuracy:  0.895017609281127 Precision:  0.8823784288237843 Recall:  0.8377848101265822 F1 score:  0.8595035956041102\n"
     ]
    },
    {
     "name": "stderr",
     "output_type": "stream",
     "text": [
      "100%|██████████| 1207/1207 [00:04<00:00, 258.92it/s]\n"
     ]
    },
    {
     "name": "stdout",
     "output_type": "stream",
     "text": [
      "Learning rate:  0.002 Regulation:  1e-06 Bath_size: 128\n",
      "RMSE:  tensor(0.9204, grad_fn=<PowBackward0>) MAE:  tensor(0.7197, grad_fn=<L1LossBackward0>)\n",
      "Accuracy:  0.8963383053656515 Precision:  0.8852364670435695 Recall:  0.8275 F1 score:  0.8553950833346963\n"
     ]
    },
    {
     "name": "stderr",
     "output_type": "stream",
     "text": [
      "100%|██████████| 1207/1207 [00:04<00:00, 268.20it/s]\n"
     ]
    },
    {
     "name": "stdout",
     "output_type": "stream",
     "text": [
      "Learning rate:  0.002 Regulation:  1e-06 Bath_size: 128\n",
      "RMSE:  tensor(0.9210, grad_fn=<PowBackward0>) MAE:  tensor(0.7187, grad_fn=<L1LossBackward0>)\n",
      "Accuracy:  0.8963900973689662 Precision:  0.8873427699900607 Recall:  0.8193037974683545 F1 score:  0.8519670270003455\n"
     ]
    },
    {
     "name": "stderr",
     "output_type": "stream",
     "text": [
      "100%|██████████| 1207/1207 [00:04<00:00, 242.84it/s]\n"
     ]
    },
    {
     "name": "stdout",
     "output_type": "stream",
     "text": [
      "Learning rate:  0.002 Regulation:  1e-06 Bath_size: 128\n",
      "RMSE:  tensor(0.9234, grad_fn=<PowBackward0>) MAE:  tensor(0.7187, grad_fn=<L1LossBackward0>)\n",
      "Accuracy:  0.8956650093225605 Precision:  0.8899311204181233 Recall:  0.8136392405063291 F1 score:  0.8500768709394786\n"
     ]
    },
    {
     "name": "stderr",
     "output_type": "stream",
     "text": [
      "100%|██████████| 1207/1207 [00:04<00:00, 268.31it/s]\n"
     ]
    },
    {
     "name": "stdout",
     "output_type": "stream",
     "text": [
      "Learning rate:  0.002 Regulation:  1e-06 Bath_size: 128\n",
      "RMSE:  tensor(0.9267, grad_fn=<PowBackward0>) MAE:  tensor(0.7190, grad_fn=<L1LossBackward0>)\n",
      "Accuracy:  0.8942407292314066 Precision:  0.8925088265109938 Recall:  0.8079746835443038 F1 score:  0.8481405816599399\n"
     ]
    },
    {
     "name": "stderr",
     "output_type": "stream",
     "text": [
      "100%|██████████| 1207/1207 [00:04<00:00, 267.36it/s]\n"
     ]
    },
    {
     "name": "stdout",
     "output_type": "stream",
     "text": [
      "Learning rate:  0.002 Regulation:  1e-06 Bath_size: 128\n",
      "RMSE:  tensor(0.9303, grad_fn=<PowBackward0>) MAE:  tensor(0.7194, grad_fn=<L1LossBackward0>)\n",
      "Accuracy:  0.8941630412264346 Precision:  0.8943887423043095 Recall:  0.8045253164556962 F1 score:  0.8470803831736776\n"
     ]
    },
    {
     "name": "stderr",
     "output_type": "stream",
     "text": [
      "100%|██████████| 1207/1207 [00:04<00:00, 268.74it/s]\n"
     ]
    },
    {
     "name": "stdout",
     "output_type": "stream",
     "text": [
      "Learning rate:  0.002 Regulation:  1e-06 Bath_size: 128\n",
      "RMSE:  tensor(0.9341, grad_fn=<PowBackward0>) MAE:  tensor(0.7200, grad_fn=<L1LossBackward0>)\n",
      "Accuracy:  0.8930754091568261 Precision:  0.8963358562637052 Recall:  0.801993670886076 F1 score:  0.8465444099275145\n"
     ]
    },
    {
     "name": "stderr",
     "output_type": "stream",
     "text": [
      "100%|██████████| 1207/1207 [00:04<00:00, 271.90it/s]\n"
     ]
    },
    {
     "name": "stdout",
     "output_type": "stream",
     "text": [
      "Learning rate:  0.002 Regulation:  1e-06 Bath_size: 128\n",
      "RMSE:  tensor(0.9376, grad_fn=<PowBackward0>) MAE:  tensor(0.7203, grad_fn=<L1LossBackward0>)\n",
      "Accuracy:  0.8911591050341827 Precision:  0.8978053097345132 Recall:  0.802626582278481 F1 score:  0.8475522138680034\n"
     ]
    },
    {
     "name": "stderr",
     "output_type": "stream",
     "text": [
      "100%|██████████| 1207/1207 [00:04<00:00, 268.39it/s]\n"
     ]
    },
    {
     "name": "stdout",
     "output_type": "stream",
     "text": [
      "Learning rate:  0.002 Regulation:  1e-06 Bath_size: 128\n",
      "RMSE:  tensor(0.9411, grad_fn=<PowBackward0>) MAE:  tensor(0.7206, grad_fn=<L1LossBackward0>)\n",
      "Accuracy:  0.8912626890408121 Precision:  0.8995716662536727 Recall:  0.8041772151898734 F1 score:  0.8492038296379221\n"
     ]
    },
    {
     "name": "stderr",
     "output_type": "stream",
     "text": [
      "100%|██████████| 1207/1207 [00:04<00:00, 264.57it/s]\n"
     ]
    },
    {
     "name": "stdout",
     "output_type": "stream",
     "text": [
      "Learning rate:  0.002 Regulation:  1e-06 Bath_size: 128\n",
      "RMSE:  tensor(0.9449, grad_fn=<PowBackward0>) MAE:  tensor(0.7218, grad_fn=<L1LossBackward0>)\n",
      "Accuracy:  0.8896053449347421 Precision:  0.9007067137809187 Recall:  0.8066455696202531 F1 score:  0.851085141903172\n"
     ]
    },
    {
     "name": "stderr",
     "output_type": "stream",
     "text": [
      "100%|██████████| 1207/1207 [00:04<00:00, 264.59it/s]\n"
     ]
    },
    {
     "name": "stdout",
     "output_type": "stream",
     "text": [
      "Learning rate:  0.002 Regulation:  1e-06 Bath_size: 128\n",
      "RMSE:  tensor(0.9491, grad_fn=<PowBackward0>) MAE:  tensor(0.7233, grad_fn=<L1LossBackward0>)\n",
      "Accuracy:  0.8878444168220426 Precision:  0.9022026431718062 Recall:  0.810126582278481 F1 score:  0.8536890370987912\n"
     ]
    },
    {
     "name": "stderr",
     "output_type": "stream",
     "text": [
      "100%|██████████| 1207/1207 [00:04<00:00, 256.40it/s]\n"
     ]
    },
    {
     "name": "stdout",
     "output_type": "stream",
     "text": [
      "Learning rate:  0.002 Regulation:  1e-06 Bath_size: 128\n",
      "RMSE:  tensor(0.9532, grad_fn=<PowBackward0>) MAE:  tensor(0.7251, grad_fn=<L1LossBackward0>)\n",
      "Accuracy:  0.887041640770665 Precision:  0.9028256132705419 Recall:  0.8129430379746836 F1 score:  0.8555300229793186\n"
     ]
    },
    {
     "name": "stderr",
     "output_type": "stream",
     "text": [
      "100%|██████████| 1207/1207 [00:04<00:00, 269.34it/s]\n"
     ]
    },
    {
     "name": "stdout",
     "output_type": "stream",
     "text": [
      "Learning rate:  0.002 Regulation:  1e-06 Bath_size: 128\n",
      "RMSE:  tensor(0.8964, grad_fn=<PowBackward0>) MAE:  tensor(0.6800, grad_fn=<L1LossBackward0>)\n",
      "Accuracy:  0.9048321939092604 Precision:  0.9124409224974237 Recall:  0.8125632911392405 F1 score:  0.8596106526506085\n"
     ]
    },
    {
     "name": "stderr",
     "output_type": "stream",
     "text": [
      "100%|██████████| 1207/1207 [00:04<00:00, 269.16it/s]\n"
     ]
    },
    {
     "name": "stdout",
     "output_type": "stream",
     "text": [
      "Learning rate:  0.002 Regulation:  1e-06 Bath_size: 128\n",
      "RMSE:  tensor(0.8799, grad_fn=<PowBackward0>) MAE:  tensor(0.6666, grad_fn=<L1LossBackward0>)\n",
      "Accuracy:  0.9103739382639321 Precision:  0.9163744364130824 Recall:  0.8104113924050633 F1 score:  0.8601417391596413\n"
     ]
    },
    {
     "name": "stderr",
     "output_type": "stream",
     "text": [
      "100%|██████████| 1207/1207 [00:04<00:00, 265.44it/s]\n"
     ]
    },
    {
     "name": "stdout",
     "output_type": "stream",
     "text": [
      "Learning rate:  0.002 Regulation:  1e-06 Bath_size: 128\n",
      "RMSE:  tensor(0.8684, grad_fn=<PowBackward0>) MAE:  tensor(0.6569, grad_fn=<L1LossBackward0>)\n",
      "Accuracy:  0.9138181064843588 Precision:  0.9193554188698249 Recall:  0.8088291139240507 F1 score:  0.860557903065605\n"
     ]
    },
    {
     "name": "stderr",
     "output_type": "stream",
     "text": [
      "100%|██████████| 1207/1207 [00:04<00:00, 261.39it/s]\n"
     ]
    },
    {
     "name": "stdout",
     "output_type": "stream",
     "text": [
      "Learning rate:  0.002 Regulation:  1e-06 Bath_size: 128\n",
      "RMSE:  tensor(0.8593, grad_fn=<PowBackward0>) MAE:  tensor(0.6490, grad_fn=<L1LossBackward0>)\n",
      "Accuracy:  0.915786202610317 Precision:  0.9219686574709324 Recall:  0.808006329113924 F1 score:  0.8612338516544675\n"
     ]
    },
    {
     "name": "stderr",
     "output_type": "stream",
     "text": [
      "100%|██████████| 1207/1207 [00:04<00:00, 268.22it/s]\n"
     ]
    },
    {
     "name": "stdout",
     "output_type": "stream",
     "text": [
      "Learning rate:  0.002 Regulation:  1e-06 Bath_size: 128\n",
      "RMSE:  tensor(0.8511, grad_fn=<PowBackward0>) MAE:  tensor(0.6418, grad_fn=<L1LossBackward0>)\n",
      "Accuracy:  0.9186088667909674 Precision:  0.9240497155487916 Recall:  0.806993670886076 F1 score:  0.8615639306045915\n"
     ]
    },
    {
     "name": "stderr",
     "output_type": "stream",
     "text": [
      "100%|██████████| 1207/1207 [00:04<00:00, 261.88it/s]\n"
     ]
    },
    {
     "name": "stdout",
     "output_type": "stream",
     "text": [
      "Learning rate:  0.002 Regulation:  1e-06 Bath_size: 128\n",
      "RMSE:  tensor(0.8437, grad_fn=<PowBackward0>) MAE:  tensor(0.6351, grad_fn=<L1LossBackward0>)\n",
      "Accuracy:  0.9209654029417857 Precision:  0.9264080282151038 Recall:  0.8062974683544304 F1 score:  0.8621897365615959\n"
     ]
    },
    {
     "name": "stderr",
     "output_type": "stream",
     "text": [
      "100%|██████████| 1207/1207 [00:04<00:00, 262.85it/s]\n"
     ]
    },
    {
     "name": "stdout",
     "output_type": "stream",
     "text": [
      "Learning rate:  0.002 Regulation:  1e-06 Bath_size: 128\n",
      "RMSE:  tensor(0.8367, grad_fn=<PowBackward0>) MAE:  tensor(0.6286, grad_fn=<L1LossBackward0>)\n",
      "Accuracy:  0.9232442510876321 Precision:  0.9291404765385177 Recall:  0.8045886075949367 F1 score:  0.8623906112204057\n"
     ]
    },
    {
     "name": "stderr",
     "output_type": "stream",
     "text": [
      "100%|██████████| 1207/1207 [00:04<00:00, 264.22it/s]\n"
     ]
    },
    {
     "name": "stdout",
     "output_type": "stream",
     "text": [
      "Learning rate:  0.002 Regulation:  1e-06 Bath_size: 128\n",
      "RMSE:  tensor(0.8300, grad_fn=<PowBackward0>) MAE:  tensor(0.6223, grad_fn=<L1LossBackward0>)\n",
      "Accuracy:  0.9243836751605552 Precision:  0.9315053408214954 Recall:  0.8030696202531645 F1 score:  0.8625325017419233\n"
     ]
    },
    {
     "name": "stderr",
     "output_type": "stream",
     "text": [
      "100%|██████████| 1207/1207 [00:04<00:00, 261.37it/s]\n"
     ]
    },
    {
     "name": "stdout",
     "output_type": "stream",
     "text": [
      "Learning rate:  0.002 Regulation:  1e-06 Bath_size: 128\n",
      "RMSE:  tensor(0.8235, grad_fn=<PowBackward0>) MAE:  tensor(0.6160, grad_fn=<L1LossBackward0>)\n",
      "Accuracy:  0.9260669152682826 Precision:  0.9334291187739464 Recall:  0.8018037974683544 F1 score:  0.8626242680103501\n"
     ]
    },
    {
     "name": "stderr",
     "output_type": "stream",
     "text": [
      "100%|██████████| 1207/1207 [00:05<00:00, 241.14it/s]\n"
     ]
    },
    {
     "name": "stdout",
     "output_type": "stream",
     "text": [
      "Learning rate:  0.002 Regulation:  1e-06 Bath_size: 128\n",
      "RMSE:  tensor(0.8173, grad_fn=<PowBackward0>) MAE:  tensor(0.6100, grad_fn=<L1LossBackward0>)\n",
      "Accuracy:  0.9277242593743525 Precision:  0.9358500332766398 Recall:  0.8009810126582279 F1 score:  0.8631790744466801\n"
     ]
    },
    {
     "name": "stderr",
     "output_type": "stream",
     "text": [
      "100%|██████████| 1207/1207 [00:04<00:00, 268.36it/s]\n"
     ]
    },
    {
     "name": "stdout",
     "output_type": "stream",
     "text": [
      "Learning rate:  0.002 Regulation:  1e-06 Bath_size: 128\n",
      "RMSE:  tensor(0.8113, grad_fn=<PowBackward0>) MAE:  tensor(0.6041, grad_fn=<L1LossBackward0>)\n",
      "Accuracy:  0.9297959395069402 Precision:  0.9372522872911805 Recall:  0.8007278481012658 F1 score:  0.8636278307763195\n"
     ]
    },
    {
     "name": "stderr",
     "output_type": "stream",
     "text": [
      "100%|██████████| 1207/1207 [00:04<00:00, 262.48it/s]\n"
     ]
    },
    {
     "name": "stdout",
     "output_type": "stream",
     "text": [
      "Learning rate:  0.002 Regulation:  1e-06 Bath_size: 128\n",
      "RMSE:  tensor(0.8056, grad_fn=<PowBackward0>) MAE:  tensor(0.5984, grad_fn=<L1LossBackward0>)\n",
      "Accuracy:  0.9308317795732339 Precision:  0.9391711229946524 Recall:  0.8003164556962026 F1 score:  0.8642017495899399\n"
     ]
    },
    {
     "name": "stderr",
     "output_type": "stream",
     "text": [
      "100%|██████████| 1207/1207 [00:04<00:00, 269.12it/s]\n"
     ]
    },
    {
     "name": "stdout",
     "output_type": "stream",
     "text": [
      "Learning rate:  0.002 Regulation:  1e-06 Bath_size: 128\n",
      "RMSE:  tensor(0.8000, grad_fn=<PowBackward0>) MAE:  tensor(0.5927, grad_fn=<L1LossBackward0>)\n",
      "Accuracy:  0.9326186036875906 Precision:  0.9404447093001601 Recall:  0.7990506329113924 F1 score:  0.8640010949716848\n"
     ]
    },
    {
     "name": "stderr",
     "output_type": "stream",
     "text": [
      "100%|██████████| 1207/1207 [00:04<00:00, 269.77it/s]\n"
     ]
    },
    {
     "name": "stdout",
     "output_type": "stream",
     "text": [
      "Learning rate:  0.002 Regulation:  1e-06 Bath_size: 128\n",
      "RMSE:  tensor(0.7947, grad_fn=<PowBackward0>) MAE:  tensor(0.5872, grad_fn=<L1LossBackward0>)\n",
      "Accuracy:  0.9342759477936606 Precision:  0.9418175032655346 Recall:  0.7986075949367089 F1 score:  0.8643205753917288\n"
     ]
    },
    {
     "name": "stderr",
     "output_type": "stream",
     "text": [
      "100%|██████████| 1207/1207 [00:04<00:00, 266.29it/s]\n"
     ]
    },
    {
     "name": "stdout",
     "output_type": "stream",
     "text": [
      "Learning rate:  0.002 Regulation:  1e-06 Bath_size: 128\n",
      "RMSE:  tensor(0.7896, grad_fn=<PowBackward0>) MAE:  tensor(0.5818, grad_fn=<L1LossBackward0>)\n",
      "Accuracy:  0.9350010358400663 Precision:  0.9433030200965533 Recall:  0.7976582278481013 F1 score:  0.8643884707052348\n"
     ]
    },
    {
     "name": "stderr",
     "output_type": "stream",
     "text": [
      "100%|██████████| 1207/1207 [00:04<00:00, 262.72it/s]\n"
     ]
    },
    {
     "name": "stdout",
     "output_type": "stream",
     "text": [
      "Learning rate:  0.002 Regulation:  1e-06 Bath_size: 128\n",
      "RMSE:  tensor(0.7847, grad_fn=<PowBackward0>) MAE:  tensor(0.5766, grad_fn=<L1LossBackward0>)\n",
      "Accuracy:  0.9361404599129894 Precision:  0.9452394366197183 Recall:  0.7964240506329114 F1 score:  0.8644740231859167\n"
     ]
    },
    {
     "name": "stderr",
     "output_type": "stream",
     "text": [
      "100%|██████████| 1207/1207 [00:04<00:00, 262.48it/s]\n"
     ]
    },
    {
     "name": "stdout",
     "output_type": "stream",
     "text": [
      "Learning rate:  0.002 Regulation:  1e-06 Bath_size: 128\n",
      "RMSE:  tensor(0.7801, grad_fn=<PowBackward0>) MAE:  tensor(0.5715, grad_fn=<L1LossBackward0>)\n",
      "Accuracy:  0.9374093639941993 Precision:  0.9470168685610778 Recall:  0.7941455696202532 F1 score:  0.8638702903664436\n"
     ]
    },
    {
     "name": "stderr",
     "output_type": "stream",
     "text": [
      "100%|██████████| 1207/1207 [00:04<00:00, 269.85it/s]\n"
     ]
    },
    {
     "name": "stdout",
     "output_type": "stream",
     "text": [
      "Learning rate:  0.002 Regulation:  1e-06 Bath_size: 128\n",
      "RMSE:  tensor(0.7757, grad_fn=<PowBackward0>) MAE:  tensor(0.5666, grad_fn=<L1LossBackward0>)\n",
      "Accuracy:  0.9382639320488917 Precision:  0.9488752556237219 Recall:  0.7929113924050633 F1 score:  0.8639106299348343\n"
     ]
    },
    {
     "name": "stderr",
     "output_type": "stream",
     "text": [
      "100%|██████████| 1207/1207 [00:04<00:00, 267.52it/s]\n"
     ]
    },
    {
     "name": "stdout",
     "output_type": "stream",
     "text": [
      "Learning rate:  0.002 Regulation:  1e-06 Bath_size: 128\n",
      "RMSE:  tensor(0.7714, grad_fn=<PowBackward0>) MAE:  tensor(0.5618, grad_fn=<L1LossBackward0>)\n",
      "Accuracy:  0.9392738761135281 Precision:  0.9501556449776023 Recall:  0.7920569620253165 F1 score:  0.8639328984156569\n"
     ]
    },
    {
     "name": "stderr",
     "output_type": "stream",
     "text": [
      "100%|██████████| 1207/1207 [00:05<00:00, 238.38it/s]\n"
     ]
    },
    {
     "name": "stdout",
     "output_type": "stream",
     "text": [
      "Learning rate:  0.002 Regulation:  1e-06 Bath_size: 128\n",
      "RMSE:  tensor(0.7676, grad_fn=<PowBackward0>) MAE:  tensor(0.5573, grad_fn=<L1LossBackward0>)\n",
      "Accuracy:  0.9404391961881086 Precision:  0.951501770147322 Recall:  0.7909810126582278 F1 score:  0.863847655912492\n"
     ]
    },
    {
     "name": "stderr",
     "output_type": "stream",
     "text": [
      "100%|██████████| 1207/1207 [00:04<00:00, 265.25it/s]\n"
     ]
    },
    {
     "name": "stdout",
     "output_type": "stream",
     "text": [
      "Learning rate:  0.002 Regulation:  1e-06 Bath_size: 128\n",
      "RMSE:  tensor(0.7637, grad_fn=<PowBackward0>) MAE:  tensor(0.5528, grad_fn=<L1LossBackward0>)\n",
      "Accuracy:  0.9418893722809198 Precision:  0.9523900354785794 Recall:  0.7900316455696202 F1 score:  0.8636465846781866\n"
     ]
    },
    {
     "name": "stderr",
     "output_type": "stream",
     "text": [
      "100%|██████████| 1207/1207 [00:04<00:00, 258.43it/s]\n"
     ]
    },
    {
     "name": "stdout",
     "output_type": "stream",
     "text": [
      "Learning rate:  0.002 Regulation:  1e-06 Bath_size: 128\n",
      "RMSE:  tensor(0.7602, grad_fn=<PowBackward0>) MAE:  tensor(0.5485, grad_fn=<L1LossBackward0>)\n",
      "Accuracy:  0.9427698363372695 Precision:  0.9533035270740189 Recall:  0.7894620253164557 F1 score:  0.863681213107376\n"
     ]
    },
    {
     "name": "stderr",
     "output_type": "stream",
     "text": [
      "100%|██████████| 1207/1207 [00:04<00:00, 270.39it/s]\n"
     ]
    },
    {
     "name": "stdout",
     "output_type": "stream",
     "text": [
      "Learning rate:  0.002 Regulation:  1e-06 Bath_size: 128\n",
      "RMSE:  tensor(0.7569, grad_fn=<PowBackward0>) MAE:  tensor(0.5444, grad_fn=<L1LossBackward0>)\n",
      "Accuracy:  0.9434431323803605 Precision:  0.9540775324327427 Recall:  0.7889556962025317 F1 score:  0.8636954149417124\n"
     ]
    },
    {
     "name": "stderr",
     "output_type": "stream",
     "text": [
      "100%|██████████| 1207/1207 [00:04<00:00, 265.90it/s]\n"
     ]
    },
    {
     "name": "stdout",
     "output_type": "stream",
     "text": [
      "Learning rate:  0.002 Regulation:  1e-06 Bath_size: 128\n",
      "RMSE:  tensor(0.7539, grad_fn=<PowBackward0>) MAE:  tensor(0.5405, grad_fn=<L1LossBackward0>)\n",
      "Accuracy:  0.943857468406878 Precision:  0.9550036411022959 Recall:  0.7885126582278481 F1 score:  0.8638089130020281\n"
     ]
    },
    {
     "name": "stderr",
     "output_type": "stream",
     "text": [
      "100%|██████████| 1207/1207 [00:04<00:00, 271.34it/s]\n"
     ]
    },
    {
     "name": "stdout",
     "output_type": "stream",
     "text": [
      "Learning rate:  0.002 Regulation:  1e-06 Bath_size: 128\n",
      "RMSE:  tensor(0.7510, grad_fn=<PowBackward0>) MAE:  tensor(0.5367, grad_fn=<L1LossBackward0>)\n",
      "Accuracy:  0.9448156204681997 Precision:  0.9555154678744147 Recall:  0.7878164556962025 F1 score:  0.8636000971311616\n"
     ]
    },
    {
     "name": "stderr",
     "output_type": "stream",
     "text": [
      "100%|██████████| 1207/1207 [00:04<00:00, 262.70it/s]\n"
     ]
    },
    {
     "name": "stdout",
     "output_type": "stream",
     "text": [
      "Learning rate:  0.002 Regulation:  1e-06 Bath_size: 128\n",
      "RMSE:  tensor(0.7483, grad_fn=<PowBackward0>) MAE:  tensor(0.5331, grad_fn=<L1LossBackward0>)\n",
      "Accuracy:  0.9450227884814585 Precision:  0.9564384506340753 Recall:  0.79 F1 score:  0.8652882965633177\n"
     ]
    },
    {
     "name": "stderr",
     "output_type": "stream",
     "text": [
      "100%|██████████| 1207/1207 [00:04<00:00, 262.41it/s]\n"
     ]
    },
    {
     "name": "stdout",
     "output_type": "stream",
     "text": [
      "Learning rate:  0.002 Regulation:  1e-06 Bath_size: 128\n",
      "RMSE:  tensor(0.7458, grad_fn=<PowBackward0>) MAE:  tensor(0.5296, grad_fn=<L1LossBackward0>)\n",
      "Accuracy:  0.9451781644914026 Precision:  0.9570226984675654 Recall:  0.7885443037974683 F1 score:  0.8646529139268178\n"
     ]
    },
    {
     "name": "stderr",
     "output_type": "stream",
     "text": [
      "100%|██████████| 1207/1207 [00:05<00:00, 239.38it/s]\n"
     ]
    },
    {
     "name": "stdout",
     "output_type": "stream",
     "text": [
      "Learning rate:  0.002 Regulation:  1e-06 Bath_size: 128\n",
      "RMSE:  tensor(0.7435, grad_fn=<PowBackward0>) MAE:  tensor(0.5263, grad_fn=<L1LossBackward0>)\n",
      "Accuracy:  0.9456701885228921 Precision:  0.9575985278331545 Recall:  0.7904430379746835 F1 score:  0.8660287081339713\n"
     ]
    },
    {
     "name": "stderr",
     "output_type": "stream",
     "text": [
      "100%|██████████| 1207/1207 [00:04<00:00, 255.00it/s]\n"
     ]
    },
    {
     "name": "stdout",
     "output_type": "stream",
     "text": [
      "Learning rate:  0.002 Regulation:  1e-06 Bath_size: 128\n",
      "RMSE:  tensor(0.7413, grad_fn=<PowBackward0>) MAE:  tensor(0.5230, grad_fn=<L1LossBackward0>)\n",
      "Accuracy:  0.9457737725295214 Precision:  0.958283716820958 Recall:  0.7894620253164557 F1 score:  0.8657192927662971\n"
     ]
    },
    {
     "name": "stderr",
     "output_type": "stream",
     "text": [
      "100%|██████████| 1207/1207 [00:04<00:00, 260.54it/s]\n"
     ]
    },
    {
     "name": "stdout",
     "output_type": "stream",
     "text": [
      "Learning rate:  0.002 Regulation:  1e-06 Bath_size: 128\n",
      "RMSE:  tensor(0.7392, grad_fn=<PowBackward0>) MAE:  tensor(0.5200, grad_fn=<L1LossBackward0>)\n",
      "Accuracy:  0.9461104205510669 Precision:  0.9591907381053117 Recall:  0.7891772151898734 F1 score:  0.865917811073109\n"
     ]
    },
    {
     "name": "stderr",
     "output_type": "stream",
     "text": [
      "100%|██████████| 1207/1207 [00:04<00:00, 262.31it/s]\n"
     ]
    },
    {
     "name": "stdout",
     "output_type": "stream",
     "text": [
      "Learning rate:  0.002 Regulation:  1e-06 Bath_size: 128\n",
      "RMSE:  tensor(0.7374, grad_fn=<PowBackward0>) MAE:  tensor(0.5170, grad_fn=<L1LossBackward0>)\n",
      "Accuracy:  0.9463952765692977 Precision:  0.9593150212619239 Recall:  0.7924367088607595 F1 score:  0.8679271441692806\n"
     ]
    },
    {
     "name": "stderr",
     "output_type": "stream",
     "text": [
      "100%|██████████| 1207/1207 [00:04<00:00, 259.88it/s]\n"
     ]
    },
    {
     "name": "stdout",
     "output_type": "stream",
     "text": [
      "Learning rate:  0.002 Regulation:  1e-06 Bath_size: 128\n",
      "RMSE:  tensor(0.7354, grad_fn=<PowBackward0>) MAE:  tensor(0.5139, grad_fn=<L1LossBackward0>)\n",
      "Accuracy:  0.9466801325875285 Precision:  0.9599340541369527 Recall:  0.7923101265822785 F1 score:  0.8681044346589925\n"
     ]
    },
    {
     "name": "stderr",
     "output_type": "stream",
     "text": [
      "100%|██████████| 1207/1207 [00:04<00:00, 259.00it/s]\n"
     ]
    },
    {
     "name": "stdout",
     "output_type": "stream",
     "text": [
      "Learning rate:  0.002 Regulation:  1e-06 Bath_size: 128\n",
      "RMSE:  tensor(0.7339, grad_fn=<PowBackward0>) MAE:  tensor(0.5113, grad_fn=<L1LossBackward0>)\n",
      "Accuracy:  0.9469390926041019 Precision:  0.9600076540375048 Recall:  0.7938291139240506 F1 score:  0.8690455569028235\n"
     ]
    },
    {
     "name": "stderr",
     "output_type": "stream",
     "text": [
      "100%|██████████| 1207/1207 [00:04<00:00, 247.60it/s]\n"
     ]
    },
    {
     "name": "stdout",
     "output_type": "stream",
     "text": [
      "Learning rate:  0.002 Regulation:  1e-06 Bath_size: 128\n",
      "RMSE:  tensor(0.7322, grad_fn=<PowBackward0>) MAE:  tensor(0.5083, grad_fn=<L1LossBackward0>)\n",
      "Accuracy:  0.9472239486223327 Precision:  0.9600397690336889 Recall:  0.7944936708860759 F1 score:  0.8694568059427542\n"
     ]
    },
    {
     "name": "stderr",
     "output_type": "stream",
     "text": [
      "100%|██████████| 1207/1207 [00:04<00:00, 258.66it/s]\n"
     ]
    },
    {
     "name": "stdout",
     "output_type": "stream",
     "text": [
      "Learning rate:  0.002 Regulation:  1e-06 Bath_size: 128\n",
      "RMSE:  tensor(0.7304, grad_fn=<PowBackward0>) MAE:  tensor(0.5053, grad_fn=<L1LossBackward0>)\n",
      "Accuracy:  0.9476382846488502 Precision:  0.9606558633107306 Recall:  0.7935443037974683 F1 score:  0.8691402526731713\n"
     ]
    },
    {
     "name": "stderr",
     "output_type": "stream",
     "text": [
      "100%|██████████| 1207/1207 [00:04<00:00, 259.88it/s]\n"
     ]
    },
    {
     "name": "stdout",
     "output_type": "stream",
     "text": [
      "Learning rate:  0.002 Regulation:  1e-06 Bath_size: 128\n",
      "RMSE:  tensor(0.7288, grad_fn=<PowBackward0>) MAE:  tensor(0.5027, grad_fn=<L1LossBackward0>)\n",
      "Accuracy:  0.9480526206753678 Precision:  0.9610469120685696 Recall:  0.7948101265822785 F1 score:  0.8700592371912564\n"
     ]
    },
    {
     "name": "stderr",
     "output_type": "stream",
     "text": [
      "100%|██████████| 1207/1207 [00:04<00:00, 264.18it/s]\n"
     ]
    },
    {
     "name": "stdout",
     "output_type": "stream",
     "text": [
      "Learning rate:  0.002 Regulation:  1e-06 Bath_size: 128\n",
      "RMSE:  tensor(0.7273, grad_fn=<PowBackward0>) MAE:  tensor(0.5001, grad_fn=<L1LossBackward0>)\n",
      "Accuracy:  0.9482597886886265 Precision:  0.9614443084455324 Recall:  0.7954430379746835 F1 score:  0.8706012745912994\n"
     ]
    },
    {
     "name": "stderr",
     "output_type": "stream",
     "text": [
      "100%|██████████| 1207/1207 [00:04<00:00, 262.95it/s]\n"
     ]
    },
    {
     "name": "stdout",
     "output_type": "stream",
     "text": [
      "Learning rate:  0.002 Regulation:  1e-06 Bath_size: 128\n",
      "RMSE:  tensor(0.7257, grad_fn=<PowBackward0>) MAE:  tensor(0.4976, grad_fn=<L1LossBackward0>)\n",
      "Accuracy:  0.9479490366687383 Precision:  0.9618589008637163 Recall:  0.7964556962025316 F1 score:  0.8713776269778071\n"
     ]
    },
    {
     "name": "stderr",
     "output_type": "stream",
     "text": [
      "100%|██████████| 1207/1207 [00:04<00:00, 259.59it/s]\n"
     ]
    },
    {
     "name": "stdout",
     "output_type": "stream",
     "text": [
      "Learning rate:  0.002 Regulation:  1e-06 Bath_size: 128\n",
      "RMSE:  tensor(0.7243, grad_fn=<PowBackward0>) MAE:  tensor(0.4951, grad_fn=<L1LossBackward0>)\n",
      "Accuracy:  0.9477418686554796 Precision:  0.9618989560313953 Recall:  0.7989240506329114 F1 score:  0.8728693427376136\n"
     ]
    },
    {
     "name": "stderr",
     "output_type": "stream",
     "text": [
      "100%|██████████| 1207/1207 [00:05<00:00, 236.18it/s]\n"
     ]
    },
    {
     "name": "stdout",
     "output_type": "stream",
     "text": [
      "Learning rate:  0.002 Regulation:  1e-06 Bath_size: 128\n",
      "RMSE:  tensor(0.7229, grad_fn=<PowBackward0>) MAE:  tensor(0.4927, grad_fn=<L1LossBackward0>)\n",
      "Accuracy:  0.9477936606587943 Precision:  0.962019524100061 Recall:  0.7983544303797468 F1 score:  0.8725788599889319\n"
     ]
    },
    {
     "name": "stderr",
     "output_type": "stream",
     "text": [
      "100%|██████████| 1207/1207 [00:05<00:00, 239.52it/s]\n"
     ]
    },
    {
     "name": "stdout",
     "output_type": "stream",
     "text": [
      "Learning rate:  0.002 Regulation:  1e-06 Bath_size: 128\n",
      "RMSE:  tensor(0.7216, grad_fn=<PowBackward0>) MAE:  tensor(0.4903, grad_fn=<L1LossBackward0>)\n",
      "Accuracy:  0.9483374766935985 Precision:  0.9619337647506662 Recall:  0.7996835443037975 F1 score:  0.8733367893554519\n"
     ]
    },
    {
     "name": "stderr",
     "output_type": "stream",
     "text": [
      "100%|██████████| 1207/1207 [00:04<00:00, 261.22it/s]\n"
     ]
    },
    {
     "name": "stdout",
     "output_type": "stream",
     "text": [
      "Learning rate:  0.002 Regulation:  1e-06 Bath_size: 128\n",
      "RMSE:  tensor(0.7201, grad_fn=<PowBackward0>) MAE:  tensor(0.4878, grad_fn=<L1LossBackward0>)\n",
      "Accuracy:  0.9484151646985706 Precision:  0.9625872392357271 Recall:  0.7987341772151899 F1 score:  0.8730392072084536\n"
     ]
    },
    {
     "name": "stderr",
     "output_type": "stream",
     "text": [
      "100%|██████████| 1207/1207 [00:04<00:00, 243.44it/s]\n"
     ]
    },
    {
     "name": "stdout",
     "output_type": "stream",
     "text": [
      "Learning rate:  0.002 Regulation:  1e-06 Bath_size: 128\n",
      "RMSE:  tensor(0.7189, grad_fn=<PowBackward0>) MAE:  tensor(0.4854, grad_fn=<L1LossBackward0>)\n",
      "Accuracy:  0.9489071887300601 Precision:  0.9626232253644426 Recall:  0.8003481012658228 F1 score:  0.8740172446564028\n"
     ]
    },
    {
     "name": "stderr",
     "output_type": "stream",
     "text": [
      "100%|██████████| 1207/1207 [00:04<00:00, 256.21it/s]\n"
     ]
    },
    {
     "name": "stdout",
     "output_type": "stream",
     "text": [
      "Learning rate:  0.002 Regulation:  1e-06 Bath_size: 128\n",
      "RMSE:  tensor(0.7175, grad_fn=<PowBackward0>) MAE:  tensor(0.4829, grad_fn=<L1LossBackward0>)\n",
      "Accuracy:  0.9491920447482909 Precision:  0.9625147917700501 Recall:  0.7979430379746836 F1 score:  0.8725366368496635\n"
     ]
    },
    {
     "name": "stderr",
     "output_type": "stream",
     "text": [
      "100%|██████████| 1207/1207 [00:04<00:00, 257.65it/s]\n"
     ]
    },
    {
     "name": "stdout",
     "output_type": "stream",
     "text": [
      "Learning rate:  0.002 Regulation:  1e-06 Bath_size: 128\n",
      "RMSE:  tensor(0.7162, grad_fn=<PowBackward0>) MAE:  tensor(0.4809, grad_fn=<L1LossBackward0>)\n",
      "Accuracy:  0.9496840687797804 Precision:  0.9628856589882737 Recall:  0.8029430379746836 F1 score:  0.875670825352453\n"
     ]
    },
    {
     "name": "stderr",
     "output_type": "stream",
     "text": [
      "100%|██████████| 1207/1207 [00:04<00:00, 260.74it/s]\n"
     ]
    },
    {
     "name": "stdout",
     "output_type": "stream",
     "text": [
      "Learning rate:  0.002 Regulation:  1e-06 Bath_size: 128\n",
      "RMSE:  tensor(0.7149, grad_fn=<PowBackward0>) MAE:  tensor(0.4784, grad_fn=<L1LossBackward0>)\n",
      "Accuracy:  0.9497099647814378 Precision:  0.9636964950961758 Recall:  0.802246835443038 F1 score:  0.8755914758401548\n"
     ]
    },
    {
     "name": "stderr",
     "output_type": "stream",
     "text": [
      "100%|██████████| 1207/1207 [00:04<00:00, 264.39it/s]\n"
     ]
    },
    {
     "name": "stdout",
     "output_type": "stream",
     "text": [
      "Learning rate:  0.002 Regulation:  1e-06 Bath_size: 128\n",
      "RMSE:  tensor(0.7138, grad_fn=<PowBackward0>) MAE:  tensor(0.4764, grad_fn=<L1LossBackward0>)\n",
      "Accuracy:  0.9497099647814378 Precision:  0.9637033940177112 Recall:  0.8024050632911393 F1 score:  0.8756885565781977\n"
     ]
    },
    {
     "name": "stderr",
     "output_type": "stream",
     "text": [
      "100%|██████████| 1207/1207 [00:04<00:00, 249.29it/s]\n"
     ]
    },
    {
     "name": "stdout",
     "output_type": "stream",
     "text": [
      "Learning rate:  0.002 Regulation:  1e-06 Bath_size: 128\n",
      "RMSE:  tensor(0.7127, grad_fn=<PowBackward0>) MAE:  tensor(0.4744, grad_fn=<L1LossBackward0>)\n",
      "Accuracy:  0.9499430287963538 Precision:  0.9638586234387457 Recall:  0.8034493670886076 F1 score:  0.8763742427641912\n"
     ]
    },
    {
     "name": "stderr",
     "output_type": "stream",
     "text": [
      "100%|██████████| 1207/1207 [00:04<00:00, 263.09it/s]\n"
     ]
    },
    {
     "name": "stdout",
     "output_type": "stream",
     "text": [
      "Learning rate:  0.002 Regulation:  1e-06 Bath_size: 128\n",
      "RMSE:  tensor(0.7117, grad_fn=<PowBackward0>) MAE:  tensor(0.4722, grad_fn=<L1LossBackward0>)\n",
      "Accuracy:  0.9499171327946965 Precision:  0.9640786631806297 Recall:  0.8051582278481013 F1 score:  0.877480988429239\n"
     ]
    },
    {
     "name": "stderr",
     "output_type": "stream",
     "text": [
      "100%|██████████| 1207/1207 [00:04<00:00, 261.15it/s]\n"
     ]
    },
    {
     "name": "stdout",
     "output_type": "stream",
     "text": [
      "Learning rate:  0.002 Regulation:  1e-06 Bath_size: 128\n",
      "RMSE:  tensor(0.7102, grad_fn=<PowBackward0>) MAE:  tensor(0.4697, grad_fn=<L1LossBackward0>)\n",
      "Accuracy:  0.9503573648228714 Precision:  0.9647031946083844 Recall:  0.8017721518987342 F1 score:  0.8757236921694346\n"
     ]
    },
    {
     "name": "stderr",
     "output_type": "stream",
     "text": [
      "100%|██████████| 1207/1207 [00:04<00:00, 262.40it/s]\n"
     ]
    },
    {
     "name": "stdout",
     "output_type": "stream",
     "text": [
      "Learning rate:  0.002 Regulation:  1e-06 Bath_size: 128\n",
      "RMSE:  tensor(0.7098, grad_fn=<PowBackward0>) MAE:  tensor(0.4684, grad_fn=<L1LossBackward0>)\n",
      "Accuracy:  0.9497876527864098 Precision:  0.9646128226477935 Recall:  0.8065506329113924 F1 score:  0.8785288338905931\n"
     ]
    },
    {
     "name": "stderr",
     "output_type": "stream",
     "text": [
      "100%|██████████| 1207/1207 [00:04<00:00, 260.89it/s]\n"
     ]
    },
    {
     "name": "stdout",
     "output_type": "stream",
     "text": [
      "Learning rate:  0.002 Regulation:  1e-06 Bath_size: 128\n",
      "RMSE:  tensor(0.7084, grad_fn=<PowBackward0>) MAE:  tensor(0.4660, grad_fn=<L1LossBackward0>)\n",
      "Accuracy:  0.9497876527864098 Precision:  0.9647662485746864 Recall:  0.8032594936708861 F1 score:  0.8766361595579348\n"
     ]
    },
    {
     "name": "stderr",
     "output_type": "stream",
     "text": [
      "100%|██████████| 1207/1207 [00:04<00:00, 254.99it/s]\n"
     ]
    },
    {
     "name": "stdout",
     "output_type": "stream",
     "text": [
      "Learning rate:  0.002 Regulation:  1e-06 Bath_size: 128\n",
      "RMSE:  tensor(0.7079, grad_fn=<PowBackward0>) MAE:  tensor(0.4644, grad_fn=<L1LossBackward0>)\n",
      "Accuracy:  0.9498653407913819 Precision:  0.96507178846081 Recall:  0.8061708860759493 F1 score:  0.8784937151921651\n"
     ]
    },
    {
     "name": "stderr",
     "output_type": "stream",
     "text": [
      "100%|██████████| 1207/1207 [00:04<00:00, 256.44it/s]\n"
     ]
    },
    {
     "name": "stdout",
     "output_type": "stream",
     "text": [
      "Learning rate:  0.002 Regulation:  1e-06 Bath_size: 128\n",
      "RMSE:  tensor(0.7070, grad_fn=<PowBackward0>) MAE:  tensor(0.4629, grad_fn=<L1LossBackward0>)\n",
      "Accuracy:  0.9497358607830951 Precision:  0.9651505978507643 Recall:  0.8071835443037975 F1 score:  0.8791273178465568\n"
     ]
    }
   ],
   "source": [
    "from tqdm import tqdm\n",
    "lr = 0.002\n",
    "reg = 1e-6\n",
    "batch_size = 128\n",
    "num_epochs = 70\n",
    "model_neumf = train(lr, mlp_factors,gmf_factors, layers, reg, batch_size, num_epochs, hehe_test,df_empty)"
   ]
  },
  {
   "cell_type": "code",
   "execution_count": 37,
   "metadata": {},
   "outputs": [],
   "source": [
    "state = { 'model': model_neumf.state_dict()}   \n",
    "torch.save(state, 'model_neumf.pkl')\n",
    "                    "
   ]
  },
  {
   "cell_type": "code",
   "execution_count": 68,
   "metadata": {},
   "outputs": [],
   "source": [
    "from neu import MF\n",
    "mf_factors = 16"
   ]
  },
  {
   "cell_type": "code",
   "execution_count": 69,
   "metadata": {},
   "outputs": [],
   "source": [
    "def train(lr,mf_factors , reg, batch_size, num_epochs, train, test):\n",
    "    model = MF(n_users, n_items,mf_factors ).to(DEVICE)\n",
    "    optimizer = torch.optim.Adam(params=model.parameters(), lr=lr,weight_decay=reg)\n",
    "    scheduler = torch.optim.lr_scheduler.ReduceLROnPlateau(\n",
    "        optimizer, mode='min', factor=0.5, patience=10, threshold_mode='abs',threshold = 0.005)\n",
    "    for epoch in range(num_epochs):\n",
    "        model.train()\n",
    "        t1 = time.time()\n",
    "        num_example = len(train)\n",
    "        indices = list(range(num_example))\n",
    "        for i in tqdm(range(0, num_example, batch_size)):\n",
    "            optimizer.zero_grad()\n",
    "            indexs = indices[i:min(i+batch_size, num_example)]\n",
    "            users_index = train.iloc[:, 0].loc[indexs].values\n",
    "            users = torch.LongTensor(users_index).to(DEVICE)\n",
    "            items_index = train.iloc[:, 1].loc[indexs].values\n",
    "            items = torch.LongTensor(items_index).to(DEVICE)\n",
    "            \n",
    "           \n",
    "            rating = torch.FloatTensor(\n",
    "                train.iloc[:, 5].loc[indexs].values).to(DEVICE)\n",
    "            prediction = model(\n",
    "                users, items)\n",
    "\n",
    "            err = loss_func(prediction, rating) \n",
    "            err.backward()\n",
    "            optimizer.step()\n",
    "        t2 = time.time()\n",
    "        #rmse, mae = RMSE(test, model)\n",
    "        \n",
    "        \n",
    "        rmse, mae, p, r, f, accuracy = RMSE(testset,model)\n",
    "        scheduler.step(rmse)\n",
    "        print(\"Learning rate: \", lr, \"Regulation: \", reg,\"Bath_size:\",batch_size)\n",
    "        print(\"RMSE: \", rmse, \"MAE: \", mae)\n",
    "        print(\"Accuracy: \", accuracy, \"Precision: \", p, \"Recall: \", r, \"F1 score: \", f)\n",
    "    \n",
    "    return model"
   ]
  },
  {
   "cell_type": "code",
   "execution_count": 70,
   "metadata": {},
   "outputs": [
    {
     "name": "stderr",
     "output_type": "stream",
     "text": [
      "100%|██████████| 1207/1207 [00:03<00:00, 387.86it/s]\n"
     ]
    },
    {
     "name": "stdout",
     "output_type": "stream",
     "text": [
      "Learning rate:  0.002 Regulation:  1e-06 Bath_size: 128\n",
      "RMSE:  tensor(5.4086, grad_fn=<PowBackward0>) MAE:  tensor(4.3568, grad_fn=<L1LossBackward0>)\n",
      "Accuracy:  0.20967992541951522 Precision:  0.8263362908461372 Recall:  0.24167721518987342 F1 score:  0.3739777679839381\n"
     ]
    },
    {
     "name": "stderr",
     "output_type": "stream",
     "text": [
      "100%|██████████| 1207/1207 [00:03<00:00, 386.26it/s]\n"
     ]
    },
    {
     "name": "stdout",
     "output_type": "stream",
     "text": [
      "Learning rate:  0.002 Regulation:  1e-06 Bath_size: 128\n",
      "RMSE:  tensor(4.6575, grad_fn=<PowBackward0>) MAE:  tensor(3.7926, grad_fn=<L1LossBackward0>)\n",
      "Accuracy:  0.23158794282162834 Precision:  0.8373186458893068 Recall:  0.19724683544303798 F1 score:  0.3192808113922754\n"
     ]
    },
    {
     "name": "stderr",
     "output_type": "stream",
     "text": [
      "100%|██████████| 1207/1207 [00:03<00:00, 389.40it/s]\n"
     ]
    },
    {
     "name": "stdout",
     "output_type": "stream",
     "text": [
      "Learning rate:  0.002 Regulation:  1e-06 Bath_size: 128\n",
      "RMSE:  tensor(4.1150, grad_fn=<PowBackward0>) MAE:  tensor(3.3893, grad_fn=<L1LossBackward0>)\n",
      "Accuracy:  0.24684068779780402 Precision:  0.8504132231404958 Recall:  0.16281645569620254 F1 score:  0.2733067729083666\n"
     ]
    },
    {
     "name": "stderr",
     "output_type": "stream",
     "text": [
      "100%|██████████| 1207/1207 [00:03<00:00, 388.49it/s]\n"
     ]
    },
    {
     "name": "stdout",
     "output_type": "stream",
     "text": [
      "Learning rate:  0.002 Regulation:  1e-06 Bath_size: 128\n",
      "RMSE:  tensor(3.5931, grad_fn=<PowBackward0>) MAE:  tensor(2.9581, grad_fn=<L1LossBackward0>)\n",
      "Accuracy:  0.2833022581313445 Precision:  0.8661722568683634 Recall:  0.162626582278481 F1 score:  0.2738390216609384\n"
     ]
    },
    {
     "name": "stderr",
     "output_type": "stream",
     "text": [
      "100%|██████████| 1207/1207 [00:03<00:00, 337.21it/s]\n"
     ]
    },
    {
     "name": "stdout",
     "output_type": "stream",
     "text": [
      "Learning rate:  0.002 Regulation:  1e-06 Bath_size: 128\n",
      "RMSE:  tensor(2.8901, grad_fn=<PowBackward0>) MAE:  tensor(2.3028, grad_fn=<L1LossBackward0>)\n",
      "Accuracy:  0.39522477729438577 Precision:  0.8808478749598544 Recall:  0.260379746835443 F1 score:  0.4019442612539996\n"
     ]
    },
    {
     "name": "stderr",
     "output_type": "stream",
     "text": [
      "100%|██████████| 1207/1207 [00:03<00:00, 342.30it/s]\n"
     ]
    },
    {
     "name": "stdout",
     "output_type": "stream",
     "text": [
      "Learning rate:  0.002 Regulation:  1e-06 Bath_size: 128\n",
      "RMSE:  tensor(2.2021, grad_fn=<PowBackward0>) MAE:  tensor(1.6852, grad_fn=<L1LossBackward0>)\n",
      "Accuracy:  0.5478817070644293 Precision:  0.8857142857142857 Recall:  0.43949367088607594 F1 score:  0.5874788494077834\n"
     ]
    },
    {
     "name": "stderr",
     "output_type": "stream",
     "text": [
      "100%|██████████| 1207/1207 [00:03<00:00, 330.57it/s]\n"
     ]
    },
    {
     "name": "stdout",
     "output_type": "stream",
     "text": [
      "Learning rate:  0.002 Regulation:  1e-06 Bath_size: 128\n",
      "RMSE:  tensor(1.7326, grad_fn=<PowBackward0>) MAE:  tensor(1.2986, grad_fn=<L1LossBackward0>)\n",
      "Accuracy:  0.6701885228920654 Precision:  0.8914069877242682 Recall:  0.5675949367088607 F1 score:  0.6935674097561919\n"
     ]
    },
    {
     "name": "stderr",
     "output_type": "stream",
     "text": [
      "100%|██████████| 1207/1207 [00:02<00:00, 406.34it/s]\n"
     ]
    },
    {
     "name": "stdout",
     "output_type": "stream",
     "text": [
      "Learning rate:  0.002 Regulation:  1e-06 Bath_size: 128\n",
      "RMSE:  tensor(1.4245, grad_fn=<PowBackward0>) MAE:  tensor(1.0563, grad_fn=<L1LossBackward0>)\n",
      "Accuracy:  0.763465920861819 Precision:  0.9000530457077182 Recall:  0.6443354430379746 F1 score:  0.7510235697687285\n"
     ]
    },
    {
     "name": "stderr",
     "output_type": "stream",
     "text": [
      "100%|██████████| 1207/1207 [00:02<00:00, 404.93it/s]\n"
     ]
    },
    {
     "name": "stdout",
     "output_type": "stream",
     "text": [
      "Learning rate:  0.002 Regulation:  1e-06 Bath_size: 128\n",
      "RMSE:  tensor(1.2236, grad_fn=<PowBackward0>) MAE:  tensor(0.9009, grad_fn=<L1LossBackward0>)\n",
      "Accuracy:  0.8248653407913819 Precision:  0.9080056179775281 Recall:  0.6956012658227848 F1 score:  0.7877365252293577\n"
     ]
    },
    {
     "name": "stderr",
     "output_type": "stream",
     "text": [
      "100%|██████████| 1207/1207 [00:02<00:00, 405.68it/s]\n"
     ]
    },
    {
     "name": "stdout",
     "output_type": "stream",
     "text": [
      "Learning rate:  0.002 Regulation:  1e-06 Bath_size: 128\n",
      "RMSE:  tensor(1.0943, grad_fn=<PowBackward0>) MAE:  tensor(0.8009, grad_fn=<L1LossBackward0>)\n",
      "Accuracy:  0.8632173192459084 Precision:  0.9164522895476312 Recall:  0.7327848101265823 F1 score:  0.8143914748448133\n"
     ]
    },
    {
     "name": "stderr",
     "output_type": "stream",
     "text": [
      "100%|██████████| 1207/1207 [00:03<00:00, 377.68it/s]\n"
     ]
    },
    {
     "name": "stdout",
     "output_type": "stream",
     "text": [
      "Learning rate:  0.002 Regulation:  1e-06 Bath_size: 128\n",
      "RMSE:  tensor(1.0112, grad_fn=<PowBackward0>) MAE:  tensor(0.7366, grad_fn=<L1LossBackward0>)\n",
      "Accuracy:  0.8870934327739797 Precision:  0.9227262189938954 Recall:  0.7557594936708861 F1 score:  0.8309383807104833\n"
     ]
    },
    {
     "name": "stderr",
     "output_type": "stream",
     "text": [
      "100%|██████████| 1207/1207 [00:03<00:00, 371.71it/s]\n"
     ]
    },
    {
     "name": "stdout",
     "output_type": "stream",
     "text": [
      "Learning rate:  0.002 Regulation:  1e-06 Bath_size: 128\n",
      "RMSE:  tensor(0.9567, grad_fn=<PowBackward0>) MAE:  tensor(0.6934, grad_fn=<L1LossBackward0>)\n",
      "Accuracy:  0.903071265796561 Precision:  0.9271465079909982 Recall:  0.7692088607594937 F1 score:  0.8408253627825726\n"
     ]
    },
    {
     "name": "stderr",
     "output_type": "stream",
     "text": [
      "100%|██████████| 1207/1207 [00:03<00:00, 389.48it/s]\n"
     ]
    },
    {
     "name": "stdout",
     "output_type": "stream",
     "text": [
      "Learning rate:  0.002 Regulation:  1e-06 Bath_size: 128\n",
      "RMSE:  tensor(0.9195, grad_fn=<PowBackward0>) MAE:  tensor(0.6632, grad_fn=<L1LossBackward0>)\n",
      "Accuracy:  0.9129376424280091 Precision:  0.9320484121865159 Recall:  0.7774050632911392 F1 score:  0.8477319391963007\n"
     ]
    },
    {
     "name": "stderr",
     "output_type": "stream",
     "text": [
      "100%|██████████| 1207/1207 [00:03<00:00, 350.75it/s]\n"
     ]
    },
    {
     "name": "stdout",
     "output_type": "stream",
     "text": [
      "Learning rate:  0.002 Regulation:  1e-06 Bath_size: 128\n",
      "RMSE:  tensor(0.8929, grad_fn=<PowBackward0>) MAE:  tensor(0.6411, grad_fn=<L1LossBackward0>)\n",
      "Accuracy:  0.9196188108556039 Precision:  0.9360621565283305 Recall:  0.7815822784810127 F1 score:  0.8518754850392343\n"
     ]
    },
    {
     "name": "stderr",
     "output_type": "stream",
     "text": [
      "100%|██████████| 1207/1207 [00:02<00:00, 409.39it/s]\n"
     ]
    },
    {
     "name": "stdout",
     "output_type": "stream",
     "text": [
      "Learning rate:  0.002 Regulation:  1e-06 Bath_size: 128\n",
      "RMSE:  tensor(0.8733, grad_fn=<PowBackward0>) MAE:  tensor(0.6239, grad_fn=<L1LossBackward0>)\n",
      "Accuracy:  0.9249533871970168 Precision:  0.938893946290396 Recall:  0.7833227848101266 F1 score:  0.8540818439031121\n"
     ]
    },
    {
     "name": "stderr",
     "output_type": "stream",
     "text": [
      "100%|██████████| 1207/1207 [00:02<00:00, 405.10it/s]\n"
     ]
    },
    {
     "name": "stdout",
     "output_type": "stream",
     "text": [
      "Learning rate:  0.002 Regulation:  1e-06 Bath_size: 128\n",
      "RMSE:  tensor(0.8583, grad_fn=<PowBackward0>) MAE:  tensor(0.6101, grad_fn=<L1LossBackward0>)\n",
      "Accuracy:  0.928501139424073 Precision:  0.9415495632358526 Recall:  0.7845253164556962 F1 score:  0.8558950457448644\n"
     ]
    },
    {
     "name": "stderr",
     "output_type": "stream",
     "text": [
      "100%|██████████| 1207/1207 [00:03<00:00, 400.74it/s]\n"
     ]
    },
    {
     "name": "stdout",
     "output_type": "stream",
     "text": [
      "Learning rate:  0.002 Regulation:  1e-06 Bath_size: 128\n",
      "RMSE:  tensor(0.8459, grad_fn=<PowBackward0>) MAE:  tensor(0.5986, grad_fn=<L1LossBackward0>)\n",
      "Accuracy:  0.9311166355914646 Precision:  0.9447067783701447 Recall:  0.7850632911392406 F1 score:  0.8575181472519876\n"
     ]
    },
    {
     "name": "stderr",
     "output_type": "stream",
     "text": [
      "100%|██████████| 1207/1207 [00:03<00:00, 373.21it/s]\n"
     ]
    },
    {
     "name": "stdout",
     "output_type": "stream",
     "text": [
      "Learning rate:  0.002 Regulation:  1e-06 Bath_size: 128\n",
      "RMSE:  tensor(0.8359, grad_fn=<PowBackward0>) MAE:  tensor(0.5888, grad_fn=<L1LossBackward0>)\n",
      "Accuracy:  0.9331624197223949 Precision:  0.947117584261095 Recall:  0.7861075949367089 F1 score:  0.8591339835373868\n"
     ]
    },
    {
     "name": "stderr",
     "output_type": "stream",
     "text": [
      "100%|██████████| 1207/1207 [00:03<00:00, 389.48it/s]\n"
     ]
    },
    {
     "name": "stdout",
     "output_type": "stream",
     "text": [
      "Learning rate:  0.002 Regulation:  1e-06 Bath_size: 128\n",
      "RMSE:  tensor(0.8266, grad_fn=<PowBackward0>) MAE:  tensor(0.5795, grad_fn=<L1LossBackward0>)\n",
      "Accuracy:  0.934301843795318 Precision:  0.9490560269051441 Recall:  0.7858544303797468 F1 score:  0.859779108818336\n"
     ]
    },
    {
     "name": "stderr",
     "output_type": "stream",
     "text": [
      "100%|██████████| 1207/1207 [00:03<00:00, 331.29it/s]\n"
     ]
    },
    {
     "name": "stdout",
     "output_type": "stream",
     "text": [
      "Learning rate:  0.002 Regulation:  1e-06 Bath_size: 128\n",
      "RMSE:  tensor(0.8193, grad_fn=<PowBackward0>) MAE:  tensor(0.5718, grad_fn=<L1LossBackward0>)\n",
      "Accuracy:  0.9355966438781852 Precision:  0.9505162523900573 Recall:  0.7865822784810127 F1 score:  0.8608138528138528\n"
     ]
    },
    {
     "name": "stderr",
     "output_type": "stream",
     "text": [
      "100%|██████████| 1207/1207 [00:03<00:00, 387.52it/s]\n"
     ]
    },
    {
     "name": "stdout",
     "output_type": "stream",
     "text": [
      "Learning rate:  0.002 Regulation:  1e-06 Bath_size: 128\n",
      "RMSE:  tensor(0.8122, grad_fn=<PowBackward0>) MAE:  tensor(0.5645, grad_fn=<L1LossBackward0>)\n",
      "Accuracy:  0.9364771079345349 Precision:  0.9516456569217211 Recall:  0.7859810126582278 F1 score:  0.8609161337284875\n"
     ]
    },
    {
     "name": "stderr",
     "output_type": "stream",
     "text": [
      "100%|██████████| 1207/1207 [00:03<00:00, 365.04it/s]\n"
     ]
    },
    {
     "name": "stdout",
     "output_type": "stream",
     "text": [
      "Learning rate:  0.002 Regulation:  1e-06 Bath_size: 128\n",
      "RMSE:  tensor(0.8058, grad_fn=<PowBackward0>) MAE:  tensor(0.5578, grad_fn=<L1LossBackward0>)\n",
      "Accuracy:  0.9377460120157448 Precision:  0.9525634148210591 Recall:  0.7867088607594936 F1 score:  0.8617283094734652\n"
     ]
    },
    {
     "name": "stderr",
     "output_type": "stream",
     "text": [
      "100%|██████████| 1207/1207 [00:03<00:00, 306.29it/s]\n"
     ]
    },
    {
     "name": "stdout",
     "output_type": "stream",
     "text": [
      "Learning rate:  0.002 Regulation:  1e-06 Bath_size: 128\n",
      "RMSE:  tensor(0.8003, grad_fn=<PowBackward0>) MAE:  tensor(0.5513, grad_fn=<L1LossBackward0>)\n",
      "Accuracy:  0.9377978040190594 Precision:  0.9538189641924082 Recall:  0.7856329113924051 F1 score:  0.861595057957937\n"
     ]
    },
    {
     "name": "stderr",
     "output_type": "stream",
     "text": [
      "100%|██████████| 1207/1207 [00:03<00:00, 307.88it/s]\n"
     ]
    },
    {
     "name": "stdout",
     "output_type": "stream",
     "text": [
      "Learning rate:  0.002 Regulation:  1e-06 Bath_size: 128\n",
      "RMSE:  tensor(0.7950, grad_fn=<PowBackward0>) MAE:  tensor(0.5457, grad_fn=<L1LossBackward0>)\n",
      "Accuracy:  0.9389113320903253 Precision:  0.9552800276380945 Recall:  0.7875316455696203 F1 score:  0.8633328129607466\n"
     ]
    },
    {
     "name": "stderr",
     "output_type": "stream",
     "text": [
      "100%|██████████| 1207/1207 [00:03<00:00, 400.56it/s]\n"
     ]
    },
    {
     "name": "stdout",
     "output_type": "stream",
     "text": [
      "Learning rate:  0.002 Regulation:  1e-06 Bath_size: 128\n",
      "RMSE:  tensor(0.7905, grad_fn=<PowBackward0>) MAE:  tensor(0.5403, grad_fn=<L1LossBackward0>)\n",
      "Accuracy:  0.939714108141703 Precision:  0.9561619582788085 Recall:  0.7861708860759493 F1 score:  0.8628738147337709\n"
     ]
    },
    {
     "name": "stderr",
     "output_type": "stream",
     "text": [
      "100%|██████████| 1207/1207 [00:02<00:00, 405.22it/s]\n"
     ]
    },
    {
     "name": "stdout",
     "output_type": "stream",
     "text": [
      "Learning rate:  0.002 Regulation:  1e-06 Bath_size: 128\n",
      "RMSE:  tensor(0.7853, grad_fn=<PowBackward0>) MAE:  tensor(0.5350, grad_fn=<L1LossBackward0>)\n",
      "Accuracy:  0.9404650921897659 Precision:  0.9572066866959402 Recall:  0.7864240506329114 F1 score:  0.8634515826413258\n"
     ]
    },
    {
     "name": "stderr",
     "output_type": "stream",
     "text": [
      "100%|██████████| 1207/1207 [00:03<00:00, 351.54it/s]\n"
     ]
    },
    {
     "name": "stdout",
     "output_type": "stream",
     "text": [
      "Learning rate:  0.002 Regulation:  1e-06 Bath_size: 128\n",
      "RMSE:  tensor(0.7817, grad_fn=<PowBackward0>) MAE:  tensor(0.5304, grad_fn=<L1LossBackward0>)\n",
      "Accuracy:  0.9409312202195981 Precision:  0.9581194271818427 Recall:  0.785506329113924 F1 score:  0.8632688194480673\n"
     ]
    },
    {
     "name": "stderr",
     "output_type": "stream",
     "text": [
      "100%|██████████| 1207/1207 [00:03<00:00, 389.16it/s]\n"
     ]
    },
    {
     "name": "stdout",
     "output_type": "stream",
     "text": [
      "Learning rate:  0.002 Regulation:  1e-06 Bath_size: 128\n",
      "RMSE:  tensor(0.7784, grad_fn=<PowBackward0>) MAE:  tensor(0.5266, grad_fn=<L1LossBackward0>)\n",
      "Accuracy:  0.9412419722394862 Precision:  0.9586393505991496 Recall:  0.7848101265822784 F1 score:  0.8630589872977205\n"
     ]
    },
    {
     "name": "stderr",
     "output_type": "stream",
     "text": [
      "100%|██████████| 1207/1207 [00:03<00:00, 378.32it/s]\n"
     ]
    },
    {
     "name": "stdout",
     "output_type": "stream",
     "text": [
      "Learning rate:  0.002 Regulation:  1e-06 Bath_size: 128\n",
      "RMSE:  tensor(0.7751, grad_fn=<PowBackward0>) MAE:  tensor(0.5224, grad_fn=<L1LossBackward0>)\n",
      "Accuracy:  0.941526828257717 Precision:  0.9598760650658404 Recall:  0.7843037974683544 F1 score:  0.8632532218739115\n"
     ]
    },
    {
     "name": "stderr",
     "output_type": "stream",
     "text": [
      "100%|██████████| 1207/1207 [00:03<00:00, 369.42it/s]\n"
     ]
    },
    {
     "name": "stdout",
     "output_type": "stream",
     "text": [
      "Learning rate:  0.002 Regulation:  1e-06 Bath_size: 128\n",
      "RMSE:  tensor(0.7724, grad_fn=<PowBackward0>) MAE:  tensor(0.5196, grad_fn=<L1LossBackward0>)\n",
      "Accuracy:  0.9417339962709758 Precision:  0.9605288591641861 Recall:  0.7862658227848102 F1 score:  0.8647049611081142\n"
     ]
    },
    {
     "name": "stderr",
     "output_type": "stream",
     "text": [
      "100%|██████████| 1207/1207 [00:03<00:00, 376.05it/s]\n"
     ]
    },
    {
     "name": "stdout",
     "output_type": "stream",
     "text": [
      "Learning rate:  0.002 Regulation:  1e-06 Bath_size: 128\n",
      "RMSE:  tensor(0.7690, grad_fn=<PowBackward0>) MAE:  tensor(0.5151, grad_fn=<L1LossBackward0>)\n",
      "Accuracy:  0.941449140252745 Precision:  0.9609105363167487 Recall:  0.7841455696202532 F1 score:  0.8635753742136721\n"
     ]
    },
    {
     "name": "stderr",
     "output_type": "stream",
     "text": [
      "100%|██████████| 1207/1207 [00:03<00:00, 362.72it/s]\n"
     ]
    },
    {
     "name": "stdout",
     "output_type": "stream",
     "text": [
      "Learning rate:  0.002 Regulation:  1e-06 Bath_size: 128\n",
      "RMSE:  tensor(0.7675, grad_fn=<PowBackward0>) MAE:  tensor(0.5125, grad_fn=<L1LossBackward0>)\n",
      "Accuracy:  0.9419152682825772 Precision:  0.9615339963623699 Recall:  0.7862974683544304 F1 score:  0.865131178078376\n"
     ]
    },
    {
     "name": "stderr",
     "output_type": "stream",
     "text": [
      "100%|██████████| 1207/1207 [00:03<00:00, 392.68it/s]\n"
     ]
    },
    {
     "name": "stdout",
     "output_type": "stream",
     "text": [
      "Learning rate:  0.002 Regulation:  1e-06 Bath_size: 128\n",
      "RMSE:  tensor(0.7640, grad_fn=<PowBackward0>) MAE:  tensor(0.5085, grad_fn=<L1LossBackward0>)\n",
      "Accuracy:  0.9419670602858918 Precision:  0.9619280475026196 Recall:  0.784367088607595 F1 score:  0.8641204873882197\n"
     ]
    },
    {
     "name": "stderr",
     "output_type": "stream",
     "text": [
      "100%|██████████| 1207/1207 [00:03<00:00, 386.20it/s]\n"
     ]
    },
    {
     "name": "stdout",
     "output_type": "stream",
     "text": [
      "Learning rate:  0.002 Regulation:  1e-06 Bath_size: 128\n",
      "RMSE:  tensor(0.7628, grad_fn=<PowBackward0>) MAE:  tensor(0.5065, grad_fn=<L1LossBackward0>)\n",
      "Accuracy:  0.9417081002693184 Precision:  0.9623482880297801 Recall:  0.7853797468354431 F1 score:  0.8649044241927896\n"
     ]
    },
    {
     "name": "stderr",
     "output_type": "stream",
     "text": [
      "100%|██████████| 1207/1207 [00:03<00:00, 366.68it/s]\n"
     ]
    },
    {
     "name": "stdout",
     "output_type": "stream",
     "text": [
      "Learning rate:  0.002 Regulation:  1e-06 Bath_size: 128\n",
      "RMSE:  tensor(0.7606, grad_fn=<PowBackward0>) MAE:  tensor(0.5036, grad_fn=<L1LossBackward0>)\n",
      "Accuracy:  0.9419929562875492 Precision:  0.9626952669619958 Recall:  0.7839873417721519 F1 score:  0.8641992534970523\n"
     ]
    },
    {
     "name": "stderr",
     "output_type": "stream",
     "text": [
      "100%|██████████| 1207/1207 [00:03<00:00, 369.72it/s]\n"
     ]
    },
    {
     "name": "stdout",
     "output_type": "stream",
     "text": [
      "Learning rate:  0.002 Regulation:  1e-06 Bath_size: 128\n",
      "RMSE:  tensor(0.7590, grad_fn=<PowBackward0>) MAE:  tensor(0.5009, grad_fn=<L1LossBackward0>)\n",
      "Accuracy:  0.9424072923140667 Precision:  0.9636165746715385 Recall:  0.7844936708860759 F1 score:  0.8648780657991139\n"
     ]
    },
    {
     "name": "stderr",
     "output_type": "stream",
     "text": [
      "100%|██████████| 1207/1207 [00:03<00:00, 378.07it/s]\n"
     ]
    },
    {
     "name": "stdout",
     "output_type": "stream",
     "text": [
      "Learning rate:  0.002 Regulation:  1e-06 Bath_size: 128\n",
      "RMSE:  tensor(0.7575, grad_fn=<PowBackward0>) MAE:  tensor(0.4989, grad_fn=<L1LossBackward0>)\n",
      "Accuracy:  0.9424331883157241 Precision:  0.9634331554967094 Recall:  0.7829113924050632 F1 score:  0.8638418966811571\n"
     ]
    },
    {
     "name": "stderr",
     "output_type": "stream",
     "text": [
      "100%|██████████| 1207/1207 [00:03<00:00, 389.08it/s]\n"
     ]
    },
    {
     "name": "stdout",
     "output_type": "stream",
     "text": [
      "Learning rate:  0.002 Regulation:  1e-06 Bath_size: 128\n",
      "RMSE:  tensor(0.7560, grad_fn=<PowBackward0>) MAE:  tensor(0.4963, grad_fn=<L1LossBackward0>)\n",
      "Accuracy:  0.9427180443339548 Precision:  0.9639450219989877 Recall:  0.7834493670886076 F1 score:  0.8643751200181554\n"
     ]
    },
    {
     "name": "stderr",
     "output_type": "stream",
     "text": [
      "100%|██████████| 1207/1207 [00:03<00:00, 386.95it/s]\n"
     ]
    },
    {
     "name": "stdout",
     "output_type": "stream",
     "text": [
      "Learning rate:  0.002 Regulation:  1e-06 Bath_size: 128\n",
      "RMSE:  tensor(0.7547, grad_fn=<PowBackward0>) MAE:  tensor(0.4946, grad_fn=<L1LossBackward0>)\n",
      "Accuracy:  0.9423813963124094 Precision:  0.9640660281865607 Recall:  0.7836392405063292 F1 score:  0.8645393289809028\n"
     ]
    },
    {
     "name": "stderr",
     "output_type": "stream",
     "text": [
      "100%|██████████| 1207/1207 [00:03<00:00, 385.42it/s]\n"
     ]
    },
    {
     "name": "stdout",
     "output_type": "stream",
     "text": [
      "Learning rate:  0.002 Regulation:  1e-06 Bath_size: 128\n",
      "RMSE:  tensor(0.7533, grad_fn=<PowBackward0>) MAE:  tensor(0.4925, grad_fn=<L1LossBackward0>)\n",
      "Accuracy:  0.9424072923140667 Precision:  0.9645365168539326 Recall:  0.782373417721519 F1 score:  0.8639572267263069\n"
     ]
    },
    {
     "name": "stderr",
     "output_type": "stream",
     "text": [
      "100%|██████████| 1207/1207 [00:03<00:00, 360.28it/s]\n"
     ]
    },
    {
     "name": "stdout",
     "output_type": "stream",
     "text": [
      "Learning rate:  0.002 Regulation:  1e-06 Bath_size: 128\n",
      "RMSE:  tensor(0.7520, grad_fn=<PowBackward0>) MAE:  tensor(0.4905, grad_fn=<L1LossBackward0>)\n",
      "Accuracy:  0.942355500310752 Precision:  0.9646861205515841 Recall:  0.7814873417721518 F1 score:  0.8634766342068917\n"
     ]
    },
    {
     "name": "stderr",
     "output_type": "stream",
     "text": [
      "100%|██████████| 1207/1207 [00:03<00:00, 390.94it/s]\n"
     ]
    },
    {
     "name": "stdout",
     "output_type": "stream",
     "text": [
      "Learning rate:  0.002 Regulation:  1e-06 Bath_size: 128\n",
      "RMSE:  tensor(0.7505, grad_fn=<PowBackward0>) MAE:  tensor(0.4885, grad_fn=<L1LossBackward0>)\n",
      "Accuracy:  0.9424590843173813 Precision:  0.9644350646812835 Recall:  0.7809177215189873 F1 score:  0.8630283106300383\n"
     ]
    },
    {
     "name": "stderr",
     "output_type": "stream",
     "text": [
      "100%|██████████| 1207/1207 [00:03<00:00, 373.60it/s]\n"
     ]
    },
    {
     "name": "stdout",
     "output_type": "stream",
     "text": [
      "Learning rate:  0.002 Regulation:  1e-06 Bath_size: 128\n",
      "RMSE:  tensor(0.7501, grad_fn=<PowBackward0>) MAE:  tensor(0.4874, grad_fn=<L1LossBackward0>)\n",
      "Accuracy:  0.9424072923140667 Precision:  0.9648176380907705 Recall:  0.7810443037974684 F1 score:  0.8632587747678424\n"
     ]
    },
    {
     "name": "stderr",
     "output_type": "stream",
     "text": [
      "100%|██████████| 1207/1207 [00:03<00:00, 387.59it/s]\n"
     ]
    },
    {
     "name": "stdout",
     "output_type": "stream",
     "text": [
      "Learning rate:  0.002 Regulation:  1e-06 Bath_size: 128\n",
      "RMSE:  tensor(0.7489, grad_fn=<PowBackward0>) MAE:  tensor(0.4857, grad_fn=<L1LossBackward0>)\n",
      "Accuracy:  0.9426662523306402 Precision:  0.9653766223581539 Recall:  0.779113924050633 F1 score:  0.8623014552650473\n"
     ]
    },
    {
     "name": "stderr",
     "output_type": "stream",
     "text": [
      "100%|██████████| 1207/1207 [00:03<00:00, 379.62it/s]\n"
     ]
    },
    {
     "name": "stdout",
     "output_type": "stream",
     "text": [
      "Learning rate:  0.002 Regulation:  1e-06 Bath_size: 128\n",
      "RMSE:  tensor(0.7479, grad_fn=<PowBackward0>) MAE:  tensor(0.4840, grad_fn=<L1LossBackward0>)\n",
      "Accuracy:  0.9427180443339548 Precision:  0.9655522971652004 Recall:  0.7814556962025316 F1 score:  0.8638041101880193\n"
     ]
    },
    {
     "name": "stderr",
     "output_type": "stream",
     "text": [
      "100%|██████████| 1207/1207 [00:03<00:00, 387.60it/s]\n"
     ]
    },
    {
     "name": "stdout",
     "output_type": "stream",
     "text": [
      "Learning rate:  0.002 Regulation:  1e-06 Bath_size: 128\n",
      "RMSE:  tensor(0.7472, grad_fn=<PowBackward0>) MAE:  tensor(0.4826, grad_fn=<L1LossBackward0>)\n",
      "Accuracy:  0.9428993163455562 Precision:  0.9658729847409093 Recall:  0.7792088607594937 F1 score:  0.86255758148985\n"
     ]
    },
    {
     "name": "stderr",
     "output_type": "stream",
     "text": [
      "100%|██████████| 1207/1207 [00:03<00:00, 354.84it/s]\n"
     ]
    },
    {
     "name": "stdout",
     "output_type": "stream",
     "text": [
      "Learning rate:  0.002 Regulation:  1e-06 Bath_size: 128\n",
      "RMSE:  tensor(0.7465, grad_fn=<PowBackward0>) MAE:  tensor(0.4813, grad_fn=<L1LossBackward0>)\n",
      "Accuracy:  0.942951108348871 Precision:  0.9655442750186194 Recall:  0.7794936708860759 F1 score:  0.8626009000017509\n"
     ]
    },
    {
     "name": "stderr",
     "output_type": "stream",
     "text": [
      "100%|██████████| 1207/1207 [00:03<00:00, 349.29it/s]\n"
     ]
    },
    {
     "name": "stdout",
     "output_type": "stream",
     "text": [
      "Learning rate:  0.002 Regulation:  1e-06 Bath_size: 128\n",
      "RMSE:  tensor(0.7454, grad_fn=<PowBackward0>) MAE:  tensor(0.4798, grad_fn=<L1LossBackward0>)\n",
      "Accuracy:  0.9430029003521856 Precision:  0.9661382719924665 Recall:  0.7792088607594937 F1 score:  0.8626633500332831\n"
     ]
    },
    {
     "name": "stderr",
     "output_type": "stream",
     "text": [
      "100%|██████████| 1207/1207 [00:03<00:00, 383.60it/s]\n"
     ]
    },
    {
     "name": "stdout",
     "output_type": "stream",
     "text": [
      "Learning rate:  0.002 Regulation:  1e-06 Bath_size: 128\n",
      "RMSE:  tensor(0.7455, grad_fn=<PowBackward0>) MAE:  tensor(0.4790, grad_fn=<L1LossBackward0>)\n",
      "Accuracy:  0.9424072923140667 Precision:  0.9658347372957724 Recall:  0.7800949367088608 F1 score:  0.8630849220103985\n"
     ]
    },
    {
     "name": "stderr",
     "output_type": "stream",
     "text": [
      "100%|██████████| 1207/1207 [00:03<00:00, 391.04it/s]\n"
     ]
    },
    {
     "name": "stdout",
     "output_type": "stream",
     "text": [
      "Learning rate:  0.002 Regulation:  1e-06 Bath_size: 128\n",
      "RMSE:  tensor(0.7442, grad_fn=<PowBackward0>) MAE:  tensor(0.4775, grad_fn=<L1LossBackward0>)\n",
      "Accuracy:  0.9424331883157241 Precision:  0.9661449138911773 Recall:  0.779367088607595 F1 score:  0.8627629573838259\n"
     ]
    },
    {
     "name": "stderr",
     "output_type": "stream",
     "text": [
      "100%|██████████| 1207/1207 [00:03<00:00, 364.88it/s]\n"
     ]
    },
    {
     "name": "stdout",
     "output_type": "stream",
     "text": [
      "Learning rate:  0.002 Regulation:  1e-06 Bath_size: 128\n",
      "RMSE:  tensor(0.7444, grad_fn=<PowBackward0>) MAE:  tensor(0.4767, grad_fn=<L1LossBackward0>)\n",
      "Accuracy:  0.9419152682825772 Precision:  0.9661296013171822 Recall:  0.7799050632911393 F1 score:  0.8630863786793675\n"
     ]
    },
    {
     "name": "stderr",
     "output_type": "stream",
     "text": [
      "100%|██████████| 1207/1207 [00:03<00:00, 352.76it/s]\n"
     ]
    },
    {
     "name": "stdout",
     "output_type": "stream",
     "text": [
      "Learning rate:  0.002 Regulation:  1e-06 Bath_size: 128\n",
      "RMSE:  tensor(0.7430, grad_fn=<PowBackward0>) MAE:  tensor(0.4750, grad_fn=<L1LossBackward0>)\n",
      "Accuracy:  0.942355500310752 Precision:  0.9662172754350211 Recall:  0.7801898734177215 F1 score:  0.8632957490020309\n"
     ]
    },
    {
     "name": "stderr",
     "output_type": "stream",
     "text": [
      "100%|██████████| 1207/1207 [00:03<00:00, 384.70it/s]\n"
     ]
    },
    {
     "name": "stdout",
     "output_type": "stream",
     "text": [
      "Learning rate:  0.002 Regulation:  1e-06 Bath_size: 128\n",
      "RMSE:  tensor(0.7432, grad_fn=<PowBackward0>) MAE:  tensor(0.4745, grad_fn=<L1LossBackward0>)\n",
      "Accuracy:  0.9421483322974933 Precision:  0.966193426935446 Recall:  0.779620253164557 F1 score:  0.8629374058636029\n"
     ]
    },
    {
     "name": "stderr",
     "output_type": "stream",
     "text": [
      "100%|██████████| 1207/1207 [00:03<00:00, 382.05it/s]\n"
     ]
    },
    {
     "name": "stdout",
     "output_type": "stream",
     "text": [
      "Learning rate:  0.002 Regulation:  1e-06 Bath_size: 128\n",
      "RMSE:  tensor(0.7433, grad_fn=<PowBackward0>) MAE:  tensor(0.4735, grad_fn=<L1LossBackward0>)\n",
      "Accuracy:  0.9422001243008079 Precision:  0.9663964281518036 Recall:  0.7808544303797469 F1 score:  0.8637740010151752\n"
     ]
    },
    {
     "name": "stderr",
     "output_type": "stream",
     "text": [
      "100%|██████████| 1207/1207 [00:03<00:00, 382.54it/s]\n"
     ]
    },
    {
     "name": "stdout",
     "output_type": "stream",
     "text": [
      "Learning rate:  0.002 Regulation:  1e-06 Bath_size: 128\n",
      "RMSE:  tensor(0.7423, grad_fn=<PowBackward0>) MAE:  tensor(0.4726, grad_fn=<L1LossBackward0>)\n",
      "Accuracy:  0.9425108763206961 Precision:  0.9665608216707828 Recall:  0.780253164556962 F1 score:  0.8634716069271043\n"
     ]
    },
    {
     "name": "stderr",
     "output_type": "stream",
     "text": [
      "100%|██████████| 1207/1207 [00:03<00:00, 383.63it/s]\n"
     ]
    },
    {
     "name": "stdout",
     "output_type": "stream",
     "text": [
      "Learning rate:  0.002 Regulation:  1e-06 Bath_size: 128\n",
      "RMSE:  tensor(0.7421, grad_fn=<PowBackward0>) MAE:  tensor(0.4709, grad_fn=<L1LossBackward0>)\n",
      "Accuracy:  0.9426403563289828 Precision:  0.9664813219516015 Recall:  0.7810759493670886 F1 score:  0.8639434351919912\n"
     ]
    },
    {
     "name": "stderr",
     "output_type": "stream",
     "text": [
      "100%|██████████| 1207/1207 [00:03<00:00, 354.36it/s]\n"
     ]
    },
    {
     "name": "stdout",
     "output_type": "stream",
     "text": [
      "Learning rate:  0.002 Regulation:  1e-06 Bath_size: 128\n",
      "RMSE:  tensor(0.7420, grad_fn=<PowBackward0>) MAE:  tensor(0.4705, grad_fn=<L1LossBackward0>)\n",
      "Accuracy:  0.9422001243008079 Precision:  0.9664784756527875 Recall:  0.7800949367088608 F1 score:  0.8633418554967954\n"
     ]
    },
    {
     "name": "stderr",
     "output_type": "stream",
     "text": [
      "100%|██████████| 1207/1207 [00:03<00:00, 354.83it/s]\n"
     ]
    },
    {
     "name": "stdout",
     "output_type": "stream",
     "text": [
      "Learning rate:  0.002 Regulation:  1e-06 Bath_size: 128\n",
      "RMSE:  tensor(0.7417, grad_fn=<PowBackward0>) MAE:  tensor(0.4693, grad_fn=<L1LossBackward0>)\n",
      "Accuracy:  0.9424331883157241 Precision:  0.9665986341157077 Recall:  0.7793354430379746 F1 score:  0.86292441921581\n"
     ]
    },
    {
     "name": "stderr",
     "output_type": "stream",
     "text": [
      "100%|██████████| 1207/1207 [00:04<00:00, 257.71it/s]\n"
     ]
    },
    {
     "name": "stdout",
     "output_type": "stream",
     "text": [
      "Learning rate:  0.002 Regulation:  1e-06 Bath_size: 128\n",
      "RMSE:  tensor(0.7416, grad_fn=<PowBackward0>) MAE:  tensor(0.4689, grad_fn=<L1LossBackward0>)\n",
      "Accuracy:  0.9423296043090946 Precision:  0.9670532006581525 Recall:  0.7811708860759494 F1 score:  0.8642299478346113\n"
     ]
    },
    {
     "name": "stderr",
     "output_type": "stream",
     "text": [
      "100%|██████████| 1207/1207 [00:04<00:00, 265.16it/s]\n"
     ]
    },
    {
     "name": "stdout",
     "output_type": "stream",
     "text": [
      "Learning rate:  0.002 Regulation:  1e-06 Bath_size: 128\n",
      "RMSE:  tensor(0.7408, grad_fn=<PowBackward0>) MAE:  tensor(0.4676, grad_fn=<L1LossBackward0>)\n",
      "Accuracy:  0.9425367723223534 Precision:  0.9667006589268905 Recall:  0.7799683544303797 F1 score:  0.8633529494185233\n"
     ]
    },
    {
     "name": "stderr",
     "output_type": "stream",
     "text": [
      "100%|██████████| 1207/1207 [00:04<00:00, 277.80it/s]\n"
     ]
    },
    {
     "name": "stdout",
     "output_type": "stream",
     "text": [
      "Learning rate:  0.002 Regulation:  1e-06 Bath_size: 128\n",
      "RMSE:  tensor(0.7411, grad_fn=<PowBackward0>) MAE:  tensor(0.4673, grad_fn=<L1LossBackward0>)\n",
      "Accuracy:  0.9423813963124094 Precision:  0.9668408439083801 Recall:  0.7787658227848101 F1 score:  0.8626715510139694\n"
     ]
    },
    {
     "name": "stderr",
     "output_type": "stream",
     "text": [
      "100%|██████████| 1207/1207 [00:04<00:00, 258.33it/s]\n"
     ]
    },
    {
     "name": "stdout",
     "output_type": "stream",
     "text": [
      "Learning rate:  0.002 Regulation:  1e-06 Bath_size: 128\n",
      "RMSE:  tensor(0.7410, grad_fn=<PowBackward0>) MAE:  tensor(0.4664, grad_fn=<L1LossBackward0>)\n",
      "Accuracy:  0.9425885643256681 Precision:  0.9673223101637802 Recall:  0.7812658227848102 F1 score:  0.8643955043590911\n"
     ]
    },
    {
     "name": "stderr",
     "output_type": "stream",
     "text": [
      "100%|██████████| 1207/1207 [00:03<00:00, 310.01it/s]\n"
     ]
    },
    {
     "name": "stdout",
     "output_type": "stream",
     "text": [
      "Learning rate:  0.002 Regulation:  1e-06 Bath_size: 128\n",
      "RMSE:  tensor(0.7411, grad_fn=<PowBackward0>) MAE:  tensor(0.4660, grad_fn=<L1LossBackward0>)\n",
      "Accuracy:  0.9427439403356122 Precision:  0.9675319582777822 Recall:  0.7808227848101266 F1 score:  0.8642079086546881\n"
     ]
    },
    {
     "name": "stderr",
     "output_type": "stream",
     "text": [
      "100%|██████████| 1207/1207 [00:04<00:00, 300.85it/s]\n"
     ]
    },
    {
     "name": "stdout",
     "output_type": "stream",
     "text": [
      "Learning rate:  0.002 Regulation:  1e-06 Bath_size: 128\n",
      "RMSE:  tensor(0.7405, grad_fn=<PowBackward0>) MAE:  tensor(0.4649, grad_fn=<L1LossBackward0>)\n",
      "Accuracy:  0.9425108763206961 Precision:  0.9673507828748578 Recall:  0.7800949367088608 F1 score:  0.8636897149764379\n"
     ]
    },
    {
     "name": "stderr",
     "output_type": "stream",
     "text": [
      "100%|██████████| 1207/1207 [00:03<00:00, 305.25it/s]\n"
     ]
    },
    {
     "name": "stdout",
     "output_type": "stream",
     "text": [
      "Learning rate:  0.002 Regulation:  1e-06 Bath_size: 128\n",
      "RMSE:  tensor(0.7407, grad_fn=<PowBackward0>) MAE:  tensor(0.4643, grad_fn=<L1LossBackward0>)\n",
      "Accuracy:  0.9426921483322975 Precision:  0.9675834970530451 Recall:  0.7792721518987342 F1 score:  0.8632778264680104\n"
     ]
    },
    {
     "name": "stderr",
     "output_type": "stream",
     "text": [
      "100%|██████████| 1207/1207 [00:04<00:00, 285.08it/s]\n"
     ]
    },
    {
     "name": "stdout",
     "output_type": "stream",
     "text": [
      "Learning rate:  0.002 Regulation:  1e-06 Bath_size: 128\n",
      "RMSE:  tensor(0.7401, grad_fn=<PowBackward0>) MAE:  tensor(0.4635, grad_fn=<L1LossBackward0>)\n",
      "Accuracy:  0.9424331883157241 Precision:  0.9677875549968573 Recall:  0.779620253164557 F1 score:  0.8635726303982053\n"
     ]
    },
    {
     "name": "stderr",
     "output_type": "stream",
     "text": [
      "100%|██████████| 1207/1207 [00:03<00:00, 319.63it/s]\n"
     ]
    },
    {
     "name": "stdout",
     "output_type": "stream",
     "text": [
      "Learning rate:  0.002 Regulation:  1e-06 Bath_size: 128\n",
      "RMSE:  tensor(0.7257, grad_fn=<PowBackward0>) MAE:  tensor(0.4347, grad_fn=<L1LossBackward0>)\n",
      "Accuracy:  0.9437279883985913 Precision:  0.9678394722374931 Recall:  0.7799683544303797 F1 score:  0.8638068201731329\n"
     ]
    },
    {
     "name": "stderr",
     "output_type": "stream",
     "text": [
      "100%|██████████| 1207/1207 [00:04<00:00, 253.40it/s]\n"
     ]
    },
    {
     "name": "stdout",
     "output_type": "stream",
     "text": [
      "Learning rate:  0.002 Regulation:  1e-06 Bath_size: 128\n",
      "RMSE:  tensor(0.7243, grad_fn=<PowBackward0>) MAE:  tensor(0.4303, grad_fn=<L1LossBackward0>)\n",
      "Accuracy:  0.9440128444168221 Precision:  0.9679001687399442 Recall:  0.7805379746835444 F1 score:  0.8641802287896572\n"
     ]
    },
    {
     "name": "stderr",
     "output_type": "stream",
     "text": [
      "100%|██████████| 1207/1207 [00:04<00:00, 268.32it/s]\n"
     ]
    },
    {
     "name": "stdout",
     "output_type": "stream",
     "text": [
      "Learning rate:  0.002 Regulation:  1e-06 Bath_size: 128\n",
      "RMSE:  tensor(0.7240, grad_fn=<PowBackward0>) MAE:  tensor(0.4295, grad_fn=<L1LossBackward0>)\n",
      "Accuracy:  0.9436503003936192 Precision:  0.9679635664088572 Recall:  0.7802215189873418 F1 score:  0.8640114944542764\n"
     ]
    },
    {
     "name": "stderr",
     "output_type": "stream",
     "text": [
      "100%|██████████| 1207/1207 [00:04<00:00, 295.48it/s]\n"
     ]
    },
    {
     "name": "stdout",
     "output_type": "stream",
     "text": [
      "Learning rate:  0.002 Regulation:  1e-06 Bath_size: 128\n",
      "RMSE:  tensor(0.7241, grad_fn=<PowBackward0>) MAE:  tensor(0.4308, grad_fn=<L1LossBackward0>)\n",
      "Accuracy:  0.9435467163869898 Precision:  0.9682968884708832 Recall:  0.7819303797468354 F1 score:  0.8651913582408347\n"
     ]
    }
   ],
   "source": [
    "model_mf = train(lr,mf_factors , reg, batch_size, num_epochs, hehe_test,df_empty)"
   ]
  },
  {
   "cell_type": "code",
   "execution_count": 71,
   "metadata": {},
   "outputs": [],
   "source": [
    "state = { 'model': model_mf.state_dict()}   \n",
    "torch.save(state, 'model_mf.pkl')\n",
    "                    "
   ]
  },
  {
   "cell_type": "code",
   "execution_count": null,
   "metadata": {},
   "outputs": [],
   "source": []
  }
 ],
 "metadata": {
  "kernelspec": {
   "display_name": "Python 3",
   "language": "python",
   "name": "python3"
  },
  "language_info": {
   "codemirror_mode": {
    "name": "ipython",
    "version": 3
   },
   "file_extension": ".py",
   "mimetype": "text/x-python",
   "name": "python",
   "nbconvert_exporter": "python",
   "pygments_lexer": "ipython3",
   "version": "3.6.7"
  },
  "toc": {
   "base_numbering": 1,
   "nav_menu": {},
   "number_sections": true,
   "sideBar": true,
   "skip_h1_title": false,
   "title_cell": "Table of Contents",
   "title_sidebar": "Contents",
   "toc_cell": false,
   "toc_position": {},
   "toc_section_display": true,
   "toc_window_display": false
  }
 },
 "nbformat": 4,
 "nbformat_minor": 4
}
