{
 "cells": [
  {
   "cell_type": "code",
   "execution_count": 13,
   "metadata": {},
   "outputs": [],
   "source": [
    "import pickle\n",
    "import pandas as pd\n",
    "import torch\n",
    "from torch import nn\n",
    "from sklearn.preprocessing import LabelEncoder\n",
    "from concurrent.futures import ProcessPoolExecutor\n",
    "import numpy as np\n",
    "from operator import itemgetter\n",
    "THREADS = 16\n",
    "from sklearn.metrics import precision_score\n",
    "from sklearn.metrics import recall_score\n",
    "from sklearn.metrics import f1_score\n",
    "import time"
   ]
  },
  {
   "cell_type": "code",
   "execution_count": 14,
   "metadata": {},
   "outputs": [],
   "source": [
    "ratings = pd.read_pickle('movie_ratings_500_id.pkl')\n",
    "films = pd.read_pickle('movie_metadata.pkl')"
   ]
  },
  {
   "cell_type": "code",
   "execution_count": 15,
   "metadata": {},
   "outputs": [],
   "source": [
    "row = []\n",
    "for mid,haha in ratings.items():\n",
    "    for info in haha:\n",
    "        info['movie'] = mid\n",
    "        row.append(info)\n",
    "df_ratings = pd.DataFrame(row)\n",
    "row = []\n",
    "for mid,haha in films.items():\n",
    "    haha['movie'] = mid\n",
    "    row.append(haha)\n",
    "df_movie = pd.DataFrame(row)"
   ]
  },
  {
   "cell_type": "code",
   "execution_count": 16,
   "metadata": {},
   "outputs": [],
   "source": [
    "final = pd.merge(df_movie,df_ratings,on='movie')\n",
    "a = final['user_id'].value_counts()[final['user_id'].value_counts() >= 10]\n",
    "final = final[final['user_id'].isin(list(a.index))]\n",
    "final.index = range(len(final))\n",
    "hehe = final.copy()\n",
    "del hehe['title']\n",
    "del hehe['user_rating_date']"
   ]
  },
  {
   "cell_type": "code",
   "execution_count": 17,
   "metadata": {},
   "outputs": [],
   "source": [
    "movie = dict()\n",
    "for i in range(df_movie.shape[0]):\n",
    "    m = df_movie['movie'][i]\n",
    "    movie.setdefault(m,dict())\n",
    "    movie[m]['director'] = df_movie['director'][i]\n",
    "    movie[m]['genre'] = df_movie['genre'][i]\n",
    "    movie[m]['actors'] = df_movie['actors'][i]\n",
    "    movie[m]['title'] = df_movie['title'][i]"
   ]
  },
  {
   "cell_type": "code",
   "execution_count": 18,
   "metadata": {},
   "outputs": [],
   "source": [
    "def map_aspect_values_to_movies(x):\n",
    "    (film, meta), aspect = x\n",
    "    aspects = dict()\n",
    "    if aspect == \"director\":\n",
    "        aspects[meta[aspect]] = 1\n",
    "    else:\n",
    "        for g in meta[aspect]:\n",
    "            aspects[g] = 1\n",
    "    return film, meta, aspects\n",
    "\n",
    "\n",
    "def dict_movie_aspect(paper_films, aspect):\n",
    "    paper_films_aspect_prepended = map(\n",
    "        lambda e: (e, aspect), list(paper_films.items()))\n",
    "    aspect_dict = dict()\n",
    "    with ProcessPoolExecutor(max_workers=THREADS) as executor:\n",
    "        results = executor.map(map_aspect_values_to_movies,\n",
    "                               paper_films_aspect_prepended)\n",
    "    for film, meta, aspects in results:\n",
    "        aspect_dict[film + \"_\" + meta[\"title\"]] = aspects\n",
    "    return aspect_dict"
   ]
  },
  {
   "cell_type": "code",
   "execution_count": 19,
   "metadata": {},
   "outputs": [],
   "source": [
    "movie_genres = dict_movie_aspect(movie, \"genre\")\n",
    "movie_directors = dict_movie_aspect(movie,'director')\n",
    "movie_actors = dict_movie_aspect(movie,'actors')\n",
    "actors = pd.DataFrame.from_dict(movie_actors,dtype = 'int64',orient = 'index').T.replace(np.nan, 0).index\n",
    "directors = pd.DataFrame.from_dict(movie_directors,dtype = 'int64',orient = 'index').T.replace(np.nan, 0).index\n",
    "genres = pd.DataFrame.from_dict(movie_genres,dtype = 'int64',orient = 'index').T.replace(np.nan, 0).index"
   ]
  },
  {
   "cell_type": "code",
   "execution_count": 20,
   "metadata": {},
   "outputs": [
    {
     "data": {
      "text/plain": [
       "(744, 1133, 1153)"
      ]
     },
     "execution_count": 20,
     "metadata": {},
     "output_type": "execute_result"
    }
   ],
   "source": [
    "actors_dict = dict(zip(actors, range(len(actors))))\n",
    "directors_dict = dict(zip(directors, range(\n",
    "    len(actors), len(actors) + len(directors))))\n",
    "genres_dict = dict(zip(genres, range(\n",
    "    len(actors) + len(directors), len(actors) + len(directors) + len(genres))))\n",
    "max(actors_dict.values()),max(directors_dict.values()),max(genres_dict.values())"
   ]
  },
  {
   "cell_type": "code",
   "execution_count": 21,
   "metadata": {},
   "outputs": [],
   "source": [
    "def change_director(x):\n",
    "    return [itemgetter(x)(directors_dict)]\n",
    "\n",
    "\n",
    "def change_actor(x):\n",
    "    return change_list((itemgetter(*x)(actors_dict)))\n",
    "\n",
    "\n",
    "def change_genre(x):\n",
    "    qunima = itemgetter(*x)(genres_dict)\n",
    "    if type(qunima) == int:\n",
    "        return [qunima]\n",
    "    else:\n",
    "        return change_list(qunima)\n",
    "\n",
    "\n",
    "def change_list(x):\n",
    "    return list(x)"
   ]
  },
  {
   "cell_type": "code",
   "execution_count": 22,
   "metadata": {},
   "outputs": [],
   "source": [
    "hehe = final.copy()\n",
    "del hehe['title']\n",
    "del hehe['user_rating_date']"
   ]
  },
  {
   "cell_type": "code",
   "execution_count": 23,
   "metadata": {},
   "outputs": [
    {
     "data": {
      "text/html": [
       "<div>\n",
       "<style scoped>\n",
       "    .dataframe tbody tr th:only-of-type {\n",
       "        vertical-align: middle;\n",
       "    }\n",
       "\n",
       "    .dataframe tbody tr th {\n",
       "        vertical-align: top;\n",
       "    }\n",
       "\n",
       "    .dataframe thead th {\n",
       "        text-align: right;\n",
       "    }\n",
       "</style>\n",
       "<table border=\"1\" class=\"dataframe\">\n",
       "  <thead>\n",
       "    <tr style=\"text-align: right;\">\n",
       "      <th></th>\n",
       "      <th>director</th>\n",
       "      <th>genre</th>\n",
       "      <th>actors</th>\n",
       "      <th>movie</th>\n",
       "      <th>user_rating</th>\n",
       "      <th>user_id</th>\n",
       "    </tr>\n",
       "  </thead>\n",
       "  <tbody>\n",
       "    <tr>\n",
       "      <th>0</th>\n",
       "      <td>Peter Segal</td>\n",
       "      <td>[Comedy]</td>\n",
       "      <td>[Jack Nicholson, Adam Sandler, Marisa Tomei, W...</td>\n",
       "      <td>tt0305224</td>\n",
       "      <td>4</td>\n",
       "      <td>1380819</td>\n",
       "    </tr>\n",
       "    <tr>\n",
       "      <th>1</th>\n",
       "      <td>Peter Segal</td>\n",
       "      <td>[Comedy]</td>\n",
       "      <td>[Jack Nicholson, Adam Sandler, Marisa Tomei, W...</td>\n",
       "      <td>tt0305224</td>\n",
       "      <td>3</td>\n",
       "      <td>185150</td>\n",
       "    </tr>\n",
       "    <tr>\n",
       "      <th>2</th>\n",
       "      <td>Peter Segal</td>\n",
       "      <td>[Comedy]</td>\n",
       "      <td>[Jack Nicholson, Adam Sandler, Marisa Tomei, W...</td>\n",
       "      <td>tt0305224</td>\n",
       "      <td>4</td>\n",
       "      <td>1351377</td>\n",
       "    </tr>\n",
       "    <tr>\n",
       "      <th>3</th>\n",
       "      <td>Peter Segal</td>\n",
       "      <td>[Comedy]</td>\n",
       "      <td>[Jack Nicholson, Adam Sandler, Marisa Tomei, W...</td>\n",
       "      <td>tt0305224</td>\n",
       "      <td>2</td>\n",
       "      <td>386143</td>\n",
       "    </tr>\n",
       "    <tr>\n",
       "      <th>4</th>\n",
       "      <td>Peter Segal</td>\n",
       "      <td>[Comedy]</td>\n",
       "      <td>[Jack Nicholson, Adam Sandler, Marisa Tomei, W...</td>\n",
       "      <td>tt0305224</td>\n",
       "      <td>3</td>\n",
       "      <td>2173336</td>\n",
       "    </tr>\n",
       "    <tr>\n",
       "      <th>...</th>\n",
       "      <td>...</td>\n",
       "      <td>...</td>\n",
       "      <td>...</td>\n",
       "      <td>...</td>\n",
       "      <td>...</td>\n",
       "      <td>...</td>\n",
       "    </tr>\n",
       "    <tr>\n",
       "      <th>193076</th>\n",
       "      <td>Brad Anderson</td>\n",
       "      <td>[Drama, Thriller]</td>\n",
       "      <td>[Christian Bale, Jennifer Jason Leigh, Aitana ...</td>\n",
       "      <td>tt0361862</td>\n",
       "      <td>2</td>\n",
       "      <td>1051070</td>\n",
       "    </tr>\n",
       "    <tr>\n",
       "      <th>193077</th>\n",
       "      <td>Brad Anderson</td>\n",
       "      <td>[Drama, Thriller]</td>\n",
       "      <td>[Christian Bale, Jennifer Jason Leigh, Aitana ...</td>\n",
       "      <td>tt0361862</td>\n",
       "      <td>4</td>\n",
       "      <td>1991545</td>\n",
       "    </tr>\n",
       "    <tr>\n",
       "      <th>193078</th>\n",
       "      <td>Brad Anderson</td>\n",
       "      <td>[Drama, Thriller]</td>\n",
       "      <td>[Christian Bale, Jennifer Jason Leigh, Aitana ...</td>\n",
       "      <td>tt0361862</td>\n",
       "      <td>4</td>\n",
       "      <td>1460015</td>\n",
       "    </tr>\n",
       "    <tr>\n",
       "      <th>193079</th>\n",
       "      <td>Brad Anderson</td>\n",
       "      <td>[Drama, Thriller]</td>\n",
       "      <td>[Christian Bale, Jennifer Jason Leigh, Aitana ...</td>\n",
       "      <td>tt0361862</td>\n",
       "      <td>5</td>\n",
       "      <td>1098265</td>\n",
       "    </tr>\n",
       "    <tr>\n",
       "      <th>193080</th>\n",
       "      <td>Brad Anderson</td>\n",
       "      <td>[Drama, Thriller]</td>\n",
       "      <td>[Christian Bale, Jennifer Jason Leigh, Aitana ...</td>\n",
       "      <td>tt0361862</td>\n",
       "      <td>4</td>\n",
       "      <td>1962894</td>\n",
       "    </tr>\n",
       "  </tbody>\n",
       "</table>\n",
       "<p>193081 rows × 6 columns</p>\n",
       "</div>"
      ],
      "text/plain": [
       "             director              genre  \\\n",
       "0         Peter Segal           [Comedy]   \n",
       "1         Peter Segal           [Comedy]   \n",
       "2         Peter Segal           [Comedy]   \n",
       "3         Peter Segal           [Comedy]   \n",
       "4         Peter Segal           [Comedy]   \n",
       "...               ...                ...   \n",
       "193076  Brad Anderson  [Drama, Thriller]   \n",
       "193077  Brad Anderson  [Drama, Thriller]   \n",
       "193078  Brad Anderson  [Drama, Thriller]   \n",
       "193079  Brad Anderson  [Drama, Thriller]   \n",
       "193080  Brad Anderson  [Drama, Thriller]   \n",
       "\n",
       "                                                   actors      movie  \\\n",
       "0       [Jack Nicholson, Adam Sandler, Marisa Tomei, W...  tt0305224   \n",
       "1       [Jack Nicholson, Adam Sandler, Marisa Tomei, W...  tt0305224   \n",
       "2       [Jack Nicholson, Adam Sandler, Marisa Tomei, W...  tt0305224   \n",
       "3       [Jack Nicholson, Adam Sandler, Marisa Tomei, W...  tt0305224   \n",
       "4       [Jack Nicholson, Adam Sandler, Marisa Tomei, W...  tt0305224   \n",
       "...                                                   ...        ...   \n",
       "193076  [Christian Bale, Jennifer Jason Leigh, Aitana ...  tt0361862   \n",
       "193077  [Christian Bale, Jennifer Jason Leigh, Aitana ...  tt0361862   \n",
       "193078  [Christian Bale, Jennifer Jason Leigh, Aitana ...  tt0361862   \n",
       "193079  [Christian Bale, Jennifer Jason Leigh, Aitana ...  tt0361862   \n",
       "193080  [Christian Bale, Jennifer Jason Leigh, Aitana ...  tt0361862   \n",
       "\n",
       "       user_rating  user_id  \n",
       "0                4  1380819  \n",
       "1                3   185150  \n",
       "2                4  1351377  \n",
       "3                2   386143  \n",
       "4                3  2173336  \n",
       "...            ...      ...  \n",
       "193076           2  1051070  \n",
       "193077           4  1991545  \n",
       "193078           4  1460015  \n",
       "193079           5  1098265  \n",
       "193080           4  1962894  \n",
       "\n",
       "[193081 rows x 6 columns]"
      ]
     },
     "execution_count": 23,
     "metadata": {},
     "output_type": "execute_result"
    }
   ],
   "source": [
    "hehe\n"
   ]
  },
  {
   "cell_type": "code",
   "execution_count": 24,
   "metadata": {},
   "outputs": [],
   "source": [
    "hehe['director'] = hehe['director'].map(change_director)\n",
    "hehe['actors'] = hehe['actors'].map(change_actor)\n",
    "hehe['genre'] = hehe['genre'].map(change_genre)"
   ]
  },
  {
   "cell_type": "code",
   "execution_count": 25,
   "metadata": {},
   "outputs": [],
   "source": [
    "hehe = hehe[['user_id','movie','actors','director','genre','user_rating']]\n",
    "hehe['user_rating'] = hehe['user_rating'].astype('float')"
   ]
  },
  {
   "cell_type": "code",
   "execution_count": 26,
   "metadata": {},
   "outputs": [],
   "source": [
    "le = LabelEncoder()\n",
    "y = le.fit_transform(hehe['user_id'])\n",
    "hehe['user_id'] = y\n",
    "\n",
    "y = le.fit_transform(hehe['movie'])\n",
    "hehe['movie'] = y\n"
   ]
  },
  {
   "cell_type": "code",
   "execution_count": 27,
   "metadata": {},
   "outputs": [
    {
     "name": "stdout",
     "output_type": "stream",
     "text": [
      "The number of aspects is 1154\n",
      "The number of users is 5128\n"
     ]
    }
   ],
   "source": [
    "print(\"The number of aspects is {}\".format(max(genres_dict.values()) + 1))\n",
    "print(\"The number of users is {}\".format(max(hehe['user_id'])+1))"
   ]
  },
  {
   "cell_type": "code",
   "execution_count": 15,
   "metadata": {},
   "outputs": [],
   "source": [
    "trainset = hehe.sample(frac=0.8, random_state=0, axis=0)\n",
    "testset = hehe[~hehe.index.isin(trainset.index)]\n",
    "trainset.index = range(len(trainset))\n",
    "testset.index = range(len(testset))\n",
    "trainset.to_csv('train.csv',index = False)\n",
    "testset.to_csv('test.csv',index = False)\n"
   ]
  },
  {
   "cell_type": "code",
   "execution_count": null,
   "metadata": {},
   "outputs": [],
   "source": []
  }
 ],
 "metadata": {
  "kernelspec": {
   "display_name": "Python 3",
   "language": "python",
   "name": "python3"
  },
  "language_info": {
   "codemirror_mode": {
    "name": "ipython",
    "version": 3
   },
   "file_extension": ".py",
   "mimetype": "text/x-python",
   "name": "python",
   "nbconvert_exporter": "python",
   "pygments_lexer": "ipython3",
   "version": "3.6.7"
  },
  "toc": {
   "base_numbering": 1,
   "nav_menu": {},
   "number_sections": true,
   "sideBar": true,
   "skip_h1_title": false,
   "title_cell": "Table of Contents",
   "title_sidebar": "Contents",
   "toc_cell": false,
   "toc_position": {},
   "toc_section_display": true,
   "toc_window_display": false
  }
 },
 "nbformat": 4,
 "nbformat_minor": 4
}
