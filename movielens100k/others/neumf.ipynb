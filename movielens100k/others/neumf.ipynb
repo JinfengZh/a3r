{
 "cells": [
  {
   "cell_type": "code",
   "execution_count": 21,
   "metadata": {},
   "outputs": [],
   "source": [
    "from neu import NeuMF\n",
    "import pickle\n",
    "import pandas as pd\n",
    "import torch\n",
    "from torch import nn\n",
    "from sklearn.preprocessing import LabelEncoder\n",
    "from concurrent.futures import ProcessPoolExecutor\n",
    "import numpy as np\n",
    "from operator import itemgetter\n",
    "THREADS = 16\n",
    "from sklearn.metrics import precision_score\n",
    "from sklearn.metrics import recall_score\n",
    "from sklearn.metrics import f1_score\n",
    "import time\n",
    "import torch.nn.functional as F\n",
    "loss_func = torch.nn.MSELoss()\n",
    "DEVICE = \"cuda\" if torch.cuda.is_available() else \"cpu\"\n",
    "mlp_factors = 8\n",
    "gmf_factors = 32 \n",
    "layers = [64,32,16,8]"
   ]
  },
  {
   "cell_type": "code",
   "execution_count": 22,
   "metadata": {},
   "outputs": [],
   "source": [
    "def binary_predictions(true_ratings, predicted_ratings):\n",
    "    assert len(true_ratings) == len(predicted_ratings)\n",
    "    binary_true_ratings = []\n",
    "    binary_predicted_ratings = []\n",
    "\n",
    "    for i in range(len(true_ratings)):\n",
    "        if true_ratings[i] >= 3:\n",
    "            binary_true_ratings.append(1)\n",
    "        else:\n",
    "            binary_true_ratings.append(0)\n",
    "\n",
    "        if predicted_ratings[i] >= 3:\n",
    "            binary_predicted_ratings.append(1)\n",
    "        else:\n",
    "            binary_predicted_ratings.append(0)\n",
    "\n",
    "    return precision_score(binary_true_ratings, binary_predicted_ratings), recall_score(binary_true_ratings, binary_predicted_ratings), f1_score(binary_true_ratings, binary_predicted_ratings)"
   ]
  },
  {
   "cell_type": "code",
   "execution_count": 23,
   "metadata": {},
   "outputs": [],
   "source": [
    "def arg_accuracy_int(ratings, predictions):\n",
    "    ratings = ratings.cpu().detach().numpy()\n",
    "    predictions = predictions.cpu().detach().numpy()\n",
    "    total_nr = len(ratings)\n",
    "    total_pred = 0\n",
    "    for i in range(total_nr):\n",
    "        (true_rating, pred_rating) = ratings[i], predictions[i]\n",
    "        if round(pred_rating) >= int(true_rating)-1 and round(pred_rating) <= int(true_rating)+1:\n",
    "            total_pred += 1\n",
    "\n",
    "    return float(total_pred)/total_nr\n",
    "\n",
    "\n",
    "def round_of_rating(number):\n",
    "    return round(number * 2) / 2"
   ]
  },
  {
   "cell_type": "code",
   "execution_count": 24,
   "metadata": {},
   "outputs": [],
   "source": [
    "def RMSE(data, model):\n",
    "    users_index = data.iloc[:, 0].values\n",
    "    users = torch.LongTensor(users_index).to(DEVICE)\n",
    "    items_index = data.iloc[:, 1].values\n",
    "    items = torch.LongTensor(items_index).to(DEVICE)\n",
    "    rating = torch.FloatTensor(data.iloc[:, 5].values).to(DEVICE)\n",
    "    prediction= model(users, items)\n",
    "    rmse = loss_func(prediction, rating)\n",
    "    mae = torch.nn.L1Loss()(prediction, rating)\n",
    "    \n",
    "    p,r,f = binary_predictions(rating, prediction)\n",
    "    accuracy = arg_accuracy_int(rating,prediction)\n",
    "    return rmse ** 0.5,mae,p,r,f, accuracy"
   ]
  },
  {
   "cell_type": "code",
   "execution_count": 25,
   "metadata": {},
   "outputs": [],
   "source": [
    "import json\n",
    "trainset = pd.read_csv('train.csv')\n",
    "testset = pd.read_csv('test.csv')\n",
    "#trainset['user_rating'] = (trainset['user_rating'] + 1) * 2 + 1\n",
    "#testset['user_rating'] = (testset['user_rating'] + 1) * 2 + 1\n",
    "def traite_train_test(df):\n",
    "    df['actors'] = df['actors'].apply(lambda x: json.loads(x))\n",
    "    df['director'] = df['director'].apply(lambda x: json.loads(x))\n",
    "    df['genre'] = df['genre'].apply(lambda x: json.loads(x))\n",
    "    return df\n",
    "trainset = traite_train_test(trainset)\n",
    "testset = traite_train_test(testset)\n",
    "hehe_test = trainset.copy()\n",
    "df_empty = testset.copy()\n",
    "df_empty['user_id'] = df_empty['user_id'].astype('int')\n",
    "df_empty['user_rating'] = df_empty['user_rating'].astype('float')\n",
    "df_empty['movie'] = df_empty['movie'].astype('int')\n",
    "hehe_test.index = range(len(hehe_test))\n",
    "df_empty.index = range(len(df_empty))"
   ]
  },
  {
   "cell_type": "code",
   "execution_count": 26,
   "metadata": {},
   "outputs": [],
   "source": [
    "hehe = pd.concat([hehe_test,df_empty])"
   ]
  },
  {
   "cell_type": "code",
   "execution_count": 27,
   "metadata": {},
   "outputs": [],
   "source": [
    "def train(lr, mlp_factors,gmf_factors, layers, reg, batch_size, num_epochs, train, test):\n",
    "    model = NeuMF(n_users, n_items, mlp_factors,gmf_factors, layers).to(DEVICE)\n",
    "    optimizer = torch.optim.Adam(params=model.parameters(), lr=lr,weight_decay=reg)\n",
    "    scheduler = torch.optim.lr_scheduler.ReduceLROnPlateau(\n",
    "        optimizer, mode='min', factor=0.5, patience=10, threshold_mode='abs',threshold = 0.005)\n",
    "    for epoch in range(num_epochs):\n",
    "        model.train()\n",
    "        t1 = time.time()\n",
    "        num_example = len(train)\n",
    "        indices = list(range(num_example))\n",
    "        for i in tqdm(range(0, num_example, batch_size)):\n",
    "            optimizer.zero_grad()\n",
    "            indexs = indices[i:min(i+batch_size, num_example)]\n",
    "            users_index = train.iloc[:, 0].loc[indexs].values\n",
    "            users = torch.LongTensor(users_index).to(DEVICE)\n",
    "            items_index = train.iloc[:, 1].loc[indexs].values\n",
    "            items = torch.LongTensor(items_index).to(DEVICE)\n",
    "            \n",
    "           \n",
    "            rating = torch.FloatTensor(\n",
    "                train.iloc[:, 5].loc[indexs].values).to(DEVICE)\n",
    "            prediction = model(\n",
    "                users, items)\n",
    "\n",
    "            err = loss_func(prediction, rating) \n",
    "            err.backward()\n",
    "            optimizer.step()\n",
    "        t2 = time.time()\n",
    "        #rmse, mae = RMSE(test, model)\n",
    "        \n",
    "        \n",
    "        rmse, mae, p, r, f, accuracy = RMSE(testset,model)\n",
    "        scheduler.step(rmse)\n",
    "        print(\"Learning rate: \", lr, \"Regulation: \", reg,\"Bath_size:\",batch_size)\n",
    "        print(\"RMSE: \", rmse, \"MAE: \", mae)\n",
    "        print(\"Accuracy: \", accuracy, \"Precision: \", p, \"Recall: \", r, \"F1 score: \", f)\n",
    "    \n",
    "    return model"
   ]
  },
  {
   "cell_type": "code",
   "execution_count": 28,
   "metadata": {},
   "outputs": [],
   "source": [
    "n_users = len(hehe['user_id'].value_counts())\n",
    "n_items = len(hehe['movie'].value_counts())"
   ]
  },
  {
   "cell_type": "code",
   "execution_count": 29,
   "metadata": {},
   "outputs": [
    {
     "name": "stderr",
     "output_type": "stream",
     "text": [
      "100%|██████████| 542/542 [00:11<00:00, 45.18it/s]\n",
      "  1%|          | 5/542 [00:00<00:10, 49.01it/s]"
     ]
    },
    {
     "name": "stdout",
     "output_type": "stream",
     "text": [
      "Learning rate:  0.002 Regulation:  0.0001 Bath_size: 128\n",
      "RMSE:  tensor(1.0718, grad_fn=<PowBackward0>) MAE:  tensor(0.8727, grad_fn=<L1LossBackward>)\n",
      "Accuracy:  0.8259789765507681 Precision:  0.8426065162907268 Recall:  0.9370122630992196 F1 score:  0.8873053576141462\n"
     ]
    },
    {
     "name": "stderr",
     "output_type": "stream",
     "text": [
      "100%|██████████| 542/542 [00:11<00:00, 47.28it/s]\n",
      "  1%|          | 5/542 [00:00<00:12, 43.59it/s]"
     ]
    },
    {
     "name": "stdout",
     "output_type": "stream",
     "text": [
      "Learning rate:  0.002 Regulation:  0.0001 Bath_size: 128\n",
      "RMSE:  tensor(1.0141, grad_fn=<PowBackward0>) MAE:  tensor(0.8103, grad_fn=<L1LossBackward>)\n",
      "Accuracy:  0.8635208501790459 Precision:  0.8602797019997386 Recall:  0.9172240802675585 F1 score:  0.8878397518041411\n"
     ]
    },
    {
     "name": "stderr",
     "output_type": "stream",
     "text": [
      "100%|██████████| 542/542 [00:11<00:00, 48.16it/s]\n",
      "  1%|          | 5/542 [00:00<00:11, 47.33it/s]"
     ]
    },
    {
     "name": "stdout",
     "output_type": "stream",
     "text": [
      "Learning rate:  0.002 Regulation:  0.0001 Bath_size: 128\n",
      "RMSE:  tensor(0.9845, grad_fn=<PowBackward0>) MAE:  tensor(0.7804, grad_fn=<L1LossBackward>)\n",
      "Accuracy:  0.8758230333833892 Precision:  0.8758469646157006 Recall:  0.8916527313266444 F1 score:  0.8836791768808478\n"
     ]
    },
    {
     "name": "stderr",
     "output_type": "stream",
     "text": [
      "100%|██████████| 542/542 [00:10<00:00, 49.59it/s]\n",
      "  1%|          | 6/542 [00:00<00:10, 52.12it/s]"
     ]
    },
    {
     "name": "stdout",
     "output_type": "stream",
     "text": [
      "Learning rate:  0.002 Regulation:  0.0001 Bath_size: 128\n",
      "RMSE:  tensor(0.9703, grad_fn=<PowBackward0>) MAE:  tensor(0.7674, grad_fn=<L1LossBackward>)\n",
      "Accuracy:  0.8813099226059836 Precision:  0.884620776671807 Recall:  0.8793199554069119 F1 score:  0.881962401285904\n"
     ]
    },
    {
     "name": "stderr",
     "output_type": "stream",
     "text": [
      "100%|██████████| 542/542 [00:10<00:00, 50.81it/s]\n",
      "  1%|          | 5/542 [00:00<00:10, 49.94it/s]"
     ]
    },
    {
     "name": "stdout",
     "output_type": "stream",
     "text": [
      "Learning rate:  0.002 Regulation:  0.0001 Bath_size: 128\n",
      "RMSE:  tensor(0.9633, grad_fn=<PowBackward0>) MAE:  tensor(0.7608, grad_fn=<L1LossBackward>)\n",
      "Accuracy:  0.8854684070694235 Precision:  0.8880022597274204 Recall:  0.8761845039018952 F1 score:  0.882053800021043\n"
     ]
    },
    {
     "name": "stderr",
     "output_type": "stream",
     "text": [
      "100%|██████████| 542/542 [00:11<00:00, 48.62it/s]\n",
      "  1%|          | 6/542 [00:00<00:10, 52.36it/s]"
     ]
    },
    {
     "name": "stdout",
     "output_type": "stream",
     "text": [
      "Learning rate:  0.002 Regulation:  0.0001 Bath_size: 128\n",
      "RMSE:  tensor(0.9599, grad_fn=<PowBackward0>) MAE:  tensor(0.7573, grad_fn=<L1LossBackward>)\n",
      "Accuracy:  0.8866235416426014 Precision:  0.8900694149312934 Recall:  0.8755574136008919 F1 score:  0.882753775904461\n"
     ]
    },
    {
     "name": "stderr",
     "output_type": "stream",
     "text": [
      "100%|██████████| 542/542 [00:10<00:00, 51.76it/s]\n",
      "  1%|          | 6/542 [00:00<00:10, 51.91it/s]"
     ]
    },
    {
     "name": "stdout",
     "output_type": "stream",
     "text": [
      "Learning rate:  0.002 Regulation:  0.0001 Bath_size: 128\n",
      "RMSE:  tensor(0.9580, grad_fn=<PowBackward0>) MAE:  tensor(0.7551, grad_fn=<L1LossBackward>)\n",
      "Accuracy:  0.8875476493011436 Precision:  0.8913536498936924 Recall:  0.8763238573021181 F1 score:  0.8837748577050101\n"
     ]
    },
    {
     "name": "stderr",
     "output_type": "stream",
     "text": [
      "100%|██████████| 542/542 [00:10<00:00, 50.35it/s]\n",
      "  1%|          | 6/542 [00:00<00:10, 51.54it/s]"
     ]
    },
    {
     "name": "stdout",
     "output_type": "stream",
     "text": [
      "Learning rate:  0.002 Regulation:  0.0001 Bath_size: 128\n",
      "RMSE:  tensor(0.9547, grad_fn=<PowBackward0>) MAE:  tensor(0.7518, grad_fn=<L1LossBackward>)\n",
      "Accuracy:  0.8892225944322514 Precision:  0.8930067447639333 Recall:  0.8763935340022296 F1 score:  0.8846221472025881\n"
     ]
    },
    {
     "name": "stderr",
     "output_type": "stream",
     "text": [
      "100%|██████████| 542/542 [00:10<00:00, 51.05it/s]\n",
      "  1%|          | 6/542 [00:00<00:10, 52.90it/s]"
     ]
    },
    {
     "name": "stdout",
     "output_type": "stream",
     "text": [
      "Learning rate:  0.002 Regulation:  0.0001 Bath_size: 128\n",
      "RMSE:  tensor(0.9436, grad_fn=<PowBackward0>) MAE:  tensor(0.7414, grad_fn=<L1LossBackward>)\n",
      "Accuracy:  0.8929767817950791 Precision:  0.8954276339253869 Recall:  0.8746516164994426 F1 score:  0.8849176976490077\n"
     ]
    },
    {
     "name": "stderr",
     "output_type": "stream",
     "text": [
      "100%|██████████| 542/542 [00:12<00:00, 41.88it/s]\n",
      "  1%|          | 5/542 [00:00<00:11, 45.79it/s]"
     ]
    },
    {
     "name": "stdout",
     "output_type": "stream",
     "text": [
      "Learning rate:  0.002 Regulation:  0.0001 Bath_size: 128\n",
      "RMSE:  tensor(0.9392, grad_fn=<PowBackward0>) MAE:  tensor(0.7373, grad_fn=<L1LossBackward>)\n",
      "Accuracy:  0.893034538523738 Precision:  0.8982212021230813 Recall:  0.8725613154960981 F1 score:  0.8852053438891638\n"
     ]
    },
    {
     "name": "stderr",
     "output_type": "stream",
     "text": [
      "100%|██████████| 542/542 [00:11<00:00, 47.78it/s]\n",
      "  1%|          | 5/542 [00:00<00:10, 49.38it/s]"
     ]
    },
    {
     "name": "stdout",
     "output_type": "stream",
     "text": [
      "Learning rate:  0.002 Regulation:  0.0001 Bath_size: 128\n",
      "RMSE:  tensor(0.9376, grad_fn=<PowBackward0>) MAE:  tensor(0.7361, grad_fn=<L1LossBackward>)\n",
      "Accuracy:  0.8948249971121636 Precision:  0.9011695062084898 Recall:  0.8697742474916388 F1 score:  0.8851935895617644\n"
     ]
    },
    {
     "name": "stderr",
     "output_type": "stream",
     "text": [
      "100%|██████████| 542/542 [00:12<00:00, 44.83it/s]\n",
      "  1%|          | 4/542 [00:00<00:15, 35.86it/s]"
     ]
    },
    {
     "name": "stdout",
     "output_type": "stream",
     "text": [
      "Learning rate:  0.002 Regulation:  0.0001 Bath_size: 128\n",
      "RMSE:  tensor(0.9394, grad_fn=<PowBackward0>) MAE:  tensor(0.7373, grad_fn=<L1LossBackward>)\n",
      "Accuracy:  0.8937853759963036 Precision:  0.9018031718444492 Recall:  0.8676839464882943 F1 score:  0.8844146159582401\n"
     ]
    },
    {
     "name": "stderr",
     "output_type": "stream",
     "text": [
      "100%|██████████| 542/542 [00:13<00:00, 41.41it/s]\n",
      "  1%|          | 5/542 [00:00<00:11, 46.62it/s]"
     ]
    },
    {
     "name": "stdout",
     "output_type": "stream",
     "text": [
      "Learning rate:  0.002 Regulation:  0.0001 Bath_size: 128\n",
      "RMSE:  tensor(0.9422, grad_fn=<PowBackward0>) MAE:  tensor(0.7389, grad_fn=<L1LossBackward>)\n",
      "Accuracy:  0.892514727965808 Precision:  0.9024832994481556 Recall:  0.8660117056856187 F1 score:  0.8838714265396103\n"
     ]
    },
    {
     "name": "stderr",
     "output_type": "stream",
     "text": [
      "100%|██████████| 542/542 [00:11<00:00, 55.74it/s]\n",
      "  1%|          | 6/542 [00:00<00:09, 56.96it/s]"
     ]
    },
    {
     "name": "stdout",
     "output_type": "stream",
     "text": [
      "Learning rate:  0.002 Regulation:  0.0001 Bath_size: 128\n",
      "RMSE:  tensor(0.9468, grad_fn=<PowBackward0>) MAE:  tensor(0.7417, grad_fn=<L1LossBackward>)\n",
      "Accuracy:  0.891475106849948 Precision:  0.9019935972060535 Recall:  0.8637820512820513 F1 score:  0.8824743735763098\n"
     ]
    },
    {
     "name": "stderr",
     "output_type": "stream",
     "text": [
      "100%|██████████| 542/542 [00:11<00:00, 48.37it/s]\n"
     ]
    },
    {
     "name": "stdout",
     "output_type": "stream",
     "text": [
      "Learning rate:  0.002 Regulation:  0.0001 Bath_size: 128\n",
      "RMSE:  tensor(0.9521, grad_fn=<PowBackward0>) MAE:  tensor(0.7451, grad_fn=<L1LossBackward>)\n",
      "Accuracy:  0.8898001617188402 Precision:  0.9016058394160584 Recall:  0.8606465997770345 F1 score:  0.8806502210181093\n"
     ]
    }
   ],
   "source": [
    "from tqdm import tqdm\n",
    "lr = 0.002\n",
    "reg = 1e-4\n",
    "batch_size = 128\n",
    "num_epochs = 15\n",
    "model_neumf = train(lr, mlp_factors,gmf_factors, layers, reg, batch_size, num_epochs, hehe_test,df_empty)"
   ]
  },
  {
   "cell_type": "code",
   "execution_count": 30,
   "metadata": {},
   "outputs": [],
   "source": [
    "state = { 'model': model_neumf.state_dict()}   \n",
    "torch.save(state, 'model_neumf.pkl')\n",
    "                    "
   ]
  },
  {
   "cell_type": "code",
   "execution_count": null,
   "metadata": {},
   "outputs": [],
   "source": []
  }
 ],
 "metadata": {
  "kernelspec": {
   "display_name": "py37-caffe-notebook",
   "language": "python",
   "name": "py37-caffe-notebook"
  },
  "language_info": {
   "codemirror_mode": {
    "name": "ipython",
    "version": 3
   },
   "file_extension": ".py",
   "mimetype": "text/x-python",
   "name": "python",
   "nbconvert_exporter": "python",
   "pygments_lexer": "ipython3",
   "version": "3.6.7"
  },
  "toc": {
   "base_numbering": 1,
   "nav_menu": {},
   "number_sections": true,
   "sideBar": true,
   "skip_h1_title": false,
   "title_cell": "Table of Contents",
   "title_sidebar": "Contents",
   "toc_cell": false,
   "toc_position": {},
   "toc_section_display": true,
   "toc_window_display": false
  }
 },
 "nbformat": 4,
 "nbformat_minor": 2
}
